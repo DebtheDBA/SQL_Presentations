{
    "metadata": {
        "kernelspec": {
            "name": "SQL",
            "display_name": "SQL",
            "language": "sql"
        },
        "language_info": {
            "name": "sql",
            "version": ""
        }
    },
    "nbformat_minor": 2,
    "nbformat": 4,
    "cells": [
        {
            "cell_type": "markdown",
            "source": [
                "# Create dummy database to test transaction log growth.\n",
                "\n",
                "Yes, the scenario will be very lop-sided, but that's the point"
            ],
            "metadata": {
                "azdata_cell_guid": "ae934396-e07d-485e-baed-b9816a38669c"
            }
        },
        {
            "cell_type": "markdown",
            "source": [
                "Create database:"
            ],
            "metadata": {
                "azdata_cell_guid": "d7ab9eaf-3aae-47e1-8a00-e59e57e93fa1"
            }
        },
        {
            "cell_type": "code",
            "source": [
                "CREATE DATABASE [TLogGrowth_Test]\r\n",
                " ON  PRIMARY \r\n",
                "( NAME = N'TLogGrowth_Test', FILENAME = N'C:\\Program Files\\Microsoft SQL Server\\MSSQL15.SQL2019\\MSSQL\\DATA\\TLogGrowth_Test.mdf' , SIZE = 8192KB , FILEGROWTH = 65536KB )\r\n",
                " LOG ON \r\n",
                "( NAME = N'TLogGrowth_Test_log', FILENAME = N'C:\\Program Files\\Microsoft SQL Server\\MSSQL15.SQL2019\\MSSQL\\DATA\\TLogGrowth_Test_log.ldf' , SIZE = 8192KB , FILEGROWTH = 65536KB )\r\n",
                "GO\r\n",
                "\r\n",
                "USE TLogGrowth_Test\r\n",
                "GO"
            ],
            "metadata": {
                "azdata_cell_guid": "195e3518-a546-46a2-a114-43e2d11db62e"
            },
            "outputs": [],
            "execution_count": null
        },
        {
            "cell_type": "markdown",
            "source": [
                "Create tables: Parent and Child."
            ],
            "metadata": {
                "azdata_cell_guid": "e2337337-d7b1-42d7-ae0f-2bfb51681b10"
            }
        },
        {
            "cell_type": "code",
            "source": [
                "USE TLogGrowth_Test\r\n",
                "GO\r\n",
                "\r\n",
                "CREATE TABLE dbo.Parent (Parent_Key varchar(10) NOT NULL PRIMARY KEY CLUSTERED)\r\n",
                "GO\r\n",
                "\r\n",
                "CREATE TABLE dbo.Child (Child_Key int IDENTITY(1, 1) PRIMARY KEY CLUSTERED,\r\n",
                "    Parent_Key varchar(10) NOT NULL, \r\n",
                "    CONSTRAINT FK_Child_Parent FOREIGN KEY (Parent_Key) REFERENCES dbo.Parent (Parent_Key)\r\n",
                "        ON DELETE CASCADE ON UPDATE CASCADE\r\n",
                "    )\r\n",
                "GO"
            ],
            "metadata": {
                "azdata_cell_guid": "b62e0d1e-626c-4f1e-a84d-fca8b0950e1c"
            },
            "outputs": [],
            "execution_count": null
        },
        {
            "cell_type": "markdown",
            "source": [
                "Create data. One Parent record and 1 million Child records"
            ],
            "metadata": {
                "azdata_cell_guid": "fd8a86bc-3bbe-4fba-9374-25395c84aec5"
            }
        },
        {
            "cell_type": "code",
            "source": [
                "INSERT INTO dbo.Parent (Parent_Key) VALUES ('Parent Rec');"
            ],
            "metadata": {
                "azdata_cell_guid": "9d20eef9-45b1-429f-8222-fc2c702754d3"
            },
            "outputs": [],
            "execution_count": null
        },
        {
            "cell_type": "code",
            "source": [
                "INSERT INTO dbo.Child (Parent_Key) SELECT Parent_Key FROM Parent;\r\n",
                "\r\n",
                "WHILE (select count(*) from dbo.Child) < 1000000\r\n",
                "BEGIN\r\n",
                "    INSERT INTO dbo.Child (Parent_Key)\r\n",
                "    SELECT Parent_Key FROM dbo.Child\r\n",
                "END\r\n",
                ""
            ],
            "metadata": {
                "azdata_cell_guid": "4727827e-749e-4cf1-b5c3-bc6704b83dbd"
            },
            "outputs": [],
            "execution_count": null
        },
        {
            "cell_type": "code",
            "source": [
                "SELECT count(*) FROM dbo.Child"
            ],
            "metadata": {
                "azdata_cell_guid": "937b4aba-ca5d-48a9-8b40-d8f02706a3d5"
            },
            "outputs": [],
            "execution_count": null
        },
        {
            "cell_type": "markdown",
            "source": [
                "Confirm the size of the database"
            ],
            "metadata": {
                "azdata_cell_guid": "ce5d9440-6dcc-4b36-8873-c4f8a7b0bdf3"
            }
        },
        {
            "cell_type": "code",
            "source": [
                "SELECT name, size/1024 as SizeInMB FROM sys.database_files"
            ],
            "metadata": {
                "azdata_cell_guid": "6145c909-a7a3-42d0-a2b8-a3c5195a4461"
            },
            "outputs": [],
            "execution_count": null
        },
        {
            "cell_type": "markdown",
            "source": [
                "Update Parent Record"
            ],
            "metadata": {
                "azdata_cell_guid": "3eaab3ac-dc1c-48cf-b7c4-26f0921e23bc"
            }
        },
        {
            "cell_type": "code",
            "source": [
                "UPDATE Parent SET Parent_Key = 'My Parent' WHERE Parent_Key = 'Parent Rec'"
            ],
            "metadata": {
                "azdata_cell_guid": "6db76b63-949e-40c0-8c65-704ddae4e33f"
            },
            "outputs": [],
            "execution_count": null
        },
        {
            "cell_type": "markdown",
            "source": [
                "Now check the transaction log size again:"
            ],
            "metadata": {
                "azdata_cell_guid": "1a4b28da-e8d1-443f-a4c3-50688aa366fa"
            }
        },
        {
            "cell_type": "code",
            "source": [
                "SELECT name, size/1024 as SizeInMB FROM sys.database_files"
            ],
            "metadata": {
                "azdata_cell_guid": "69394478-b9db-4c00-a674-9b5e852ba74b"
            },
            "outputs": [],
            "execution_count": null
        },
        {
            "cell_type": "markdown",
            "source": [
                "Let's read from the transaction logs themselves:"
            ],
            "metadata": {
                "azdata_cell_guid": "5521894b-a4ab-4d67-b786-3e77e7072d7f"
            }
        },
        {
            "cell_type": "code",
            "source": [
                "SELECT  count_BIG(*)\r\n",
                "FROM fn_dblog(NULL,NULL)"
            ],
            "metadata": {
                "azdata_cell_guid": "4cd0b71e-5a3e-4902-9483-7c55c5e08fd7"
            },
            "outputs": [],
            "execution_count": null
        },
        {
            "cell_type": "code",
            "source": [
                "SELECT [Transaction ID], count(*)\r\n",
                "FROM fn_dblog(NULL,NULL)\r\n",
                "GROUP BY [Transaction ID]\r\n",
                "ORDER BY count(*) DESC"
            ],
            "metadata": {
                "azdata_cell_guid": "dc426e91-84d6-4c2a-9072-badc17ef4afe"
            },
            "outputs": [],
            "execution_count": null
        },
        {
            "cell_type": "code",
            "source": [
                "SELECT Operation, count(*) FROM fn_dblog(NULL,NULL) WHERE [Transaction ID] = '0000:0000125d'\n",
                "GROUP BY Operation"
            ],
            "metadata": {
                "azdata_cell_guid": "9c719b59-57c1-4b46-8fcc-04a3e8dbfbac"
            },
            "outputs": [],
            "execution_count": null
        },
        {
            "cell_type": "markdown",
            "source": [
                "What if there was an index on that foreign key?"
            ],
            "metadata": {
                "azdata_cell_guid": "d852165d-1acc-44fc-9d17-c8bd2206fbb2"
            }
        },
        {
            "cell_type": "code",
            "source": [
                "CREATE NONCLUSTERED INDEX IDX_Child_Parent ON dbo.Child (Parent_Key)"
            ],
            "metadata": {
                "azdata_cell_guid": "643387fe-2c2d-496b-9df9-6a2f8a726d27"
            },
            "outputs": [],
            "execution_count": null
        },
        {
            "cell_type": "code",
            "source": [
                "UPDATE Parent SET Parent_Key = 'Parent 1' WHERE Parent_Key = 'My Parent'"
            ],
            "metadata": {
                "azdata_cell_guid": "55f0b0a7-e997-4606-b341-2e214f226377"
            },
            "outputs": [],
            "execution_count": null
        },
        {
            "cell_type": "markdown",
            "source": [
                "Now let's check the sizes again....."
            ],
            "metadata": {
                "azdata_cell_guid": "74355058-9f7b-4fce-bc64-96af574f3e65"
            }
        },
        {
            "cell_type": "code",
            "source": [
                "SELECT name, size/1024 as SizeInMB FROM sys.database_files"
            ],
            "metadata": {
                "azdata_cell_guid": "41edc53d-50b1-4a75-9ba0-bf2a50ecbc1c"
            },
            "outputs": [],
            "execution_count": null
        },
        {
            "cell_type": "code",
            "source": [
                "SELECT [Transaction ID], count(*)\r\n",
                "FROM fn_dblog(NULL,NULL)\r\n",
                "GROUP BY [Transaction ID]\r\n",
                "ORDER BY count(*) DESC"
            ],
            "metadata": {
                "azdata_cell_guid": "5bb7300a-c2cb-4167-a374-d6caf5fb1fec"
            },
            "outputs": [],
            "execution_count": null
        },
        {
            "cell_type": "code",
            "source": [
                "select Operation, count(*) FROM fn_dblog(NULL,NULL) WHERE [Transaction ID] = '0000:000012c3'\r\n",
                "GROUP BY Operation"
            ],
            "metadata": {
                "azdata_cell_guid": "71043a74-3642-4671-9f92-5ad3dddd45ec"
            },
            "outputs": [],
            "execution_count": null
        },
        {
            "cell_type": "markdown",
            "source": [
                "Now what happens when something like CDC gets thrown in the mix?"
            ],
            "metadata": {
                "azdata_cell_guid": "022619f5-6b31-461d-9d98-aa74f8b56bff"
            }
        },
        {
            "cell_type": "code",
            "source": [
                "-- Enable CDC\r\n",
                "EXECUTE sys.sp_cdc_enable_db;  \r\n",
                "GO  \r\n",
                "\r\n",
                "-- enable CDC on Child\r\n",
                "EXEC sys.sp_cdc_enable_table   \r\n",
                "   @source_schema = N'dbo',\r\n",
                "   @source_name   = N'Child',\r\n",
                "   @role_name     = NULL,\r\n",
                "   @filegroup_name = N'Primary',\r\n",
                "   @supports_net_changes = 0\r\n",
                "GO"
            ],
            "metadata": {
                "azdata_cell_guid": "2ab565f8-5713-4e72-beaa-159d68408d8b",
                "tags": []
            },
            "outputs": [],
            "execution_count": null
        },
        {
            "cell_type": "code",
            "source": [
                "UPDATE Parent SET Parent_Key = 'Parent CDC' WHERE Parent_Key = 'Parent 1'"
            ],
            "metadata": {
                "azdata_cell_guid": "f88a44fb-492e-430f-a3de-fe9d41f5c929"
            },
            "outputs": [],
            "execution_count": null
        },
        {
            "cell_type": "markdown",
            "source": [
                "Let's do some CDC monitoring: (fromhttps://docs.microsoft.com/en-us/sql/relational-databases/system-dynamic-management-views/change-data-capture-sys-dm-cdc-log-scan-sessions?view=sql-server-ver15)"
            ],
            "metadata": {
                "azdata_cell_guid": "9ee2e62d-e4b8-46e8-a6de-dd90bc464c7b"
            }
        },
        {
            "cell_type": "code",
            "source": [
                "SELECT session_id, start_time, end_time, duration, scan_phase,  \r\n",
                "    error_count, start_lsn, current_lsn, end_lsn, tran_count,  \r\n",
                "    last_commit_lsn, last_commit_time, log_record_count, schema_change_count,  \r\n",
                "    command_count, first_begin_cdc_lsn, last_commit_cdc_lsn,   \r\n",
                "    last_commit_cdc_time, latency, empty_scan_count, failed_sessions_count  \r\n",
                "FROM sys.dm_cdc_log_scan_sessions ;\r\n",
                ""
            ],
            "metadata": {
                "azdata_cell_guid": "2173e249-218f-4ca5-a873-44e72be1616a",
                "tags": []
            },
            "outputs": [],
            "execution_count": null
        },
        {
            "cell_type": "markdown",
            "source": [
                "Now let's check out our database and log size:"
            ],
            "metadata": {
                "azdata_cell_guid": "babd21d7-4376-4a0a-8a96-9783458fd35c"
            }
        },
        {
            "cell_type": "code",
            "source": [
                "SELECT name, size/1024 as SizeInMB FROM sys.database_files"
            ],
            "metadata": {
                "azdata_cell_guid": "0fa77b59-0069-4809-a455-0a83497124f7"
            },
            "outputs": [],
            "execution_count": null
        },
        {
            "cell_type": "code",
            "source": [
                "SELECT [Transaction ID], count(*)\r\n",
                "FROM fn_dblog(NULL,NULL)\r\n",
                "GROUP BY [Transaction ID]\r\n",
                "ORDER BY count(*) DESC"
            ],
            "metadata": {
                "azdata_cell_guid": "a1864ecf-8309-425a-9b03-fc2978833562"
            },
            "outputs": [],
            "execution_count": null
        },
        {
            "cell_type": "code",
            "source": [
                "select Operation, count(*) FROM fn_dblog(NULL,NULL) WHERE [Transaction ID] = '0000:000034c1'\r\n",
                "GROUP BY Operation"
            ],
            "metadata": {
                "azdata_cell_guid": "c2b40449-01d3-44ef-a0bb-10c226df1b54"
            },
            "outputs": [],
            "execution_count": null
        },
        {
            "cell_type": "markdown",
            "source": [
                "So what does this mean for my cdc data?"
            ],
            "metadata": {
                "azdata_cell_guid": "0093ae3a-4a69-46ef-b75f-06a53f496a70"
            }
        },
        {
            "cell_type": "code",
            "source": [
                "Select * FROM cdc.dbo_Child_CT"
            ],
            "metadata": {
                "azdata_cell_guid": "aae7adb6-e5ff-485c-9c6e-342913c4a775"
            },
            "outputs": [],
            "execution_count": null
        },
        {
            "cell_type": "markdown",
            "source": [
                "Time to clean up"
            ],
            "metadata": {
                "azdata_cell_guid": "16eb7c58-8f78-40da-9013-67c2ceab38b3"
            }
        },
        {
            "cell_type": "code",
            "source": [
                "-- Disable CDC\n",
                "EXECUTE sys.sp_cdc_disable_db;  \n",
                "GO  \n",
                "\n",
                "\n",
                "USE [master]\n",
                "GO\n",
                "ALTER DATABASE [TLogGrowth_Test] SET  SINGLE_USER WITH ROLLBACK IMMEDIATE\n",
                "GO\n",
                "\n",
                "DROP DATABASE [TLogGrowth_Test]\n",
                "GO\n",
                ""
            ],
            "metadata": {
                "azdata_cell_guid": "b150ca7e-f2ff-41a0-ba3d-da23b7617df8"
            },
            "outputs": [],
            "execution_count": null
        }
    ]
}