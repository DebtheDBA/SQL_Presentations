{
    "metadata": {
        "kernelspec": {
            "name": "SQL",
            "display_name": "SQL",
            "language": "sql"
        },
        "language_info": {
            "name": "sql",
            "version": ""
        }
    },
    "nbformat_minor": 2,
    "nbformat": 4,
    "cells": [
        {
            "cell_type": "markdown",
            "source": [
                "# Troubleshooting the ETL Load\n",
                "\n",
                "## **Scenario**\n",
                "\n",
                "Andy the Intern has been tasked with the ETL load tasks. Lately, the database operations team has been receiving reports of various repeating errors. This workbook contains queries that the developers would like to look at so they can identify the errors and prioritize them for bug fixes.\n",
                "\n",
                "**Please Note:**\n",
                "\n",
                "<mark>The developers would like to see the results so they request that a copy of this file is made and saved in the client folder, along with the results, so they can determine if it's a problem with this particular client's file or if it's a bug in the ETL.</mark>"
            ],
            "metadata": {
                "azdata_cell_guid": "e24f11e5-f0f6-4dbf-b132-53dd0eed7660"
            }
        },
        {
            "cell_type": "markdown",
            "source": [
                "## Bad Dates\r\n",
                "Are there any history records outside of 2020?\r\n",
                "\r\n",
                "System only created/launched 2020-Jan-01, so there should be no records between then and today\r\n",
                "\r\n",
                "**If any records are found**: the source file should be re-examined. "
            ],
            "metadata": {
                "azdata_cell_guid": "06d304dc-7fd2-4399-ab9f-d68e3dc7b4b7"
            }
        },
        {
            "cell_type": "code",
            "source": [
                "SELECT\r\n",
                "\tGood_Deed_Timestamp,\r\n",
                "\tPerson.First_Name,\r\n",
                "\tPerson.Last_Name,\r\n",
                "\tGood_Deed_Type.Good_Deed_Type_Name,\r\n",
                "\tGood_Deed_History.Good_Deed_Description,\r\n",
                "\tGood_Deed_History.Good_Deed_History_ID\r\n",
                "FROM Good_Deed_History\r\n",
                "INNER JOIN dbo.Person\r\n",
                "\tON Good_Deed_History.Good_Deed_Person_ID = Person.Person_ID\r\n",
                "INNER JOIN Good_Deed_Type\r\n",
                "\tON Good_Deed_History.Good_Deed_Type_ID = Good_Deed_Type.Good_Deed_Type_ID\r\n",
                "WHERE Good_Deed_History.Good_Deed_Timestamp NOT BETWEEN '2020-01-01' AND GETDATE();"
            ],
            "metadata": {
                "azdata_cell_guid": "27054742-be13-4198-8c2b-d9442734493b",
                "language": "sql"
            },
            "outputs": [
                {
                    "output_type": "display_data",
                    "data": {
                        "text/html": "(4 rows affected)"
                    },
                    "metadata": {}
                },
                {
                    "output_type": "display_data",
                    "data": {
                        "text/html": "Total execution time: 00:00:00.038"
                    },
                    "metadata": {}
                },
                {
                    "output_type": "execute_result",
                    "execution_count": 1,
                    "data": {
                        "application/vnd.dataresource+json": {
                            "schema": {
                                "fields": [
                                    {
                                        "name": "Good_Deed_Timestamp"
                                    },
                                    {
                                        "name": "First_Name"
                                    },
                                    {
                                        "name": "Last_Name"
                                    },
                                    {
                                        "name": "Good_Deed_Type_Name"
                                    },
                                    {
                                        "name": "Good_Deed_Description"
                                    },
                                    {
                                        "name": "Good_Deed_History_ID"
                                    }
                                ]
                            },
                            "data": [
                                {
                                    "0": "2010-05-20 00:00:00.000",
                                    "1": "May",
                                    "2": "Parker",
                                    "3": "Help person",
                                    "4": "Consoled Peter over loss of Uncle Ben",
                                    "5": "3"
                                },
                                {
                                    "0": "1950-01-01 00:00:00.000",
                                    "1": "Peggy",
                                    "2": "Carter",
                                    "3": "Stop crime",
                                    "4": "Stopped money laundering by Hydra",
                                    "5": "14"
                                },
                                {
                                    "0": "1950-01-01 00:00:00.000",
                                    "1": "Peggy",
                                    "2": "Carter",
                                    "3": "Save city",
                                    "4": "Foiled Hydra",
                                    "5": "15"
                                },
                                {
                                    "0": "1950-01-01 00:00:00.000",
                                    "1": "Peggy",
                                    "2": "Carter",
                                    "3": "Defeat supervillan",
                                    "4": "Stopped band of Red Skull impersonators",
                                    "5": "16"
                                }
                            ]
                        },
                        "text/html": "<table><tr><th>Good_Deed_Timestamp</th><th>First_Name</th><th>Last_Name</th><th>Good_Deed_Type_Name</th><th>Good_Deed_Description</th><th>Good_Deed_History_ID</th></tr><tr><td>2010-05-20 00:00:00.000</td><td>May</td><td>Parker</td><td>Help person</td><td>Consoled Peter over loss of Uncle Ben</td><td>3</td></tr><tr><td>1950-01-01 00:00:00.000</td><td>Peggy</td><td>Carter</td><td>Stop crime</td><td>Stopped money laundering by Hydra</td><td>14</td></tr><tr><td>1950-01-01 00:00:00.000</td><td>Peggy</td><td>Carter</td><td>Save city</td><td>Foiled Hydra</td><td>15</td></tr><tr><td>1950-01-01 00:00:00.000</td><td>Peggy</td><td>Carter</td><td>Defeat supervillan</td><td>Stopped band of Red Skull impersonators</td><td>16</td></tr></table>"
                    },
                    "metadata": {}
                }
            ],
            "execution_count": 1
        },
        {
            "cell_type": "markdown",
            "source": [
                "Check ETL error log for any load errors."
            ],
            "metadata": {
                "azdata_cell_guid": "66f8d646-456e-40f4-8635-4eeabd091c7c"
            }
        },
        {
            "cell_type": "code",
            "source": [
                "SELECT *\r\n",
                "FROM dbo.ETL_Error_Log\r\n",
                "ORDER BY ETL_Error_Log_ID;"
            ],
            "metadata": {
                "azdata_cell_guid": "7c048fcc-aefe-41db-9c99-65620f2bb1ba",
                "tags": [],
                "language": "sql"
            },
            "outputs": [
                {
                    "output_type": "display_data",
                    "data": {
                        "text/html": "(6 rows affected)"
                    },
                    "metadata": {}
                },
                {
                    "output_type": "display_data",
                    "data": {
                        "text/html": "Total execution time: 00:00:00.033"
                    },
                    "metadata": {}
                },
                {
                    "output_type": "execute_result",
                    "execution_count": 2,
                    "data": {
                        "application/vnd.dataresource+json": {
                            "schema": {
                                "fields": [
                                    {
                                        "name": "ETL_Error_Log_ID"
                                    },
                                    {
                                        "name": "Error_Description"
                                    },
                                    {
                                        "name": "CSV_Data"
                                    },
                                    {
                                        "name": "Error_Timestamp"
                                    }
                                ]
                            },
                            "data": [
                                {
                                    "0": "1",
                                    "1": "Good Deed not found",
                                    "2": "Peggy Carter,Foiled Hydra,Save city,NULL",
                                    "3": "2020-05-19 00:00:00.000"
                                },
                                {
                                    "0": "2",
                                    "1": "Person not found",
                                    "2": "Tony Stark,Defeated the Mandarin,Defeat supervillan,",
                                    "3": "2020-05-19 00:00:00.000"
                                },
                                {
                                    "0": "3",
                                    "1": "Person not found",
                                    "2": "Melkin Deborah,Help person,Prevented intern from dropping Prod,NULL",
                                    "3": "2020-05-19 00:00:00.000"
                                },
                                {
                                    "0": "4",
                                    "1": "Translation error",
                                    "2": "Zero Wing,All your base are belong to us,All your base are belong to us,NULL",
                                    "3": "2020-05-19 00:00:00.000"
                                },
                                {
                                    "0": "5",
                                    "1": "Translation error",
                                    "2": "Zero Wing,Somebody set up us the bomb,Somebody set up us the bomb,NULL",
                                    "3": "2020-05-19 00:00:00.000"
                                },
                                {
                                    "0": "6",
                                    "1": "Mismatched number of Values",
                                    "2": "Zero Wing,You have no chance to survive make your time,NULL",
                                    "3": "2020-05-19 00:00:00.000"
                                }
                            ]
                        },
                        "text/html": "<table><tr><th>ETL_Error_Log_ID</th><th>Error_Description</th><th>CSV_Data</th><th>Error_Timestamp</th></tr><tr><td>1</td><td>Good Deed not found</td><td>Peggy Carter,Foiled Hydra,Save city,NULL</td><td>2020-05-19 00:00:00.000</td></tr><tr><td>2</td><td>Person not found</td><td>Tony Stark,Defeated the Mandarin,Defeat supervillan,</td><td>2020-05-19 00:00:00.000</td></tr><tr><td>3</td><td>Person not found</td><td>Melkin Deborah,Help person,Prevented intern from dropping Prod,NULL</td><td>2020-05-19 00:00:00.000</td></tr><tr><td>4</td><td>Translation error</td><td>Zero Wing,All your base are belong to us,All your base are belong to us,NULL</td><td>2020-05-19 00:00:00.000</td></tr><tr><td>5</td><td>Translation error</td><td>Zero Wing,Somebody set up us the bomb,Somebody set up us the bomb,NULL</td><td>2020-05-19 00:00:00.000</td></tr><tr><td>6</td><td>Mismatched number of Values</td><td>Zero Wing,You have no chance to survive make your time,NULL</td><td>2020-05-19 00:00:00.000</td></tr></table>"
                    },
                    "metadata": {}
                }
            ],
            "execution_count": 2
        },
        {
            "cell_type": "markdown",
            "source": [
                "## Person Not Found\r\n",
                "\r\n",
                "This is a common error. \r\n",
                "* If the person exists in the database but the name is backwards, the file needs to be fixed.\r\n",
                "* If the person does not exist in the database, we need to confirm whether they need to be added. If so, please create a ticket to add so the file can be re-run."
            ],
            "metadata": {
                "azdata_cell_guid": "44ce6c94-61d2-4c29-80ab-a79eacdd012f"
            }
        },
        {
            "cell_type": "code",
            "source": [
                "SELECT *\r\n",
                "FROM dbo.ETL_Error_Log\r\n",
                "WHERE Error_Description = 'Person not found';"
            ],
            "metadata": {
                "azdata_cell_guid": "7dbd92ad-bbf6-4570-aab4-5d9d11577845",
                "language": "sql"
            },
            "outputs": [
                {
                    "output_type": "display_data",
                    "data": {
                        "text/html": "(2 rows affected)"
                    },
                    "metadata": {}
                },
                {
                    "output_type": "display_data",
                    "data": {
                        "text/html": "Total execution time: 00:00:00.039"
                    },
                    "metadata": {}
                },
                {
                    "output_type": "execute_result",
                    "execution_count": 3,
                    "data": {
                        "application/vnd.dataresource+json": {
                            "schema": {
                                "fields": [
                                    {
                                        "name": "ETL_Error_Log_ID"
                                    },
                                    {
                                        "name": "Error_Description"
                                    },
                                    {
                                        "name": "CSV_Data"
                                    },
                                    {
                                        "name": "Error_Timestamp"
                                    }
                                ]
                            },
                            "data": [
                                {
                                    "0": "2",
                                    "1": "Person not found",
                                    "2": "Tony Stark,Defeated the Mandarin,Defeat supervillan,",
                                    "3": "2020-05-19 00:00:00.000"
                                },
                                {
                                    "0": "3",
                                    "1": "Person not found",
                                    "2": "Melkin Deborah,Help person,Prevented intern from dropping Prod,NULL",
                                    "3": "2020-05-19 00:00:00.000"
                                }
                            ]
                        },
                        "text/html": "<table><tr><th>ETL_Error_Log_ID</th><th>Error_Description</th><th>CSV_Data</th><th>Error_Timestamp</th></tr><tr><td>2</td><td>Person not found</td><td>Tony Stark,Defeated the Mandarin,Defeat supervillan,</td><td>2020-05-19 00:00:00.000</td></tr><tr><td>3</td><td>Person not found</td><td>Melkin Deborah,Help person,Prevented intern from dropping Prod,NULL</td><td>2020-05-19 00:00:00.000</td></tr></table>"
                    },
                    "metadata": {}
                }
            ],
            "execution_count": 3
        },
        {
            "cell_type": "code",
            "source": [
                "SELECT 'Names are reversed:', *\r\n",
                "FROM dbo.Person\r\n",
                "INNER JOIN (\r\n",
                "\tSELECT *\r\n",
                "\tFROM dbo.ETL_Error_Log\r\n",
                "\t\tCROSS APPLY STRING_SPLIT(CSV_Data, ',') AS Split_CSV_Data\r\n",
                "\tWHERE Error_Description = 'Person not found'\r\n",
                ") AS Split_CSV_Data\r\n",
                "\tON (Person.Last_Name + ' ' + Person.First_Name) = Split_CSV_Data.value\r\n",
                ""
            ],
            "metadata": {
                "azdata_cell_guid": "cad33c53-2a39-492b-9910-84788cc5b926",
                "language": "sql"
            },
            "outputs": [
                {
                    "output_type": "display_data",
                    "data": {
                        "text/html": "(1 row affected)"
                    },
                    "metadata": {}
                },
                {
                    "output_type": "display_data",
                    "data": {
                        "text/html": "Total execution time: 00:00:00.052"
                    },
                    "metadata": {}
                },
                {
                    "output_type": "execute_result",
                    "execution_count": 4,
                    "data": {
                        "application/vnd.dataresource+json": {
                            "schema": {
                                "fields": [
                                    {
                                        "name": "(No column name)"
                                    },
                                    {
                                        "name": "Person_ID"
                                    },
                                    {
                                        "name": "First_Name"
                                    },
                                    {
                                        "name": "Last_Name"
                                    },
                                    {
                                        "name": "ETL_Error_Log_ID"
                                    },
                                    {
                                        "name": "Error_Description"
                                    },
                                    {
                                        "name": "CSV_Data"
                                    },
                                    {
                                        "name": "Error_Timestamp"
                                    },
                                    {
                                        "name": "value"
                                    }
                                ]
                            },
                            "data": [
                                {
                                    "0": "Names are reversed:",
                                    "1": "10",
                                    "2": "Deborah",
                                    "3": "Melkin",
                                    "4": "3",
                                    "5": "Person not found",
                                    "6": "Melkin Deborah,Help person,Prevented intern from dropping Prod,NULL",
                                    "7": "2020-05-19 00:00:00.000",
                                    "8": "Melkin Deborah"
                                }
                            ]
                        },
                        "text/html": "<table><tr><th>(No column name)</th><th>Person_ID</th><th>First_Name</th><th>Last_Name</th><th>ETL_Error_Log_ID</th><th>Error_Description</th><th>CSV_Data</th><th>Error_Timestamp</th><th>value</th></tr><tr><td>Names are reversed:</td><td>10</td><td>Deborah</td><td>Melkin</td><td>3</td><td>Person not found</td><td>Melkin Deborah,Help person,Prevented intern from dropping Prod,NULL</td><td>2020-05-19 00:00:00.000</td><td>Melkin Deborah</td></tr></table>"
                    },
                    "metadata": {}
                }
            ],
            "execution_count": 4
        },
        {
            "cell_type": "code",
            "source": [
                "SELECT 'Person needs to be added:', *\r\n",
                "FROM dbo.ETL_Error_Log\r\n",
                "WHERE Error_Description = 'Person not found'\r\n",
                "\tAND ETL_Error_Log_ID NOT IN ( \r\n",
                "\t\tSELECT ETL_Error_Log_ID\r\n",
                "\t\tFROM dbo.Person\r\n",
                "\t\tINNER JOIN (\r\n",
                "\t\t\tSELECT *\r\n",
                "\t\t\tFROM dbo.ETL_Error_Log\r\n",
                "\t\t\t\tCROSS APPLY STRING_SPLIT(CSV_Data, ',') AS Split_CSV_Data\r\n",
                "\t\t\tWHERE Error_Description = 'Person not found'\r\n",
                "\t\t) AS Split_CSV_Data\r\n",
                "\t\t\tON (Person.Last_Name + ' ' + Person.First_Name) = Split_CSV_Data.value\r\n",
                "\t);\r\n",
                ""
            ],
            "metadata": {
                "azdata_cell_guid": "7a1dba26-74a9-409a-8549-00e2db8664d4",
                "language": "sql"
            },
            "outputs": [
                {
                    "output_type": "display_data",
                    "data": {
                        "text/html": "(1 row affected)"
                    },
                    "metadata": {}
                },
                {
                    "output_type": "display_data",
                    "data": {
                        "text/html": "Total execution time: 00:00:02.513"
                    },
                    "metadata": {}
                },
                {
                    "output_type": "execute_result",
                    "execution_count": 5,
                    "data": {
                        "application/vnd.dataresource+json": {
                            "schema": {
                                "fields": [
                                    {
                                        "name": "(No column name)"
                                    },
                                    {
                                        "name": "ETL_Error_Log_ID"
                                    },
                                    {
                                        "name": "Error_Description"
                                    },
                                    {
                                        "name": "CSV_Data"
                                    },
                                    {
                                        "name": "Error_Timestamp"
                                    }
                                ]
                            },
                            "data": [
                                {
                                    "0": "Person needs to be added:",
                                    "1": "2",
                                    "2": "Person not found",
                                    "3": "Tony Stark,Defeated the Mandarin,Defeat supervillan,",
                                    "4": "2020-05-19 00:00:00.000"
                                }
                            ]
                        },
                        "text/html": "<table><tr><th>(No column name)</th><th>ETL_Error_Log_ID</th><th>Error_Description</th><th>CSV_Data</th><th>Error_Timestamp</th></tr><tr><td>Person needs to be added:</td><td>2</td><td>Person not found</td><td>Tony Stark,Defeated the Mandarin,Defeat supervillan,</td><td>2020-05-19 00:00:00.000</td></tr></table>"
                    },
                    "metadata": {}
                }
            ],
            "execution_count": 5
        },
        {
            "cell_type": "markdown",
            "source": [
                "Since there is someone who doesn't exist in the database and it's not a simple name reversal, confirm the list of people in the database."
            ],
            "metadata": {
                "azdata_cell_guid": "7d5f637d-ec8b-418b-8250-7ed7ba2ca61d"
            }
        },
        {
            "cell_type": "code",
            "source": [
                "SELECT *\r\n",
                "FROM dbo.Person\r\n",
                "ORDER BY Person_ID;"
            ],
            "metadata": {
                "azdata_cell_guid": "dc773b66-b8c2-4fe6-90b0-1001778439ee",
                "language": "sql"
            },
            "outputs": [
                {
                    "output_type": "display_data",
                    "data": {
                        "text/html": "(15 rows affected)"
                    },
                    "metadata": {}
                },
                {
                    "output_type": "display_data",
                    "data": {
                        "text/html": "Total execution time: 00:00:00.017"
                    },
                    "metadata": {}
                },
                {
                    "output_type": "execute_result",
                    "execution_count": 6,
                    "data": {
                        "application/vnd.dataresource+json": {
                            "schema": {
                                "fields": [
                                    {
                                        "name": "Person_ID"
                                    },
                                    {
                                        "name": "First_Name"
                                    },
                                    {
                                        "name": "Last_Name"
                                    }
                                ]
                            },
                            "data": [
                                {
                                    "0": "2",
                                    "1": "Diana",
                                    "2": "Prince"
                                },
                                {
                                    "0": "3",
                                    "1": "Linda",
                                    "2": "Danvers"
                                },
                                {
                                    "0": "4",
                                    "1": "Selina",
                                    "2": "Kyle"
                                },
                                {
                                    "0": "5",
                                    "1": "May",
                                    "2": "Parker"
                                },
                                {
                                    "0": "6",
                                    "1": "Natasha",
                                    "2": "Romanoff"
                                },
                                {
                                    "0": "7",
                                    "1": "Ororo",
                                    "2": "Munroe"
                                },
                                {
                                    "0": "10",
                                    "1": "Deborah",
                                    "2": "Melkin"
                                },
                                {
                                    "0": "11",
                                    "1": "Peggy",
                                    "2": "Carter"
                                },
                                {
                                    "0": "12",
                                    "1": "Doctor",
                                    "2": "Who"
                                },
                                {
                                    "0": "13",
                                    "1": "xXx",
                                    "2": "aAa"
                                },
                                {
                                    "0": "14",
                                    "1": "yYy",
                                    "2": "bBb"
                                },
                                {
                                    "0": "15",
                                    "1": "zZz",
                                    "2": "cCc"
                                },
                                {
                                    "0": "16",
                                    "1": "Doctor",
                                    "2": "Doom"
                                },
                                {
                                    "0": "17",
                                    "1": "Lex",
                                    "2": "Luthor"
                                },
                                {
                                    "0": "18",
                                    "1": "The",
                                    "2": "Master"
                                }
                            ]
                        },
                        "text/html": "<table><tr><th>Person_ID</th><th>First_Name</th><th>Last_Name</th></tr><tr><td>2</td><td>Diana</td><td>Prince</td></tr><tr><td>3</td><td>Linda</td><td>Danvers</td></tr><tr><td>4</td><td>Selina</td><td>Kyle</td></tr><tr><td>5</td><td>May</td><td>Parker</td></tr><tr><td>6</td><td>Natasha</td><td>Romanoff</td></tr><tr><td>7</td><td>Ororo</td><td>Munroe</td></tr><tr><td>10</td><td>Deborah</td><td>Melkin</td></tr><tr><td>11</td><td>Peggy</td><td>Carter</td></tr><tr><td>12</td><td>Doctor</td><td>Who</td></tr><tr><td>13</td><td>xXx</td><td>aAa</td></tr><tr><td>14</td><td>yYy</td><td>bBb</td></tr><tr><td>15</td><td>zZz</td><td>cCc</td></tr><tr><td>16</td><td>Doctor</td><td>Doom</td></tr><tr><td>17</td><td>Lex</td><td>Luthor</td></tr><tr><td>18</td><td>The</td><td>Master</td></tr></table>"
                    },
                    "metadata": {}
                }
            ],
            "execution_count": 6
        },
        {
            "cell_type": "markdown",
            "source": [
                "There is a client with known bad data for the Person file that cannot be changed. We know which records they are by the last name. We already have permission to remove those records. \r\n",
                "\r\n",
                "Here is the code you need to execute. Please run both the SELECT and DELETE statements in case there are new unexpected records being created for this bad data file:"
            ],
            "metadata": {
                "azdata_cell_guid": "062761c7-3289-4aea-8c57-d4d1a95fc259"
            }
        },
        {
            "cell_type": "code",
            "source": [
                "SELECT * FROM Person\r\n",
                "WHERE Last_Name IN ('aAa', 'bBb', 'cCc')"
            ],
            "metadata": {
                "azdata_cell_guid": "88392913-38b2-45f7-a6e1-a78c92f9cd2b",
                "language": "sql"
            },
            "outputs": [
                {
                    "output_type": "display_data",
                    "data": {
                        "text/html": "(3 rows affected)"
                    },
                    "metadata": {}
                },
                {
                    "output_type": "display_data",
                    "data": {
                        "text/html": "Total execution time: 00:00:00.018"
                    },
                    "metadata": {}
                },
                {
                    "output_type": "execute_result",
                    "execution_count": 7,
                    "data": {
                        "application/vnd.dataresource+json": {
                            "schema": {
                                "fields": [
                                    {
                                        "name": "Person_ID"
                                    },
                                    {
                                        "name": "First_Name"
                                    },
                                    {
                                        "name": "Last_Name"
                                    }
                                ]
                            },
                            "data": [
                                {
                                    "0": "13",
                                    "1": "xXx",
                                    "2": "aAa"
                                },
                                {
                                    "0": "14",
                                    "1": "yYy",
                                    "2": "bBb"
                                },
                                {
                                    "0": "15",
                                    "1": "zZz",
                                    "2": "cCc"
                                }
                            ]
                        },
                        "text/html": "<table><tr><th>Person_ID</th><th>First_Name</th><th>Last_Name</th></tr><tr><td>13</td><td>xXx</td><td>aAa</td></tr><tr><td>14</td><td>yYy</td><td>bBb</td></tr><tr><td>15</td><td>zZz</td><td>cCc</td></tr></table>"
                    },
                    "metadata": {}
                }
            ],
            "execution_count": 7
        },
        {
            "cell_type": "code",
            "source": [
                "DELETE FROM Person\r\n",
                "WHERE Last_Name IN ('aAa', 'bBb', 'cCc')"
            ],
            "metadata": {
                "azdata_cell_guid": "5ca0e8ab-4230-4ccd-afde-9ee57cf9294d",
                "language": "sql"
            },
            "outputs": [
                {
                    "output_type": "display_data",
                    "data": {
                        "text/html": "(3 rows affected)"
                    },
                    "metadata": {}
                },
                {
                    "output_type": "display_data",
                    "data": {
                        "text/html": "Total execution time: 00:00:00.021"
                    },
                    "metadata": {}
                }
            ],
            "execution_count": 8
        },
        {
            "cell_type": "markdown",
            "source": [
                "## Good Deed Not Found\r\n",
                "There is a set list of Good Deeds:\r\n",
                "* Foiled Hydra\r\n",
                "* Rescue animal\r\n",
                "* Stop crime\r\n",
                "* Help person\r\n",
                "* Save city\r\n",
                "* Defeat supervillan\r\n",
                "\r\n",
                "First confirm whether the good deed that was not found should exist."
            ],
            "metadata": {
                "azdata_cell_guid": "2d3e445d-a5db-47f4-b09d-189fd59ec1f9"
            }
        },
        {
            "cell_type": "code",
            "source": [
                "WITH Error_Log_CTE AS (\r\n",
                "\tSELECT *, ROW_NUMBER() OVER(PARTITION BY ETL_Error_Log_ID ORDER BY (SELECT NULL)) AS CSV_ID\r\n",
                "\tFROM dbo.ETL_Error_Log\r\n",
                "\t\tCROSS APPLY STRING_SPLIT(CSV_Data, ',') AS Split_CSV_Data\r\n",
                "\tWHERE Error_Description = 'Good Deed not found'\r\n",
                ")\r\n",
                "SELECT value\r\n",
                "FROM Error_Log_CTE\r\n",
                "WHERE CSV_ID = 2;\r\n",
                ""
            ],
            "metadata": {
                "azdata_cell_guid": "96d44f17-d6e0-4fb1-be9b-d5121d7ed46f",
                "language": "sql"
            },
            "outputs": [
                {
                    "output_type": "display_data",
                    "data": {
                        "text/html": "(1 row affected)"
                    },
                    "metadata": {}
                },
                {
                    "output_type": "display_data",
                    "data": {
                        "text/html": "Total execution time: 00:00:00.015"
                    },
                    "metadata": {}
                },
                {
                    "output_type": "execute_result",
                    "execution_count": 9,
                    "data": {
                        "application/vnd.dataresource+json": {
                            "schema": {
                                "fields": [
                                    {
                                        "name": "value"
                                    }
                                ]
                            },
                            "data": [
                                {
                                    "0": "Foiled Hydra"
                                }
                            ]
                        },
                        "text/html": "<table><tr><th>value</th></tr><tr><td>Foiled Hydra</td></tr></table>"
                    },
                    "metadata": {}
                }
            ],
            "execution_count": 9
        },
        {
            "cell_type": "markdown",
            "source": [
                "Next determine whether the good deed table is populated properly."
            ],
            "metadata": {
                "azdata_cell_guid": "7b537187-eb63-4e23-8888-d0ddb7874640"
            }
        },
        {
            "cell_type": "code",
            "source": [
                "SELECT Good_Deed_Type_Name\r\n",
                "FROM dbo.Good_Deed_Type\r\n",
                "ORDER BY Good_Deed_Type_Name;"
            ],
            "metadata": {
                "azdata_cell_guid": "5b4f724d-8cad-47c8-a487-4ce689ff30c5",
                "language": "sql"
            },
            "outputs": [
                {
                    "output_type": "display_data",
                    "data": {
                        "text/html": "(10 rows affected)"
                    },
                    "metadata": {}
                },
                {
                    "output_type": "display_data",
                    "data": {
                        "text/html": "Total execution time: 00:00:00.013"
                    },
                    "metadata": {}
                },
                {
                    "output_type": "execute_result",
                    "execution_count": 10,
                    "data": {
                        "application/vnd.dataresource+json": {
                            "schema": {
                                "fields": [
                                    {
                                        "name": "Good_Deed_Type_Name"
                                    }
                                ]
                            },
                            "data": [
                                {
                                    "0": "Defeat supervillan"
                                },
                                {
                                    "0": "Dominate world"
                                },
                                {
                                    "0": "Embarrass hero"
                                },
                                {
                                    "0": "HeLp PeRsOn"
                                },
                                {
                                    "0": "hElP pErSon"
                                },
                                {
                                    "0": "Help person"
                                },
                                {
                                    "0": "Rescue animal"
                                },
                                {
                                    "0": "Save city"
                                },
                                {
                                    "0": "Steal from poor, give to self"
                                },
                                {
                                    "0": "Stop crime"
                                }
                            ]
                        },
                        "text/html": "<table><tr><th>Good_Deed_Type_Name</th></tr><tr><td>Defeat supervillan</td></tr><tr><td>Dominate world</td></tr><tr><td>Embarrass hero</td></tr><tr><td>HeLp PeRsOn</td></tr><tr><td>hElP pErSon</td></tr><tr><td>Help person</td></tr><tr><td>Rescue animal</td></tr><tr><td>Save city</td></tr><tr><td>Steal from poor, give to self</td></tr><tr><td>Stop crime</td></tr></table>"
                    },
                    "metadata": {}
                }
            ],
            "execution_count": 10
        }
    ]
}