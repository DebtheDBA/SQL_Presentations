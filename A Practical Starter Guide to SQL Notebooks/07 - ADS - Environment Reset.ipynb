{
 "metadata": {
  "kernelspec": {
   "name": ".net-csharp",
   "display_name": ".NET (C#)",
   "language": "C#"
  },
  "language_info": {
   "name": "C#"
  }
 },
 "nbformat": 4,
 "nbformat_minor": 2,
 "cells": [
  {
   "cell_type": "markdown",
   "source": [
    "# <u> Reset Test Environment </u>\n",
    "\n",
    "This notebook will use C#, SQL and PowerShell\n",
    "\n",
    "\n",
    "Use this notebook to reset my test environment for the \"Practical Starter Guide to SQL Notebooks\" session.\n",
    "\n",
    "<b>NOTE:</b> This works best if no tools are open and this tool has everything closed as well."
   ],
   "metadata": {
    "azdata_cell_guid": "4c64d6c1-efb9-4b8b-8b0c-bbd38ce414bf"
   }
  },
  {
   "cell_type": "markdown",
   "source": [
    "Pull down the .NET interactive packages for connecting to SQL Server before starting.\n",
    "\n",
    "NOTE. You can also specify the specific version of the code you want to use. If so, it could look something like this:\n",
    "\n",
    "```\n",
    "#r \"nuget: Microsoft.DotNet.Interactive.SqlServer, 1.0.0-beta.22405.1\"\n",
    "```"
   ],
   "metadata": {
    "dotnet_interactive": {
     "language": "csharp"
    },
    "azdata_cell_guid": "0827de8b-6f67-4645-8f67-b84ffddf5543"
   }
  },
  {
   "cell_type": "code",
   "execution_count": null,
   "source": [
    "#r \"nuget:Microsoft.DotNet.Interactive.SqlServer,*-*\""
   ],
   "outputs": [],
   "metadata": {
    "dotnet_interactive": {
     "language": "csharp"
    },
    "vscode": {
     "languageId": "dotnet-interactive.csharp"
    },
    "azdata_cell_guid": "da087335-b200-413d-9525-a9d4a1939143",
    "language": "dotnet-interactive.csharp",
    "tags": []
   }
  },
  {
   "cell_type": "markdown",
   "source": [
    "## <u>SQL Server clean up:</u>\n",
    "\n",
    "- Restore the Superheroes back to the original version for this session"
   ],
   "metadata": {
    "azdata_cell_guid": "0be53f32-d86f-4162-b469-0ee547bbb9d0"
   }
  },
  {
   "cell_type": "code",
   "execution_count": null,
   "source": [
    "#!connect mssql --kernel-name mydatabase \"Persist Security Info=False; Integrated Security=true; Initial Catalog=master; Server=localhost\\sql2019\""
   ],
   "outputs": [],
   "metadata": {
    "dotnet_interactive": {
     "language": "sql"
    },
    "vscode": {
     "languageId": "dotnet-interactive.sql"
    },
    "azdata_cell_guid": "a7f9b66d-7594-4293-9779-f1b670872cb7",
    "language": "dotnet-interactive.sql"
   }
  },
  {
   "cell_type": "code",
   "execution_count": null,
   "source": [
    "#!sql-mydatabase\n",
    "\n",
    "DECLARE @session varchar(30), @backupfile nvarchar(300), @today DATE = getdate()\n",
    "\n",
    "SELECT @Session = 'PracticalStarterGuide'\n",
    "SELECT @backupfile = 'C:\\GitRepo\\SQL_Presentations\\Superhero Demo DB Setup\\Superheroes_SQL2019_' + @Session + '_Initial.BAK'\n",
    "SELECT @backupfile\n",
    "\n",
    "DECLARE @backuplogname nvarchar(50) = 'Superheroes_LogBackup' + convert(varchar(10), @today) + '.BAK'\n",
    "\n",
    "ALTER DATABASE Superheroes SET SINGLE_USER WITH ROLLBACK IMMEDIATE;\n",
    "\n",
    "\n",
    "RESTORE DATABASE [Superheroes] \n",
    "FROM  DISK = @backupfile WITH  FILE = 1, \n",
    "    NOUNLOAD,  REPLACE,  STATS = 5;\n",
    "\n",
    "ALTER DATABASE Superheroes SET MULTI_USER;\n"
   ],
   "outputs": [],
   "metadata": {
    "dotnet_interactive": {
     "language": "sql"
    },
    "vscode": {
     "languageId": "dotnet-interactive.sql"
    },
    "azdata_cell_guid": "120da6ef-3546-4c35-b014-3a0dae34669b",
    "language": "dotnet-interactive.sql"
   }
  },
  {
   "cell_type": "markdown",
   "source": [
    "## <u>Directory Clean Up:</u>\n",
    "\n",
    "Clean up directories\n",
    "\n",
    "- Delete the database project directory, if that was included in the demos.\n",
    "- Remove the docker container"
   ],
   "metadata": {
    "azdata_cell_guid": "1898921c-217e-42f2-bdd2-b3979d2d57a7"
   }
  },
  {
   "cell_type": "code",
   "execution_count": null,
   "source": [
    "$dbprojlocation = \"C:\\GitRepo\\SQL_Presentations\\A Practical Starter Guide to SQL Notebooks\"\n",
    "\n",
    "Get-ChildItem -Path $dbprojlocation | WHERE {$_.Name -like 'Superheroes*'} | ForEach-Object {\n",
    "    $name = $_.FullName\n",
    "\n",
    "    write-host \"Removing item $name ...\"\n",
    "    Remove-Item $name -Recurse -Force\n",
    "}"
   ],
   "outputs": [],
   "metadata": {
    "dotnet_interactive": {
     "language": "pwsh"
    },
    "vscode": {
     "languageId": "dotnet-interactive.pwsh"
    },
    "azdata_cell_guid": "a002c2b1-950c-4953-94eb-ab4bc4eb5cd3",
    "language": "dotnet-interactive.pwsh",
    "tags": []
   }
  },
  {
   "cell_type": "code",
   "execution_count": null,
   "source": [
    "docker container stop PracticalStarterGuide\n",
    "docker rm PracticalStarterGuide"
   ],
   "outputs": [],
   "metadata": {
    "dotnet_interactive": {
     "language": "pwsh"
    },
    "vscode": {
     "languageId": "dotnet-interactive.pwsh"
    },
    "azdata_cell_guid": "d1987b8b-d4a9-4790-a3df-939427029a09",
    "language": "dotnet-interactive.pwsh"
   }
  },
  {
   "cell_type": "markdown",
   "source": [
    "Open the following websites in a browser:\n",
    "\n",
    "<a link = \"https://dbatools.io/commands/\"> https://dbatools.io/commands/ </a><br>\n",
    "<a link = \"https://www.ssmstoolspack.com/\"> https://www.ssmstoolspack.com/ </a><br>\n",
    "<a link = \"https://am2.co/2018/02/updated-cheat-sheet/\"> https://am2.co/2018/02/updated-cheat-sheet/ </a>\n"
   ],
   "metadata": {
    "azdata_cell_guid": "85a1c9cf-cfbf-4289-a7f4-46c47512f5d4"
   }
  }
 ]
}