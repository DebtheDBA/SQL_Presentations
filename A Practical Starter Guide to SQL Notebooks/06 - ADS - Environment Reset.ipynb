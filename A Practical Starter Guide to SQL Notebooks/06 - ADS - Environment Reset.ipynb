{
 "metadata": {
  "kernelspec": {
   "name": ".net-csharp",
   "display_name": ".NET (C#)",
   "language": "C#"
  },
  "language_info": {
   "name": "C#"
  }
 },
 "nbformat": 4,
 "nbformat_minor": 2,
 "cells": [
  {
   "cell_type": "markdown",
   "source": [
    "# <u> Reset Test Environment </u>\n",
    "\n",
    "This notebook will use C#, SQL and PowerShell\n",
    "\n",
    "\n",
    "Use this notebook to reset my test environment for the \"Practical Starter Guide to SQL Notebooks\" session.\n",
    "\n",
    "<b>NOTE:</b> This works best if no tools are open and this tool has everything closed as well."
   ],
   "metadata": {
    "azdata_cell_guid": "4c64d6c1-efb9-4b8b-8b0c-bbd38ce414bf"
   }
  },
  {
   "cell_type": "markdown",
   "source": [
    "Pull down the .NET interactive packages for connecting to SQL Server before starting:"
   ],
   "metadata": {
    "dotnet_interactive": {
     "language": "csharp"
    },
    "azdata_cell_guid": "0827de8b-6f67-4645-8f67-b84ffddf5543"
   }
  },
  {
   "cell_type": "code",
   "execution_count": null,
   "source": [
    "#r \"nuget:Microsoft.DotNet.Interactive.SqlServer,*-*\""
   ],
   "outputs": [],
   "metadata": {
    "dotnet_interactive": {
     "language": "csharp"
    },
    "vscode": {
     "languageId": "dotnet-interactive.csharp"
    },
    "azdata_cell_guid": "da087335-b200-413d-9525-a9d4a1939143",
    "language": "dotnet-interactive.csharp"
   }
  },
  {
   "cell_type": "markdown",
   "source": [
    "## <u>Copy SQL Server Backup File:</u>\n",
    "\n",
    "- Make sure the backup is in the shared directory"
   ],
   "metadata": {
    "azdata_cell_guid": "30b9625d-cf0f-4c29-8190-fda814a25cee"
   }
  },
  {
   "cell_type": "code",
   "execution_count": null,
   "source": [
    "$session = 'PracticalStarterGuide'\r\n",
    "$backupfile = 'C:\\GitRepo\\SQL_Presentations\\Superhero Demo DB Setup\\Superheroes_SQL2019_' + $Session + '_Initial.BAK'\r\n",
    "\r\n",
    "Copy-Item $backupfile -Destination 'L:\\Backups\\Superheroes'"
   ],
   "outputs": [],
   "metadata": {
    "azdata_cell_guid": "de98439b-ec8f-4afb-b562-09740ea59ee2",
    "language": "dotnet-interactive.pwsh",
    "dotnet_interactive": {
     "language": "pwsh"
    }
   }
  },
  {
   "cell_type": "markdown",
   "source": [
    "## <u> SQL Server clean up:</u>\n",
    "* Drop the SuperheroesPublish database if it exists\n",
    "* Restore the Superheroes back to the original\n",
    "* Drop the notebook job if it exists"
   ],
   "metadata": {
    "azdata_cell_guid": "0be53f32-d86f-4162-b469-0ee547bbb9d0"
   }
  },
  {
   "cell_type": "code",
   "execution_count": null,
   "source": [
    "#!connect mssql --kernel-name mydatabase \"Persist Security Info=False; Integrated Security=true; Initial Catalog=master; Server=192.168.1.152\""
   ],
   "outputs": [],
   "metadata": {
    "dotnet_interactive": {
     "language": "sql"
    },
    "vscode": {
     "languageId": "dotnet-interactive.sql"
    },
    "azdata_cell_guid": "a7f9b66d-7594-4293-9779-f1b670872cb7",
    "language": "dotnet-interactive.sql"
   }
  },
  {
   "cell_type": "code",
   "execution_count": null,
   "source": [
    "#!sql-mydatabase\n",
    "\n",
    "DECLARE @session varchar(30), @backupfile nvarchar(300), @today DATE = getdate()\n",
    "\n",
    "SELECT @Session = 'PracticalStarterGuide'\n",
    "SELECT @backupfile = '\\\\192.168.1.150\\Lab Share\\backups\\Superheroes\\Superheroes_SQL2019_' + @Session + '_Initial.BAK'\n",
    "SELECT @backupfile\n",
    "\n",
    "DECLARE @backuplogname nvarchar(50) = 'Superheroes_LogBackup' + convert(varchar(10), @today) + '.BAK'\n",
    "\n",
    "ALTER DATABASE Superheroes SET SINGLE_USER WITH ROLLBACK IMMEDIATE;\n",
    "\n",
    "\n",
    "RESTORE DATABASE [Superheroes] \n",
    "FROM  DISK = @backupfile WITH  FILE = 1, \n",
    "    MOVE N'Superheroes' TO N'D:\\MSSQL16.MSSQLSERVER\\MSSQL\\DATA\\Superheroes_Data.mdf',  \n",
    "    MOVE N'Superheroes_log' TO N'L:\\MSSQL16.MSSQLSERVER\\MSSQL\\Log\\Superheroes_Log.ldf',  \n",
    "    NOUNLOAD,  REPLACE,  STATS = 5;\n",
    "\n",
    "ALTER DATABASE Superheroes SET MULTI_USER;\n"
   ],
   "outputs": [],
   "metadata": {
    "dotnet_interactive": {
     "language": "sql"
    },
    "vscode": {
     "languageId": "dotnet-interactive.sql"
    },
    "azdata_cell_guid": "120da6ef-3546-4c35-b014-3a0dae34669b",
    "language": "dotnet-interactive.sql"
   }
  }
 ]
}