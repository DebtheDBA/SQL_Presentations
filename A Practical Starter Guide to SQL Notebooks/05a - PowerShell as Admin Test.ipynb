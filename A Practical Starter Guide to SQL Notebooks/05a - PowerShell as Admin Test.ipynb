{
    "metadata": {
        "kernelspec": {
            "name": "powershell",
            "display_name": "PowerShell"
        },
        "language_info": {
            "name": "powershell",
            "codemirror_mode": "shell",
            "mimetype": "text/x-sh",
            "file_extension": ".ps1"
        }
    },
    "nbformat_minor": 2,
    "nbformat": 4,
    "cells": [
        {
            "cell_type": "markdown",
            "source": [
                "Just testing the same functions as the other notebook... don't mind me..."
            ],
            "metadata": {
                "azdata_cell_guid": "5c668904-eb4f-4d9f-8b0a-eeac84290264"
            }
        },
        {
            "cell_type": "code",
            "source": [
                "function Test-Administrator\r\n",
                " {\r\n",
                "     $user = [Security.Principal.WindowsIdentity]::GetCurrent();\r\n",
                "     (New-Object Security.Principal.WindowsPrincipal $user).IsInRole([Security.Principal.WindowsBuiltinRole]::Administrator)\r\n",
                " }\r\n",
                ""
            ],
            "metadata": {
                "azdata_cell_guid": "2f545dcd-48bc-4f6d-8c3d-19754175f49c"
            },
            "outputs": [],
            "execution_count": null
        },
        {
            "cell_type": "code",
            "source": [
                "Test-Administrator"
            ],
            "metadata": {
                "azdata_cell_guid": "04351778-72cd-48b0-87b7-d8ab41ff9e52"
            },
            "outputs": [],
            "execution_count": null
        }
    ]
}