{
 "metadata": {
  "kernelspec": {
   "name": ".net-csharp",
   "display_name": ".NET (C#)",
   "language": "C#"
  },
  "language_info": {
   "name": "C#"
  }
 },
 "nbformat": 4,
 "nbformat_minor": 2,
 "cells": [
  {
   "cell_type": "markdown",
   "source": [
    "# <u> Reset Test Environment </u>\n",
    "\n",
    "This notebook will use C#, SQL and PowerShell\n",
    "\n",
    "\n",
    "Use this notebook to reset my test environment for the \"Practical Starter Guide to SQL Notebooks\" session.\n",
    "\n",
    "<b>NOTE:</b> This works best if no tools are open and this tool has everything closed as well."
   ],
   "metadata": {
    "azdata_cell_guid": "17970f04-21a3-4102-895b-6421f44feae9"
   }
  },
  {
   "cell_type": "markdown",
   "source": [
    "Pull down the .NET interactive packages for connecting to SQL Server before starting:"
   ],
   "metadata": {
    "dotnet_interactive": {
     "language": "csharp"
    },
    "azdata_cell_guid": "506643c3-169d-46c8-857f-43a38a525b9f"
   }
  },
  {
   "cell_type": "code",
   "execution_count": null,
   "source": [
    "#r \"nuget:Microsoft.DotNet.Interactive.SqlServer,*-*\""
   ],
   "outputs": [],
   "metadata": {
    "dotnet_interactive": {
     "language": "csharp"
    },
    "vscode": {
     "languageId": "dotnet-interactive.csharp"
    },
    "azdata_cell_guid": "a8ad2091-1f41-4901-8d75-f91070be2395",
    "language": "dotnet-interactive.csharp"
   }
  },
  {
   "cell_type": "markdown",
   "source": [
    "## <u> SQL Server clean up:</u>\n",
    "* Drop the SuperheroesPublish database if it exists\n",
    "* Restore the Superheroes back to the original\n",
    "* Drop the notebook job if it exists"
   ],
   "metadata": {
    "azdata_cell_guid": "bb39bf7e-a314-4609-a364-8638d2d34050"
   }
  },
  {
   "cell_type": "code",
   "execution_count": null,
   "source": [
    "#!connect mssql --kernel-name mydatabase \"Persist Security Info=False; Integrated Security=true; Initial Catalog=master; Server=debthedba\\sql2019\""
   ],
   "outputs": [],
   "metadata": {
    "dotnet_interactive": {
     "language": "sql"
    },
    "vscode": {
     "languageId": "dotnet-interactive.sql"
    },
    "azdata_cell_guid": "6d6dac91-08d3-4338-9d24-6d1b4ba18237",
    "language": "dotnet-interactive.sql"
   }
  },
  {
   "cell_type": "code",
   "execution_count": null,
   "source": [
    "#!sql-mydatabase\n",
    "IF EXISTS (SELECT * FROM sys.databases WHERE Name = 'SuperheroesPublish')\n",
    "DROP DATABASE SuperheroesPublish"
   ],
   "outputs": [],
   "metadata": {
    "dotnet_interactive": {
     "language": "sql"
    },
    "vscode": {
     "languageId": "dotnet-interactive.sql"
    },
    "azdata_cell_guid": "23461bd6-17fc-49de-b3f5-ce43ecaf268a",
    "language": "dotnet-interactive.sql"
   }
  },
  {
   "cell_type": "code",
   "execution_count": null,
   "source": [
    "#!sql-mydatabase\n",
    "\n",
    "DECLARE @session varchar(30), @backupfile nvarchar(300), @today DATE = getdate()\n",
    "\n",
    "SELECT @Session = 'PracticalStarterGuide'\n",
    "SELECT @backupfile = 'C:\\GitRepo\\SQL_Presentations\\Superhero Demo DB Setup\\Superheroes_SQL2019_' + @Session + '_Initial.BAK'\n",
    "SELECT @backupfile\n",
    "\n",
    "DECLARE @backuplogname nvarchar(50) = 'Superheroes_LogBackup' + convert(varchar(10), @today) + '.BAK'\n",
    "\n",
    "RESTORE DATABASE [Superheroes] \n",
    "FROM  DISK = @backupfile WITH  FILE = 1,  NOUNLOAD,  REPLACE,  STATS = 5\n"
   ],
   "outputs": [],
   "metadata": {
    "dotnet_interactive": {
     "language": "sql"
    },
    "vscode": {
     "languageId": "dotnet-interactive.sql"
    },
    "azdata_cell_guid": "2c0e9517-2d4f-40c1-9372-ef94f0ad5023",
    "language": "dotnet-interactive.sql"
   }
  },
  {
   "cell_type": "code",
   "execution_count": null,
   "source": [
    "#!sql-mydatabase\n",
    "\n",
    "IF EXISTS (SELECT * FROM sys.server_event_sessions WHERE name = 'Summit2021')\n",
    "DROP EVENT SESSION [Summit2021] ON SERVER \n",
    "GO"
   ],
   "outputs": [],
   "metadata": {
    "dotnet_interactive": {
     "language": "sql"
    },
    "vscode": {
     "languageId": "dotnet-interactive.sql"
    },
    "azdata_cell_guid": "d7e5fde7-5395-43e4-ab58-fd55422aeccb",
    "language": "dotnet-interactive.sql"
   }
  },
  {
   "cell_type": "markdown",
   "source": [
    "## <u> Directory Clean Up: </u>\n",
    "\n",
    "Clean up directories\n",
    "* Delete the database project directory \n",
    "* Remove the docker container\n"
   ],
   "metadata": {
    "azdata_cell_guid": "d94c420d-795e-498b-9b2f-f080fdd9a530"
   }
  },
  {
   "cell_type": "code",
   "execution_count": null,
   "source": [
    "$dbprojlocation = \"C:\\GitRepo\\SQL_Presentations\\A Practical Starter Guide to SQL Notebooks\"\n",
    "\n",
    "Get-ChildItem -Path $dbprojlocation | WHERE {$_.Name -like 'Superheroes*'} | ForEach-Object {\n",
    "    $name = $_.FullName\n",
    "\n",
    "    write-host \"Removing item $name ...\"\n",
    "    Remove-Item $name -Recurse -Force\n",
    "}"
   ],
   "outputs": [],
   "metadata": {
    "dotnet_interactive": {
     "language": "pwsh"
    },
    "vscode": {
     "languageId": "dotnet-interactive.pwsh"
    },
    "azdata_cell_guid": "c6d6a760-fd95-476d-8058-0dac15e26e02",
    "language": "dotnet-interactive.pwsh"
   }
  },
  {
   "cell_type": "code",
   "execution_count": null,
   "source": [
    "docker container stop PracticalStarterGuide\n",
    "docker rm PracticalStarterGuide"
   ],
   "outputs": [],
   "metadata": {
    "dotnet_interactive": {
     "language": "pwsh"
    },
    "vscode": {
     "languageId": "dotnet-interactive.pwsh"
    },
    "azdata_cell_guid": "7d420d1c-7a23-40a7-9ea2-867d117825dd",
    "language": "dotnet-interactive.pwsh"
   }
  },
  {
   "cell_type": "markdown",
   "source": [
    "Open the following websites in a browser:\n",
    "\n",
    "<a link = \"https://dbatools.io/commands/\"> https://dbatools.io/commands/ </a><br>\n",
    "<a link = \"https://www.ssmstoolspack.com/\"> https://www.ssmstoolspack.com/ </a><br>\n",
    "<a link = \"https://am2.co/2018/02/updated-cheat-sheet/\"> https://am2.co/2018/02/updated-cheat-sheet/ </a>\n"
   ],
   "metadata": {
    "azdata_cell_guid": "8d4af5b3-cdca-43a6-a1e8-d1facddcdf26"
   }
  }
 ]
}