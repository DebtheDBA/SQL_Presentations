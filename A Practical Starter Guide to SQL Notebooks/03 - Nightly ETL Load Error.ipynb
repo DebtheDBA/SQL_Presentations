{
    "metadata": {
        "kernelspec": {
            "name": "SQL",
            "display_name": "SQL",
            "language": "sql"
        },
        "language_info": {
            "name": "sql",
            "version": ""
        }
    },
    "nbformat_minor": 2,
    "nbformat": 4,
    "cells": [
        {
            "cell_type": "markdown",
            "source": [
                "# Troubleshooting the ETL Load\n",
                "\n",
                "## **Scenario**\n",
                "\n",
                "Andy the Intern has been tasked with the ETL load tasks. Lately, the database operations team has been receiving reports of various repeating errors. This workbook contains queries that the developers would like to look at so they can identify the errors and prioritize them for bug fixes.\n",
                "\n",
                "**Please Note:**\n",
                "\n",
                "<mark>The developers would like to see the results so they request that a copy of this file is made and saved in the client folder, along with the results, so they can determine if it's a problem with this particular client's file or if it's a bug in the ETL.</mark>"
            ],
            "metadata": {
                "azdata_cell_guid": "e24f11e5-f0f6-4dbf-b132-53dd0eed7660"
            }
        },
        {
            "cell_type": "markdown",
            "source": [
                "## Bad Dates\r\n",
                "Are there any history records outside of 2020?\r\n",
                "\r\n",
                "System only created/launched 2020-Jan-01, so there should be no records between then and today\r\n",
                "\r\n",
                "**If any records are found**: the source file should be re-examined. "
            ],
            "metadata": {
                "azdata_cell_guid": "06d304dc-7fd2-4399-ab9f-d68e3dc7b4b7"
            }
        },
        {
            "cell_type": "code",
            "source": [
                "SELECT\r\n",
                "\tGood_Deed_Timestamp,\r\n",
                "\tPerson.First_Name,\r\n",
                "\tPerson.Last_Name,\r\n",
                "\tGood_Deed_Type.Good_Deed_Type_Name,\r\n",
                "\tGood_Deed_History.Good_Deed_Description,\r\n",
                "\tGood_Deed_History.Good_Deed_History_ID\r\n",
                "FROM Good_Deed_History\r\n",
                "INNER JOIN dbo.Person\r\n",
                "\tON Good_Deed_History.Good_Deed_Person_ID = Person.Person_ID\r\n",
                "INNER JOIN Good_Deed_Type\r\n",
                "\tON Good_Deed_History.Good_Deed_Type_ID = Good_Deed_Type.Good_Deed_Type_ID\r\n",
                "WHERE Good_Deed_History.Good_Deed_Timestamp NOT BETWEEN '2020-01-01' AND GETDATE();"
            ],
            "metadata": {
                "azdata_cell_guid": "27054742-be13-4198-8c2b-d9442734493b"
            },
            "outputs": [],
            "execution_count": null
        },
        {
            "cell_type": "markdown",
            "source": [
                "Check ETL error log for any load errors."
            ],
            "metadata": {
                "azdata_cell_guid": "66f8d646-456e-40f4-8635-4eeabd091c7c"
            }
        },
        {
            "cell_type": "code",
            "source": [
                "SELECT *\r\n",
                "FROM dbo.ETL_Error_Log\r\n",
                "ORDER BY ETL_Error_Log_ID;"
            ],
            "metadata": {
                "azdata_cell_guid": "7c048fcc-aefe-41db-9c99-65620f2bb1ba",
                "tags": []
            },
            "outputs": [],
            "execution_count": null
        },
        {
            "cell_type": "markdown",
            "source": [
                "## Person Not Found\r\n",
                "\r\n",
                "This is a common error. \r\n",
                "* If the person exists in the database but the name is backwards, the file needs to be fixed.\r\n",
                "* If the person does not exist in the database, we need to confirm whether they need to be added. If so, please create a ticket to add so the file can be re-run."
            ],
            "metadata": {
                "azdata_cell_guid": "44ce6c94-61d2-4c29-80ab-a79eacdd012f"
            }
        },
        {
            "cell_type": "code",
            "source": [
                "SELECT *\r\n",
                "FROM dbo.ETL_Error_Log\r\n",
                "WHERE Error_Description = 'Person not found';"
            ],
            "metadata": {
                "azdata_cell_guid": "7dbd92ad-bbf6-4570-aab4-5d9d11577845"
            },
            "outputs": [],
            "execution_count": null
        },
        {
            "cell_type": "code",
            "source": [
                "SELECT 'Names are reversed:', *\r\n",
                "FROM dbo.Person\r\n",
                "INNER JOIN (\r\n",
                "\tSELECT *\r\n",
                "\tFROM dbo.ETL_Error_Log\r\n",
                "\t\tCROSS APPLY STRING_SPLIT(CSV_Data, ',') AS Split_CSV_Data\r\n",
                "\tWHERE Error_Description = 'Person not found'\r\n",
                ") AS Split_CSV_Data\r\n",
                "\tON (Person.Last_Name + ' ' + Person.First_Name) = Split_CSV_Data.value\r\n",
                ""
            ],
            "metadata": {
                "azdata_cell_guid": "cad33c53-2a39-492b-9910-84788cc5b926"
            },
            "outputs": [],
            "execution_count": null
        },
        {
            "cell_type": "code",
            "source": [
                "SELECT 'Person needs to be added:', *\r\n",
                "FROM dbo.ETL_Error_Log\r\n",
                "WHERE Error_Description = 'Person not found'\r\n",
                "\tAND ETL_Error_Log_ID NOT IN ( \r\n",
                "\t\tSELECT ETL_Error_Log_ID\r\n",
                "\t\tFROM dbo.Person\r\n",
                "\t\tINNER JOIN (\r\n",
                "\t\t\tSELECT *\r\n",
                "\t\t\tFROM dbo.ETL_Error_Log\r\n",
                "\t\t\t\tCROSS APPLY STRING_SPLIT(CSV_Data, ',') AS Split_CSV_Data\r\n",
                "\t\t\tWHERE Error_Description = 'Person not found'\r\n",
                "\t\t) AS Split_CSV_Data\r\n",
                "\t\t\tON (Person.Last_Name + ' ' + Person.First_Name) = Split_CSV_Data.value\r\n",
                "\t);\r\n",
                ""
            ],
            "metadata": {
                "azdata_cell_guid": "7a1dba26-74a9-409a-8549-00e2db8664d4"
            },
            "outputs": [],
            "execution_count": null
        },
        {
            "cell_type": "markdown",
            "source": [
                "Since there is someone who doesn't exist in the database and it's not a simple name reversal, confirm the list of people in the database."
            ],
            "metadata": {
                "azdata_cell_guid": "7d5f637d-ec8b-418b-8250-7ed7ba2ca61d"
            }
        },
        {
            "cell_type": "code",
            "source": [
                "SELECT *\r\n",
                "FROM dbo.Person\r\n",
                "ORDER BY Person_ID;"
            ],
            "metadata": {
                "azdata_cell_guid": "dc773b66-b8c2-4fe6-90b0-1001778439ee"
            },
            "outputs": [],
            "execution_count": null
        },
        {
            "cell_type": "markdown",
            "source": [
                "There is a client with known bad data for the Person file that cannot be changed. We know which records they are by the last name. We already have permission to remove those records. \r\n",
                "\r\n",
                "Here is the code you need to execute. Please run both the SELECT and DELETE statements in case there are new unexpected records being created for this bad data file:"
            ],
            "metadata": {
                "azdata_cell_guid": "062761c7-3289-4aea-8c57-d4d1a95fc259"
            }
        },
        {
            "cell_type": "code",
            "source": [
                "SELECT * FROM Person\r\n",
                "WHERE Last_Name IN ('aAa', 'bBb', 'cCc')"
            ],
            "metadata": {
                "azdata_cell_guid": "88392913-38b2-45f7-a6e1-a78c92f9cd2b"
            },
            "outputs": [],
            "execution_count": null
        },
        {
            "cell_type": "code",
            "source": [
                "DELETE FROM Person\r\n",
                "WHERE Last_Name IN ('aAa', 'bBb', 'cCc')"
            ],
            "metadata": {
                "azdata_cell_guid": "5ca0e8ab-4230-4ccd-afde-9ee57cf9294d"
            },
            "outputs": [],
            "execution_count": null
        },
        {
            "cell_type": "markdown",
            "source": [
                "## Good Deed Not Found\r\n",
                "There is a set list of Good Deeds:\r\n",
                "* Foiled Hydra\r\n",
                "* Rescue animal\r\n",
                "* Stop crime\r\n",
                "* Help person\r\n",
                "* Save city\r\n",
                "* Defeat supervillan\r\n",
                "\r\n",
                "First confirm whether the good deed that was not found should exist."
            ],
            "metadata": {
                "azdata_cell_guid": "2d3e445d-a5db-47f4-b09d-189fd59ec1f9"
            }
        },
        {
            "cell_type": "code",
            "source": [
                "WITH Error_Log_CTE AS (\r\n",
                "\tSELECT *, ROW_NUMBER() OVER(PARTITION BY ETL_Error_Log_ID ORDER BY (SELECT NULL)) AS CSV_ID\r\n",
                "\tFROM dbo.ETL_Error_Log\r\n",
                "\t\tCROSS APPLY STRING_SPLIT(CSV_Data, ',') AS Split_CSV_Data\r\n",
                "\tWHERE Error_Description = 'Good Deed not found'\r\n",
                ")\r\n",
                "SELECT value\r\n",
                "FROM Error_Log_CTE\r\n",
                "WHERE CSV_ID = 2;\r\n",
                ""
            ],
            "metadata": {
                "azdata_cell_guid": "96d44f17-d6e0-4fb1-be9b-d5121d7ed46f"
            },
            "outputs": [],
            "execution_count": null
        },
        {
            "cell_type": "markdown",
            "source": [
                "Next determine whether the good deed table is populated properly."
            ],
            "metadata": {
                "azdata_cell_guid": "7b537187-eb63-4e23-8888-d0ddb7874640"
            }
        },
        {
            "cell_type": "code",
            "source": [
                "SELECT Good_Deed_Type_Name\r\n",
                "FROM dbo.Good_Deed_Type\r\n",
                "ORDER BY Good_Deed_Type_Name;"
            ],
            "metadata": {
                "azdata_cell_guid": "5b4f724d-8cad-47c8-a487-4ce689ff30c5"
            },
            "outputs": [],
            "execution_count": null
        }
    ]
}