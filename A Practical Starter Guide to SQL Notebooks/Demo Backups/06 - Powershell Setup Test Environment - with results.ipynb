{
    "metadata": {
        "kernelspec": {
            "name": "powershell",
            "display_name": "PowerShell",
            "language": "powershell"
        },
        "language_info": {
            "name": "powershell",
            "codemirror_mode": "shell",
            "mimetype": "text/x-sh",
            "file_extension": ".ps1"
        }
    },
    "nbformat_minor": 2,
    "nbformat": 4,
    "cells": [
        {
            "cell_type": "markdown",
            "source": [
                "# Create Docker Container and Deploy dacpac Test\n",
                "\n",
                "We need to create a repeatable test scenario to test the deployment of our database project.\n",
                "\n",
                "This involves setting up a docker container that we can have as the target.\n",
                "\n",
                "Steps:\n",
                "\n",
                "1. Confirm if the docker container exists\n",
                "2. If not, create \n",
                "3. Start the docker container\n",
                "4. Use dbatools to create and deploy the dacpac to the container"
            ],
            "metadata": {
                "azdata_cell_guid": "8765ad10-5e38-4051-9349-ffaa6455eb78"
            },
            "attachments": {}
        },
        {
            "cell_type": "markdown",
            "source": [
                "Set the parameters for the container:"
            ],
            "metadata": {
                "azdata_cell_guid": "c641cda6-6168-4ded-8359-e3fc3b2bd33c"
            },
            "attachments": {}
        },
        {
            "cell_type": "code",
            "source": [
                "$containername = 'PracticalStarterGuide'\n",
                "$port = \"2022:1433\" # the first value is the port we connect to. 1433 is the port internally to docker\n",
                "$password = 'Ch@ngeM3S00n!'\n",
                "$dacpaclocation = 'C:\\GitRepo\\SQL_Presentations\\A Practical Starter Guide to SQL Notebooks\\SuperheroesDacPac\\Superheroes.dacpac'\n",
                ""
            ],
            "metadata": {
                "azdata_cell_guid": "ca57a082-23b5-4b62-9c0f-c8e298a96665",
                "language": "powershell",
                "tags": []
            },
            "outputs": [
                {
                    "name": "stdout",
                    "text": "",
                    "output_type": "stream"
                }
            ],
            "execution_count": 1
        },
        {
            "cell_type": "markdown",
            "source": [
                "Create the secure credential to be used below:\n",
                "\n",
                "Borrowing heavily from [https://adamtheautomator.com/powershell-get-credential/](https://adamtheautomator.com/powershell-get-credential/)"
            ],
            "metadata": {
                "azdata_cell_guid": "a554192e-3c70-4e9c-8f6b-254dad44689a"
            },
            "attachments": {}
        },
        {
            "cell_type": "code",
            "source": [
                "$newpassword = ConvertTo-SecureString $password -AsPlainText -Force\n",
                "$credential = New-Object System.Management.Automation.PSCredential ('sa', $newpassword)"
            ],
            "metadata": {
                "azdata_cell_guid": "f333f194-3c89-466a-b983-7db4244dc580",
                "tags": [],
                "language": "powershell"
            },
            "outputs": [
                {
                    "name": "stdout",
                    "text": "",
                    "output_type": "stream"
                }
            ],
            "execution_count": 3
        },
        {
            "cell_type": "markdown",
            "source": [
                "Start by checking to see if the container exists"
            ],
            "metadata": {
                "azdata_cell_guid": "305d2e58-a9f8-4a21-b83a-ada437dab2a2"
            },
            "attachments": {}
        },
        {
            "cell_type": "code",
            "source": [
                "[System.Collections.ArrayList]$allcontainers = @()\n",
                "\n",
                "# for all the containers....\n",
                "docker container ls --format '{{.Names}}' -a | ForEach-Object {\n",
                "    $cname = $_\n",
                "\n",
                "    # get the status\n",
                "    $cstatus = docker ps -f \"name=$cname\" --format '{{.Names}}'\n",
                "    if ($cstatus) {$cstatus = $true} else {$cstatus = $false}\n",
                "\n",
                "    # get the port\n",
                "    $cport = docker container inspect \"$cname\" --format '{{.HostConfig.PortBindings}}'\n",
                "    $cport = $cport.substring($cport.length - 7, 4)\n",
                "\n",
                "    # add them to the array\n",
                "    $allcontainersval = [PSCustomObject]@{'ContainerName'=$cname;'Port'=$cport;'ContainerRunning'=$cstatus}\n",
                "    $allcontainers.add($allcontainersval) | Out-Null\n",
                "    \n",
                "}\n",
                "\n",
                "$allcontainers"
            ],
            "metadata": {
                "azdata_cell_guid": "62b38781-fca7-4664-9b1d-cb1e515681cd",
                "language": "powershell"
            },
            "outputs": [
                {
                    "name": "stdout",
                    "text": ". {\n>> ",
                    "output_type": "stream"
                },
                {
                    "name": "stdout",
                    "text": "[System.Collections.ArrayList]$allcontainers = @()\n>> \n>> # for all the containers....\n>> docker container ls --format '{{.Names}}' -a | ForEach-Object {\n>>     $cname = $_\n>> \n>>     # get the status\n>>     $cstatus = docker ps -f \"name=$cname\" --format '{{.Names}}'\n>>     if ($cstatus) {$cstatus = $true} else {$cstatus = $false}\n>> \n>>     # get the port\n>>     $cport = docker container inspect \"$cname\" --format '{{.HostConfig.PortBindings}}'\n>>     $cport = $cport.substring($cport.length - 7, 4)\n>> \n>>     # add them to the array\n>>     $allcontainersval = [PSCustomObject]@{'ContainerName'=$cname;'Port'=$cport;'ContainerRunning'=$cstatus}\n>>     $allcontainers.add($allcontainersval) | Out-Null\n>>     \n>> }\n>> \n>> $allcontainers\n>> }\n>> \n",
                    "output_type": "stream"
                },
                {
                    "name": "stdout",
                    "text": "",
                    "output_type": "stream"
                }
            ],
            "execution_count": 4
        },
        {
            "cell_type": "markdown",
            "source": [
                "Check to see if we need to create the specific container"
            ],
            "metadata": {
                "azdata_cell_guid": "c47c5f55-589f-4bf8-bf93-6dadfd2cf021"
            },
            "attachments": {}
        },
        {
            "cell_type": "code",
            "source": [
                "if ($allcontainers | where {$_.ContainerName -eq $ContainerName}) {\n",
                "    $CreateContainer = $false\n",
                "\n",
                "    #see if it's running\n",
                "    $isrunning = $allcontainers | Where {$_.ContainerName -eq $ContainerName} | SELECT ContainerRunning\n",
                "\n",
                "    #if the container is started, set the flag to not start it and end other work\n",
                "    if ($isrunning -eq $true) {\n",
                "        $stopProcess = $true\n",
                "        Write-Host \"$ContainerName container exists and is already running.\"\n",
                "    }\n",
                "    else {\n",
                "        $StartContainer = $true\n",
                "        $stopProcess = $false\n",
                "        Write-Host \"$ContainerName container exists but is not running\"\n",
                "    }\n",
                "} else {\n",
                "    $CreateContainer = $true\n",
                "    $StartContainer = $true\n",
                "    $stopProcess = $false\n",
                "    Write-Host \"$ContainerName container does not exist and needs to be created.\"\n",
                "}"
            ],
            "metadata": {
                "azdata_cell_guid": "e1a5622f-6366-4d9f-9613-86e1680e4e59",
                "tags": [],
                "language": "powershell"
            },
            "outputs": [
                {
                    "name": "stdout",
                    "text": "PracticalStarterGuide container does not exist and needs to be created.\n",
                    "output_type": "stream"
                }
            ],
            "execution_count": 5
        },
        {
            "cell_type": "markdown",
            "source": [
                "Create the container if needed"
            ],
            "metadata": {
                "azdata_cell_guid": "c62922c4-55d4-41dd-84ee-168491af0fcf"
            },
            "attachments": {}
        },
        {
            "cell_type": "code",
            "source": [
                "if ($CreateContainer -eq $true) {\n",
                "    docker run -e \"ACCEPT_EULA=Y\" -e \"SA_PASSWORD=$password\" `\n",
                "        -p $port --name $containername -h $containername `\n",
                "        -d mcr.microsoft.com/mssql/server:2022-latest\n",
                "    \n",
                "    Write-Host \"Container $ContainerName created and started\"\n",
                "    \n",
                "}"
            ],
            "metadata": {
                "azdata_cell_guid": "7b738bc0-3cf5-40c1-87a3-fedc353f7806",
                "language": "powershell"
            },
            "outputs": [
                {
                    "name": "stdout",
                    "text": "Unable to find image 'mcr.microsoft.com/mssql/server:2022-latest' locally\n",
                    "output_type": "stream"
                },
                {
                    "name": "stdout",
                    "text": "2022-latest: Pulling from mssql/server\n",
                    "output_type": "stream"
                },
                {
                    "name": "stdout",
                    "text": "ecaa8206c099: Pulling fs layer\n0f6bf08cd563: Pulling fs layer\nf09f69f4f754: Pulling fs layer\n",
                    "output_type": "stream"
                },
                {
                    "name": "stdout",
                    "text": "ecaa8206c099: Verifying Checksum\necaa8206c099: Download complete\n",
                    "output_type": "stream"
                },
                {
                    "name": "stdout",
                    "text": "ecaa8206c099: Pull complete\n",
                    "output_type": "stream"
                },
                {
                    "name": "stdout",
                    "text": "f09f69f4f754: Verifying Checksum\nf09f69f4f754: Download complete\n",
                    "output_type": "stream"
                },
                {
                    "name": "stdout",
                    "text": "0f6bf08cd563: Verifying Checksum\n0f6bf08cd563: Download complete\n",
                    "output_type": "stream"
                },
                {
                    "name": "stdout",
                    "text": "0f6bf08cd563: Pull complete\n",
                    "output_type": "stream"
                },
                {
                    "name": "stdout",
                    "text": "f09f69f4f754: Pull complete\nDigest: sha256:25171ecc78127fe53c9c12506a40577de8bef955a8b6a4bf9b8757c4c4601182\nStatus: Downloaded newer image for mcr.microsoft.com/mssql/server:2022-latest\n",
                    "output_type": "stream"
                },
                {
                    "name": "stdout",
                    "text": "1255c9e3ab327c3831ec9634842d3998a41fbf28caee0e01a8a69157768abcfc\n",
                    "output_type": "stream"
                },
                {
                    "name": "stdout",
                    "text": "Container PracticalStarterGuide created and started\n",
                    "output_type": "stream"
                }
            ],
            "execution_count": 6
        },
        {
            "cell_type": "markdown",
            "source": [
                "Start the container if needed"
            ],
            "metadata": {
                "azdata_cell_guid": "e33f2c96-e68e-4d39-a991-c300bc105252"
            },
            "attachments": {}
        },
        {
            "cell_type": "code",
            "source": [
                "if ($StartContainer -eq $true) {\n",
                "    docker container start $containername\n",
                "\n",
                "    Write-Host \"Starting container $ContainerName\"\n",
                "}"
            ],
            "metadata": {
                "azdata_cell_guid": "dd032602-9d2d-4ba2-be42-e2afbd56bce9",
                "tags": [],
                "language": "powershell"
            },
            "outputs": [
                {
                    "name": "stdout",
                    "text": "PracticalStarterGuide\n",
                    "output_type": "stream"
                },
                {
                    "name": "stdout",
                    "text": "Starting container PracticalStarterGuide\n",
                    "output_type": "stream"
                }
            ],
            "execution_count": 7
        },
        {
            "cell_type": "markdown",
            "source": [
                "Make sure the dacpac is there by creating it from the database"
            ],
            "metadata": {
                "azdata_cell_guid": "a2c88e0a-3ff8-4604-8fd1-7c55d84cf5a3"
            },
            "attachments": {}
        },
        {
            "cell_type": "code",
            "source": [
                "Export-DbaDacPackage -SqlInstance debthedba\\sql2019 -Database Superheroes -FilePath $dacpaclocation"
            ],
            "metadata": {
                "azdata_cell_guid": "893f91cf-b130-4169-9d50-af78503876e5",
                "language": "powershell"
            },
            "outputs": [
                {
                    "name": "stdout",
                    "text": "\n\nDatabase    : Superheroes\nElapsed     : 7.94 s\nPath        : C:\\GitRepo\\SQL_Presentations\\A Practical Starter Guide to SQL \n              Notebooks\\SuperheroesDacPac\\Superheroes.dacpac\nResult      : Extracting schema (Start)\n              Gathering database credentials\n              Gathering database options\n              Gathering generic database scoped configuration option\n              Gathering users\n              Gathering roles\n              Gathering application roles\n              Gathering role memberships\n              Gathering filegroups\n              Gathering full-text catalogs\n              Gathering assemblies\n              Gathering certificates\n              Gathering asymmetric keys\n              Gathering symmetric keys\n              Gathering encrypted symmetric keys\n              Gathering schemas\n              Gathering XML schema collections\n              Gathering user-defined data types\n              Gathering user-defined types\n              Gathering table types\n              Gathering unique keys for table types\n              Gathering primary keys for table types\n              Gathering indexes for table types\n              Gathering check constraints for table types\n              Gathering default constraints for table types\n              Gathering partition functions\n              Gathering partition schemes\n              Gathering functions\n              Gathering encrypted functions\n              Gathering aggregates\n              Gathering procedures\n              Gathering encrypted procedures\n              Gathering procedures\n              Gathering encrypted procedures\n              Gathering encrypted procedures\n              Gathering tables\n              Gathering tables\n              Gathering primary keys\n              Gathering unique constraints\n              Gathering foreign keys\n              Gathering default constraints\n              Gathering check constraints\n              Gathering views\n              Gathering encrypted views\n              Gathering indexes\n              Gathering statistics\n              Gathering full-text index stoplists\n              Gathering search property lists\n              Gathering search properties\n              Gathering full-text indexes\n              Gathering column store indexes\n              Gathering spatial indexes\n              Gathering XML indexes\n              Gathering Selective XML indexes\n              Gathering encrypted triggers\n              Gathering triggers\n              Gathering encrypted and clr ddl triggers\n              Gathering ddl triggers\n              Creating edge constraints\n              Gathering synonyms\n              Gathering defaults\n              Gathering data constraint uddt bindings\n              Gathering rules\n              Gathering data constraint uddt bindings\n              Gathering message types\n              Gathering queues\n              Gathering contracts\n              Gathering services\n              Gathering event notifications\n              Gathering remote service bindings\n              Gathering broker priorities\n              Gathering signatures\n              Gathering signatures\n              Gathering data compression options\n              Gathering sequence types\n              Gathering security policies\n              Gather column encryption keys\n              Gathering column master keys\n              Gathering external data sources\n              Gathering external file formats\n              Gathering external tables\n              Gathering extended properties\n              Gathering extended properties\n              Gathering extended properties\n              Gathering extended properties\n              Gathering extended properties\n              Gathering extended properties\n              Gathering extended properties\n              Gathering extended properties\n              Gathering extended properties\n              Gathering extended properties\n              Gathering extended properties\n              Gathering extended properties\n              Gathering extended properties\n              Gathering extended properties\n              Gathering extended properties\n              Gathering extended properties\n              Gathering extended properties\n              Gathering extended properties\n              Gathering extended properties\n              Gathering extended properties\n              Gathering extended properties\n              Gathering extended properties\n              Gathering extended properties\n              Gathering extended properties\n              Gathering credentials\n              Gathering logins\n              Gathering server audits\n              Extracting schema (Complete)\nSqlInstance : DebTheDBA\\SQL2019\n\n\n\n",
                    "output_type": "stream"
                }
            ],
            "execution_count": 9
        },
        {
            "cell_type": "markdown",
            "source": [
                "Deploy dacpac to the docker container using dbatools:\n",
                "\n",
                "Taking this from the first example from the dbatools [Publish-DbaDacPackage](https://docs.dbatools.io/Publish-DbaDacPackage) information page directly."
            ],
            "metadata": {
                "azdata_cell_guid": "a0061e6b-3de3-446a-a9f3-70c6e18eef41"
            },
            "attachments": {}
        },
        {
            "cell_type": "code",
            "source": [
                "Start-Sleep -Seconds 10\n",
                "\n",
                "$options = New-DbaDacOption -Type Dacpac -Action Publish\n",
                "$options.DeployOptions.DropObjectsNotInSource = $true\n",
                "Publish-DbaDacPackage -SqlInstance 'host.docker.internal,2022' -Database Superheroes -DacOption $options -Path $dacpaclocation -SqlCredential $credential"
            ],
            "metadata": {
                "azdata_cell_guid": "2b80308c-fb45-435d-9d66-b54c24bdde5d",
                "tags": [],
                "language": "powershell"
            },
            "outputs": [
                {
                    "name": "stdout",
                    "text": "\n\n",
                    "output_type": "stream"
                },
                {
                    "name": "stdout",
                    "text": "ComputerName         : host.docker.internal\nInstanceName         : MSSQLSERVER\nSqlInstance          : host.docker.internal:2022\nDatabase             : Superheroes\nDacpac               : C:\\GitRepo\\SQL_Presentations\\A Practical Starter Guide to SQL \n                       Notebooks\\SuperheroesDacPac\\Superheroes.dacpac\nPublishXml           : \nResult               : Initializing deployment (Start)\n                       The compatibility level of the target schema 160 is not supported, which may result in \n                       undefined behavior. Please upgrade to a later version which supports this compatibility level.\n                       Initializing deployment (Complete)\n                       Analyzing deployment plan (Start)\n                       Analyzing deployment plan (Complete)\n                       Reporting and scripting deployment plan (Start)\n                       Reporting and scripting deployment plan (Complete)\n                       Updating database (Start)\n                       Creating Superheroes...\n                       Dropping Permission...\n                       Dropping Permission...\n                       Creating [dbo].[Alter_Ego]...\n                       Creating [dbo].[Alter_Ego].[FK_Alter_Ego_Comic_Universe]...\n                       Creating [dbo].[Alter_Ego_Person_History]...\n                       Creating [dbo].[Alter_Ego_Person_Temporal_History]...\n                       Creating [dbo].[Alter_Ego_Person_Temporal_History].[ix_Alter_Ego_Person_Temporal_History]...\n                       Creating [dbo].[Comic_Universe]...\n                       Creating [dbo].[Corporation]...\n                       Creating [dbo].[ETL_Error_Log]...\n                       Creating [dbo].[Gadget]...\n                       Creating [dbo].[Gadget_Order_Form]...\n                       Creating [dbo].[Gadget_Order_Form].[IX_Gadget_Order_Form_Corporation]...\n                       Creating [dbo].[Gadget_Order_Form].[IX_Gadget_Order_Form_Gadget]...\n                       Creating [dbo].[Gadget_Order_Form].[IX_Gadget_Order_Form_Person]...\n                       Creating [dbo].[Good_Deed_History]...\n                       Creating [dbo].[Good_Deed_Type]...\n                       Creating [dbo].[MSSQL_TemporalHistoryFor_725577623]...\n                       Creating [dbo].[MSSQL_TemporalHistoryFor_725577623].[ix_MSSQL_TemporalHistoryFor_725577623]...\n                       Creating [dbo].[Person]...\n                       Creating [dbo].[Alter_Ego_Person]...\n                       Creating [dbo].[Alter_Ego_Person].[IDX_Alter_Ego_Person_Alter_Ego_ID]...\n                       Creating [dbo].[DF_Alter_Ego_Person_Alter_Ego_ID]...\n                       Creating [dbo].[DF_Alter_Ego_Person_History_History_Date]...\n                       Creating unnamed constraint on [dbo].[ETL_Error_Log]...\n                       Creating [dbo].[DF_Gadget_Order_Form_Order_Date]...\n                       Creating [dbo].[DF_Gadget_Order_Form_Price_Per_Item]...\n                       Creating [dbo].[DF_Gadget_Order_Form_Shipping]...\n                       Creating [dbo].[DF_Gadget_Order_Form_Tax]...\n                       Creating [dbo].[DF_Gadget_Order_Form_TotalDue]...\n                       Creating unnamed constraint on [dbo].[Good_Deed_History]...\n                       Creating [dbo].[FK_Alter_Ego_Comic_Universe]...\n                       Creating [dbo].[FK_Alter_Ego_Person_Alter_Ego_ID]...\n                       Creating [dbo].[FK_Alter_Ego_Person_Person_ID]...\n                       Creating [dbo].[FK_Gadget_Order_Form_Corporation]...\n                       Creating [dbo].[FK_Gadget_Order_Form_Gadget]...\n                       Creating [dbo].[FK_Gadget_Order_Form_Person]...\n                       Creating [dbo].[CK_Gadget_Order_Form_Number_Ordered]...\n                       Creating [dbo].[Person_itr]...\n                       Creating [dbo].[Show_Alter_Ego_People]...\n                       Creating [dbo].[Add_Good_Deed]...\n                       Creating [dbo].[Return_The_Catch_All_Search]...\n                       Update complete.\n                       Updating database (Complete)\nDeployOptions        : @{AdditionalDeploymentContributors=; AdditionalDeploymentContributorArguments=; \n                       AllowDropBlockingAssemblies=False; AllowIncompatiblePlatform=False; \n                       BackupDatabaseBeforeChanges=False; BlockOnPossibleDataLoss=True; BlockWhenDriftDetected=True; \n                       CommandTimeout=60; CommentOutSetVarDeclarations=False; CompareUsingTargetCollation=False; \n                       CreateNewDatabase=False; \n                       DatabaseSpecification=Microsoft.SqlServer.Dac.DacAzureDatabaseSpecification; \n                       DeployDatabaseInSingleUserMode=False; DisableAndReenableDdlTriggers=True; \n                       DoNotAlterChangeDataCaptureObjects=True; DoNotAlterReplicatedObjects=True; \n                       DoNotDropObjectTypes=; DropConstraintsNotInSource=True; DropDmlTriggersNotInSource=True; \n                       DropExtendedPropertiesNotInSource=True; DropIndexesNotInSource=True; \n                       DropObjectsNotInSource=True; DropPermissionsNotInSource=False; \n                       DropRoleMembersNotInSource=False; DropStatisticsNotInSource=True; GenerateSmartDefaults=False; \n                       IgnoreAnsiNulls=True; IgnoreAuthorizer=False; IgnoreColumnCollation=False; \n                       IgnoreColumnOrder=False; IgnoreComments=False; IgnoreCryptographicProviderFilePath=True; \n                       IgnoreDdlTriggerOrder=False; IgnoreDdlTriggerState=False; IgnoreDefaultSchema=False; \n                       IgnoreDmlTriggerOrder=False; IgnoreDmlTriggerState=False; IgnoreExtendedProperties=False; \n                       IgnoreFileAndLogFilePath=True; IgnoreFilegroupPlacement=True; IgnoreFileSize=True; \n                       IgnoreFillFactor=True; IgnoreFullTextCatalogFilePath=True; IgnoreIdentitySeed=False; \n                       IgnoreIncrement=False; IgnoreIndexOptions=False; IgnoreIndexPadding=True; \n                       IgnoreKeywordCasing=True; IgnoreLockHintsOnIndexes=False; IgnoreLoginSids=True; \n                       ExcludeObjectTypes=; IgnoreNotForReplication=False; \n                       IgnoreObjectPlacementOnPartitionScheme=True; IgnorePartitionSchemes=False; \n                       IgnorePermissions=False; IgnoreQuotedIdentifiers=True; IgnoreRoleMembership=False; \n                       IgnoreRouteLifetime=True; IgnoreSemicolonBetweenStatements=True; IgnoreTableOptions=False; \n                       IgnoreUserSettingsObjects=False; IgnoreWhitespace=True; \n                       IgnoreWithNocheckOnCheckConstraints=False; IgnoreWithNocheckOnForeignKeys=False; \n                       AllowUnsafeRowLevelSecurityDataMovement=False; IncludeCompositeObjects=False; \n                       IncludeTransactionalScripts=False; NoAlterStatementsToChangeClrTypes=False; \n                       PopulateFilesOnFileGroups=True; RegisterDataTierApplication=False; \n                       RunDeploymentPlanExecutors=False; ScriptDatabaseCollation=False; \n                       ScriptDatabaseCompatibility=False; ScriptDatabaseOptions=True; ScriptDeployStateChecks=False; \n                       ScriptFileSize=False; ScriptNewConstraintValidation=True; ScriptRefreshModule=True; \n                       TreatVerificationErrorsAsWarnings=False; Unmod",
                    "output_type": "stream"
                },
                {
                    "name": "stdout",
                    "text": "ifiableObjectWarnings=True; \n                       VerifyCollationCompatibility=True; VerifyDeployment=True}\nSqlCmdVariableValues : {}\n\n\n\n",
                    "output_type": "stream"
                }
            ],
            "execution_count": 10
        }
    ]
}