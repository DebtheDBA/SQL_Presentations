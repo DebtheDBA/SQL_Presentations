{
    "metadata": {
        "kernelspec": {
            "name": "SQL",
            "display_name": "SQL",
            "language": "sql"
        },
        "language_info": {
            "name": "sql",
            "version": ""
        }
    },
    "nbformat_minor": 2,
    "nbformat": 4,
    "cells": [
        {
            "cell_type": "markdown",
            "source": [
                "# Testing the behavior of the different cells\n",
                "\n",
                "## The purpose of this notebook is to examine the following:\n",
                "\n",
                "-   What can we do with a text cell?\n",
                "-   What is the scope of the code cell?\n",
                "    -   Batch\n",
                "    -   Transaction"
            ],
            "metadata": {
                "azdata_cell_guid": "35427c9f-4c28-4686-b21f-3497e51f22fc"
            }
        },
        {
            "cell_type": "markdown",
            "source": [
                "## Modifying the different text.\n",
                "\n",
                "### Clicking inside of the cell to show more!\n",
                "\n",
                "Let's play with the different mark-ups and formatting built-in to set this up properly.\n",
                "\n",
                "bold  \n",
                "italics  \n",
                "underline  \n",
                "highlight\n",
                "\n",
                "  \n",
                "\n",
                "How about images? Try inserting one below:\n",
                "\n",
                "If you are interested, there is a [site](https://medium.com/ibm-data-science-experience/markdown-for-jupyter-notebooks-cheatsheet-386c05aeebed) with Markdown for Jupyter notebooks. You may decide it's not needed with what's provided here."
            ],
            "metadata": {
                "azdata_cell_guid": "09e4947b-2a6d-4796-8bb2-b53517e77662"
            }
        },
        {
            "cell_type": "markdown",
            "source": [
                "## Testing the behavior of the cells \r\n",
                "### Do the cells work the same way that we are used to working with them in Management Studio?\r\n",
                "\r\n",
                "It's very easy to think that the text cells that can be used enhance the comments that we're used to seeing with SSMS. But is that really the case? Let's play a little bit before we start doing our work. "
            ],
            "metadata": {
                "azdata_cell_guid": "2ef26242-0d98-4783-b161-e0a78492f09d"
            }
        },
        {
            "cell_type": "markdown",
            "source": [
                "In Management Studio, you can highlight part of the code and just execute that. Is that the case here?"
            ],
            "metadata": {
                "azdata_cell_guid": "be147d5f-63fa-410e-8e4d-2906af8d138d"
            }
        },
        {
            "cell_type": "code",
            "source": [
                "SELECT 'This is my first statement';\r\n",
                "\r\n",
                "SELECT 'This is my second statement';"
            ],
            "metadata": {
                "azdata_cell_guid": "375513eb-d905-47fd-a4f1-fcaad03b0ec3",
                "tags": [],
                "language": "sql"
            },
            "outputs": [],
            "execution_count": null
        },
        {
            "cell_type": "markdown",
            "source": [
                "## What's the scope of a cell?\r\n",
                "Declare the variable in its own cell"
            ],
            "metadata": {
                "azdata_cell_guid": "223f3051-7d2c-4c0f-802c-1a8f12166d5c"
            }
        },
        {
            "cell_type": "code",
            "source": [
                "DECLARE @test DATETIME = getdate();"
            ],
            "metadata": {
                "azdata_cell_guid": "37372f2f-7ba0-4001-a1ac-c98f96270c24",
                "tags": [
                    "hide_input"
                ],
                "language": "sql"
            },
            "outputs": [],
            "execution_count": null
        },
        {
            "cell_type": "markdown",
            "source": [
                "See the value of the variable set in the previous cell."
            ],
            "metadata": {
                "azdata_cell_guid": "1ee22bb5-3edb-4daa-a232-e4fe0dffa809"
            }
        },
        {
            "cell_type": "code",
            "source": [
                "SELECT @test;"
            ],
            "metadata": {
                "azdata_cell_guid": "204b4b81-1dbf-4e7b-bfde-2780416d7211",
                "tags": [
                    "hide_input"
                ],
                "language": "sql"
            },
            "outputs": [],
            "execution_count": null
        },
        {
            "cell_type": "markdown",
            "source": [
                "Try both cells together"
            ],
            "metadata": {
                "azdata_cell_guid": "43cecae4-ce43-4623-b3a9-7afaf5fdd0cc"
            }
        },
        {
            "cell_type": "code",
            "source": [
                "DECLARE @test DATETIME = GETDATE();\r\n",
                "\r\n",
                "SELECT @test;"
            ],
            "metadata": {
                "azdata_cell_guid": "21332f6d-0dc7-4b86-ae27-1cefb3ac9530",
                "tags": [],
                "language": "sql"
            },
            "outputs": [],
            "execution_count": null
        },
        {
            "cell_type": "markdown",
            "source": [
                "## Transactions\r\n",
                "Let's see what happens when we use Explicit Transactions. First, let's start our transaction."
            ],
            "metadata": {
                "azdata_cell_guid": "66bc31c0-7d1e-4a0e-b168-69dfffb709b7"
            }
        },
        {
            "cell_type": "code",
            "source": [
                "USE Superheroes;\r\n",
                "BEGIN TRANSACTION celltocell;"
            ],
            "metadata": {
                "azdata_cell_guid": "db622227-24b5-4112-8309-18a0d30592f8",
                "tags": [],
                "language": "sql"
            },
            "outputs": [],
            "execution_count": null
        },
        {
            "cell_type": "markdown",
            "source": [
                "Now to see if the transaction is still open"
            ],
            "metadata": {
                "azdata_cell_guid": "f7c9efec-5ab2-4cbf-8c8b-1397285d7f04"
            }
        },
        {
            "cell_type": "code",
            "source": [
                "DBCC OPENTRAN;\r\n",
                "\r\n",
                "select * from sys.dm_tran_active_transactions;\r\n",
                ""
            ],
            "metadata": {
                "azdata_cell_guid": "7e319609-7342-4844-a93f-f999bc9e1025",
                "tags": [],
                "language": "sql"
            },
            "outputs": [],
            "execution_count": null
        },
        {
            "cell_type": "markdown",
            "source": [
                "I'm not sure I trust that... Let's do an update somewhere so we can get some locks and see what happens."
            ],
            "metadata": {
                "azdata_cell_guid": "2034fd5e-0f30-4acf-b5ae-8252fae12d9a"
            }
        },
        {
            "cell_type": "code",
            "source": [
                "UPDATE aep\r\n",
                "SET Alter_Ego_ID = ae.Alter_Ego_ID\r\n",
                "FROM Alter_Ego_Person as aep \r\n",
                "\tJOIN Person as p ON aep.Person_ID = p.Person_ID\r\n",
                "\tCROSS JOIN Alter_Ego as ae \r\n",
                "WHERE (First_Name = 'Deborah' AND Last_Name = 'Melkin') AND Alter_Ego_Name = 'Wonder Woman'\r\n",
                ";"
            ],
            "metadata": {
                "azdata_cell_guid": "131bef32-c6e1-4fd7-afd7-d62c8fce280a",
                "tags": [],
                "language": "sql"
            },
            "outputs": [],
            "execution_count": null
        },
        {
            "cell_type": "markdown",
            "source": [
                "Time to check the results:"
            ],
            "metadata": {
                "azdata_cell_guid": "aa1731eb-8224-4071-8eee-41df6342a260"
            }
        },
        {
            "cell_type": "code",
            "source": [
                "SELECT p.First_Name, p.Last_Name, ae.Alter_Ego_Name\r\n",
                "FROM Person as p \r\n",
                "    JOIN Alter_Ego_Person as aep ON p.Person_ID = aep.Person_ID\r\n",
                "    JOIN Alter_Ego as ae ON aep.Alter_Ego_ID = ae.Alter_Ego_ID\r\n",
                "WHERE p.Last_Name = 'Melkin'\r\n",
                ";"
            ],
            "metadata": {
                "azdata_cell_guid": "3f93bb3f-d20a-4c37-a95e-fbba8d9e5108",
                "tags": [],
                "language": "sql"
            },
            "outputs": [],
            "execution_count": null
        },
        {
            "cell_type": "markdown",
            "source": [
                "Now let's check our DBCC OPENTRAN."
            ],
            "metadata": {
                "azdata_cell_guid": "42c859b8-bd79-4208-b3aa-880815576909"
            }
        },
        {
            "cell_type": "code",
            "source": [
                "DBCC OPENTRAN;\r\n",
                "\r\n",
                "select * from sys.dm_tran_active_transactions;\r\n",
                ""
            ],
            "metadata": {
                "azdata_cell_guid": "a847f617-1105-4d43-846f-d428896d0fac",
                "tags": [],
                "language": "sql"
            },
            "outputs": [],
            "execution_count": null
        },
        {
            "cell_type": "code",
            "source": [
                "EXEC sp_lock;"
            ],
            "metadata": {
                "azdata_cell_guid": "d24b3995-6ea9-4df4-894b-0ce32131189a",
                "tags": [
                    "hide_input"
                ],
                "language": "sql"
            },
            "outputs": [],
            "execution_count": null
        },
        {
            "cell_type": "markdown",
            "source": [
                "Enough fun - let's reset to where things were..."
            ],
            "metadata": {
                "azdata_cell_guid": "e12243a4-d2c9-4b21-8c2d-2f420406eb5d"
            }
        },
        {
            "cell_type": "code",
            "source": [
                "ROLLBACK TRAN celltocell;"
            ],
            "metadata": {
                "azdata_cell_guid": "54a70580-bfe0-454b-aa84-a72ef1b8d010",
                "tags": [
                    "hide_input"
                ],
                "language": "sql"
            },
            "outputs": [],
            "execution_count": null
        },
        {
            "cell_type": "markdown",
            "source": [
                "Let's confirm that everything has been rolled back."
            ],
            "metadata": {
                "azdata_cell_guid": "d8d14948-07ce-40ec-bb1f-f105d8bcbb6f"
            }
        },
        {
            "cell_type": "code",
            "source": [
                "SELECT p.First_Name, p.Last_Name, ae.Alter_Ego_Name\r\n",
                "FROM Person as p \r\n",
                "    JOIN Alter_Ego_Person as aep ON p.Person_ID = aep.Person_ID\r\n",
                "    JOIN Alter_Ego as ae ON aep.Alter_Ego_ID = ae.Alter_Ego_ID\r\n",
                "WHERE p.Last_Name = 'Melkin';"
            ],
            "metadata": {
                "azdata_cell_guid": "e097a99c-6130-4261-88d1-b34140c5ac3b",
                "tags": [],
                "language": "sql"
            },
            "outputs": [],
            "execution_count": null
        },
        {
            "cell_type": "markdown",
            "source": [
                "## SELECT vs PRINT\r\n",
                "Is there a difference between SELECT and PRINT?"
            ],
            "metadata": {
                "azdata_cell_guid": "df7d93c2-7046-4aea-98fa-b762cc53f6ef"
            }
        },
        {
            "cell_type": "code",
            "source": [
                "SELECT 'Let''s find out...'"
            ],
            "metadata": {
                "azdata_cell_guid": "73b773c5-73a7-4cc7-a779-56123c141412",
                "tags": [
                    "hide_input"
                ],
                "language": "sql"
            },
            "outputs": [],
            "execution_count": null
        },
        {
            "cell_type": "code",
            "source": [
                "PRINT 'Where''s the fun in that?'"
            ],
            "metadata": {
                "azdata_cell_guid": "8bd42089-9332-4805-8dd9-fbda6906216a",
                "tags": [
                    "hide_input"
                ],
                "language": "sql"
            },
            "outputs": [],
            "execution_count": null
        }
    ]
}