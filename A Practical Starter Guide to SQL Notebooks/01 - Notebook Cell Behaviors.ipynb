{
    "metadata": {
        "kernelspec": {
            "name": "SQL",
            "display_name": "SQL",
            "language": "sql"
        },
        "language_info": {
            "name": "sql",
            "version": ""
        }
    },
    "nbformat_minor": 2,
    "nbformat": 4,
    "cells": [
        {
            "cell_type": "markdown",
            "source": [
                "# Testing the behavior of the different cells\n",
                "\n",
                "## The purpose of this notebook is to examine the following:\n",
                "\n",
                "-   What can we do with a text cell?\n",
                "-   What is the scope of the code cell?\n",
                "    -   Batch\n",
                "    -   Transaction"
            ],
            "metadata": {
                "azdata_cell_guid": "35427c9f-4c28-4686-b21f-3497e51f22fc"
            }
        },
        {
            "cell_type": "markdown",
            "source": [
                "## Modifying the different text.\n",
                "\n",
                "### Clicking inside of the cell to show more!\n",
                "\n",
                "Let's play with the different mark-ups and formatting built-in to set this up properly.\n",
                "\n",
                "**bold**  \n",
                "_italics_  \n",
                "<u>underline</u>  \n",
                "<mark>highlight</mark>\n",
                "\n",
                "How about images? Try inserting one below:\n",
                "\n",
                "![](data:image/png;base64,iVBORw0KGgoAAAANSUhEUgAAAyMAAAUkCAYAAADIBspHAAAgAElEQVR4nOzde5BmZ33g99/p+1yl0UjADBIIj0AGI8UY5LIxYJy4pC3j2FtbZi1sk9pNtlIxxEml1lV4s0nFtVWJzR+bytYW2KlUaqtsg+34sg6GjaVkgwwCew1ChBHIEgya1YgZSTOt1kz3zPT1PfmjNaO5dPf05X3f33PO+XyqVDC37qfffp9znm+fW1XXdR1AI1Ufvz97CAA7Un/s4ewhAIlGsgcAAAB0kxgBAABSiBEAACCFGAEAAFKIEQAAIIUYAQAAUogRAAAghRgBAABSiBEAACCFGAEAAFKIEQAAIIUYAQAAUogRAAAghRgBAABSiBEAACCFGAEAAFKIEQAAIIUYAQAAUogRAAAghRgBAABSiBEAACCFGAEAAFKIEQAAIIUYAQAAUogRAAAghRgBAABSiBEAACCFGAEAAFKIEQAAIIUYAQAAUogRAAAghRgBAABSiBEAACCFGAEAAFKIEQAAIIUYAQAAUogRAAAghRgBAABSiBEAACCFGAEAAFKIEQAAIIUYAQAAUogRAAAghRgBAABSiBEAACCFGAEAAFKIEQAAIIUYAQAAUogRAAAghRgBAABSiBEAACCFGAEAAFKIEQAAIIUYAQAAUogRAAAghRgBAABSiBEAACCFGAEAAFKIEQAAIIUYAQAAUogRAAAghRgBAABSiBEAACCFGAEAAFKIEQAAIIUYAQAAUogRAAAghRgBAABSiBEAACCFGAEAAFKIEQAAIIUYAQAAUogRAAAghRgBAABSiBEAACCFGAEAAFKIEQAAIIUYAQAAUogRAAAghRgBAABSiBEAACCFGAEAAFKIEQAAIIUYAQAAUogRAAAghRgBAABSiBEAACCFGAEAAFKIEQAAIIUYAQAAUogRAAAghRgBAABSiBEAACCFGAEAAFKIEQAAIIUYAQAAUogRAAAghRgBAABSiBEAACCFGAEAAFKIEQAAIIUYAQAAUogRAAAghRgBAABSiBEAACCFGAEAAFKIEQAAIIUYAQAAUogRAAAghRgBAABSiBEAACCFGAEAAFKIEQAAIIUYAQAAUogRAAAghRgBAABSiBEAACCFGAEAAFKIEQAAIIUYAQAAUogRAAAghRgBAABSiBEAACCFGAEAAFKIEQAAIIUYAQAAUogRAAAghRgBAABSiBEAACCFGAEAAFKIEQAAIIUYAQAAUogRAAAghRgBAABSiBEAACCFGAEAAFKIEQAAIIUYAQAAUogRAAAghRgBAABSiBEAACCFGAEAAFKIEQAAIIUYAQAAUogRAAAghRgBAABSiBEAACCFGAEAAFKIEQAAIIUYAQAAUogRAAAghRgBAABSiBEAACCFGAEAAFKIEQAAIIUYAQAAUogRAAAghRgBAABSiBEAACCFGAEAAFKIEQAAIIUYAQAAUogRAAAghRgBAABSiBEAACCFGAEAAFKIEQAAIIUYAQAAUogRAAAghRgBAABSiBEAACCFGAEAAFKIEQAAIIUYAQAAUogRAAAghRgBAABSiBEAACCFGAEAAFKIEQAAIIUYAQAAUogRAAAghRgBAABSiBEAACCFGAEAAFKIEQAAIIUYAQAAUogRAAAghRgBAABSiBEAACCFGAEAAFKIEQAAIIUYAQAAUogRAAAghRgBAABSiBEAACCFGAEAAFKIEQAAIIUYAQAAUogRAAAghRgBAABSiBEAACCFGAEAAFKIEQAAIIUYAQAAUogRAAAghRgBAABSiBEAACCFGAEAAFKIEQAAIIUYAQAAUogRAAAghRgBAABSiBEAACCFGAEAAFKIEQAAIIUYAQAAUogRAAAghRgBAABSiBEAACCFGAEAAFKIEQAAIIUYAQAAUogRAAAghRgBAABSiBEAACCFGAEAAFKIEQAAIIUYAQAAUogRAAAghRgBAABSiBEAACCFGAEAAFKIEQAAIIUYAQAAUogRAAAghRgBAABSiBEAACCFGAEAAFKIEQAAIIUYAQAAUogRAAAghRgBAABSiBEAACCFGAEAAFKIEQAAIIUYAQAAUogRAAAghRgBAABSiBEAACCFGAEAAFKIEQAAIIUYAQAAUogRAAAghRgBAABSiBEAACCFGAEAAFKIEQAAIIUYAQAAUogRAAAghRgBAABSiBEAACDFWPYAgO379tu+NJCPO1LtjqqaGsjHBtqjrpejV5/LHgbQYGIEGuyuyQsD+siD+rgAAK9ymhYAAJBCjAAAACnECAAAkEKMAAAAKcQIAACQQowAAAApxAgAAJBCjAAAACnECAAAkEKMAAAAKcQIAACQQowAAAApxAgAAJBCjAAAACnECAAAkEKMAAAAKcQIAACQQowAAAApxAgAAJBCjAAAACnECAAAkEKMAAAAKcQIAACQQowAAAApxAgAAJBCjAAAACnECAAAkEKMAAAAKcQIAACQQowAAAApxAgAAJBCjAAAACnECAAAkEKMAAAAKcQIAACQQowAAAApxAgAAJBCjAAAACnECAAAkEKMAAAAKcQIAACQQowAAAApxAgAAJBCjAAAACnECAAAkEKMAAAAKaq6ruvsQcBOVR+/P3sIKX7lthPr/tme0d0xUY0PcTQA65vvLcTF3vx1v/8vT9+RMJp89ccezh4CFGEsewDA9nV1Jw4AtIPTtAAAgBRiBAAASCFGAACAFGIEAABIIUYAAIAUYgQAAEghRgAAgBRiBAAASCFGAACAFGIEAABIIUYAAIAUYgQAAEghRgAAgBRiBAAASCFGAACAFGIEAABIIUYAAIAUYgQAAEghRgAAgBRiBAAASCFGAACAFGIEAABIIUYAAIAUYgQAAEghRgAAgBRiBAAASCFGAACAFGIEAABIIUYAAIAUYgQAAEghRgAAgBRiBAAASCFGAACAFGIEAABIIUYAAIAUYgQAAEghRgAAgBRj2QMA+u8N42PxhpHF7GEQETG2N2J0X/YoIN3JxQvx3fnZ7GEAhanquq6zBwH01+yf/xdRzz2RPQwiotr3zqj2vyt7GFCEve/7cPYQgMI4TQsAAEghRgAAgBRiBAAASCFGAACAFGIEAABIIUYAAIAUYgQAAEghRgAAgBRiBAAASCFGAACAFGIEAABIIUYAAIAUYgQAAEghRgAAgBRiBAAASCFGAACAFGIEAABIIUYAAIAUYgQAAEghRgAAgBRiBAAASCFGoI3GbskeAQDADYkRAAAghRgBAABSiBEAACCFGAEAAFKIEQAAIIUYAQAAUogRAAAghRgBAABSiBEAACCFGAEAAFKIEQAAIIUYAQAAUogRAAAghRgBAABSiBEAACCFGAEAAFKIEQAAIIUYAQAAUogRAAAghRgBAABSiBEAACCFGAEAAFKIEQAAIIUYAQAAUogRgEHqXcgeAQAUS4wADFK9kj0CACiWGAEAAFKIEQAAIIUYARgkp2kBwLrECMAA1SsuYAeA9YgRaKNqNHsEXObICACsR4xAG41MZI+AS1YuZo8AAIo1lj0AYAhGJqIavzVidF/E2L7V3xs/GFU1ed1freuFiKXp1V8sz0aszEa9dCaitzjEAbeI54wAwLrECLTRyK6o9r8rqonDEeMHt3SkpIqImLrz+t/rLUYsTUe9eDJi4WTUCyf7OeL2qlciVmZXQxAAuIoYgRaY+8LvXvXrauK1EROv7e8nGZmImDwU1eShiH3vjCoi6vnjERePRz3/jCMnG6gXTka1++7sYQBAccQINNi1ETJs1dSdEVN3RhXvXw2T80+t/i9Xu3g8QowAwHXECDRMdoCs53KYrMxGPXc06gtPOVryinrx5OqpbgDAVcQINESpEXKd0X1R3fTuqPa9K+rzR6Oe+4Yo6S1GPX98NdgAgMvc2hcaoDEhcqWRiaj2vTNGXvNzrpeIiDj/VPYIAKA4joxAwRoZIdca3RfVgfdHtfvu6J390qu3De6Yev54VO6qBQBXcWQECtWKELnS5KHVoyT735U9kjS1oyMAcBVHRqAwrYuQa1T73hnV1J3Rm35o9fkbHVKfPxrV3nu39NwXAGgzR0agIG0PkcvGD64eJenaBd29xdUL+gGAiBAjUIzOhMglIxNRHXwgqr33ZI9kqOrZxzp3RAgA1iNGoACdC5ErVDe9O6oDP5E9jKGqX/5y9hAAoAhiBJJ1OUQuqXa/pVNBUs8f96R6AAgxAqmEyKs6FyQzn/cwSAA6T4xAEiFyvU4FSW8xei/9RfYoACCVGIEEQmR9nQqShVNRn3X9CADdJUZgyITIjVW739KZu2zVc0ejvuBhiAB0kxiBIRIim1fd9O6oJg9nD2Mo6plHBAkAnSRGYEiEyNZVtzwQMbovexhDIUgA6CIxApRrZCJGunL9SAgSALpHjMAQOCqyA5OHOnP9SMQrQeKidgA6QozAgAmRnav2vaszp2tFrF7U3jvzGc8hAaD1xAhQvo6drhUREQunovfCpzypHYBWEyMwQI6K9NHkoaim7swexXD1FqOefijq6YciVmazRwMAfSdGgMaobn539hBS1PPHo/fiH0d97qtO3QKgVcQIDIijIgMwui+q3XdnjyJHbzHq2cdWT90SJQC0xFj2AAC2otr/zm7f/vaVKKlnH4tq91sidr2pe6evAdAaYgQGwFGRAXrl6Eing+QV9YWnIy48HfXIxGqQTB5efWp9h+48BkCziRGgcaq994iRK/UWXw2TiNUYGdsb1cThiJHJiPGDV/31amxfN4NlaTrq3sLaf7YyG7G8yZsEbPD6VeO3RoxMbHOAa4+rXm9cS9MR630915q4NaJae1x9HzPAFogR6DNHRYZg/ODqf0vT2SMp08rs6iJ24dSaf1wPeThdcvm1HZlYjcHJw6vXOW1msd9bjHr+mYiLx6NePDm064KG9X6odn1fRHx4SJ8NaAoxAjRStffeqGc+nz0MWFtvcfUZMfPHo579alR77olq773rRkl97qtRnz/qxgRA54gRoJGqqTv9hJ9muHTTgQtPx8jBB64+bW5pOnozn+/GUb7ls9kjAArk1r7QR07RGqJLF21DU6zMrj4v5tL1TkvT0TvzmW6ESETU9XL2EIACOTICNNeuN0XMH88eBWxJPfNIRF1Hfe6vnJYFdJ4YARqrmjzkVC0aqX75C+FWAgBO04K+cYpWgtGO3qKWFhAiABFiBGi4avJw9hAAgG0SI0CziREAaCwxAjRa5TQtAGgsMQI02+Sh7BEAANskRqAPXLyezNERKF41tj97CECBxAjQeNWYGIHiVePZIwAKJEaA5qsmskcAAGyDGAGab+LW7BEAANsgRgAAgBRiBAAASCFGAACAFGIEAABIIUYAAIAUYgQAhq7KHgBAEcQIAAxZtf+d2UMAKIIYAYAhqg68P6p974zqwPuzhwKQTowAzbdwMnsEcGMjE1EdfCCq3XdHRES1++4Yec3PRYxMJA8MII8YAYABq3a/JUZe83NRTd159R+MH4yR1/5iVHvvyRkYQLKx7AEA7FS9dCZ7CLTR5KHrf6+3GLE0vbl/P34wqsnDq6Exum/9vzcyEdVN745q7z1RXzwe9YWnNv851hrj8lzEyuzm/j1AMjECfbD3fR+OuS/8bvYwuqm3uPofbGRkYjUORvethsHYvsuBUF3x/7dt/tmol89GjO2PqMajmjy89Y8xui+qvfe8epRkaTrqpZmI3sXVjzd+cEdDrK88nfHS/1+ajrpeiFg4taOPDbBdYgRots3+BJnuGN0X1eShiPFbLx+dGLipN/T/Zr3jB6PaYYBc6arX4Yr/f3ncK7NRL89GLJyMevHk6twS+sCAiRGg0epFF68Tq9diTB6OatedOz/K0VWj+1aPHE0evhwo9cLJiPnjUV887tQvYCDECNBsi64X6axLpzXtvtsdqQakmjy8Gic3vXv1lK65b0Q9f9wRE6BvxAjQaI6MdNDovqj2v/PyLXIZkvGDUR34iah6i6tRcv6oKAF2zK19oU/2vu/D2UPoHue0d8srd50aed0vCJFMIxNR7X/X6i2Jr71VMcAWiRGgser549lDYFhG98XIrT/jeRwlufQQR0+SB3bAaVpAY9UXn8keAsMwfjBGbv0Z14UU6tJRqnrmkeSRAE3kyAj0kVO1hmhl1m19u2BkIkYOPiBEClftvnv1IneALRIjQCPVc0ezh8AQVDe92616G6Lae8/aT4QH2IAYARqpvuh6kdYb3edC9Yap9r1r/T/0nBJgDWIE+sypWoNXX3jawqYDXKzePNXk4Yh1nhpfu/MdsAYxAjTPhaeyR8AwrLOopWzV5OHsIQANIkZgABwdGaCFU1EveNBhF1jUNlTlZgPA5okRoFHq2a9mDwEA6BMxAgPi6MgAOCoCDVZnDwAokBgBGqM38/nsITBMniPTMmIEuJ4YgQFydKR/6rmj7qDVMXVvIXsIbIeIBLZAjADlW5l1rUgXOSWvker1fmhQOzICXE+MwIA5OrJz9cwjEZ5R0Dn1ohhpnN7i+kdGVuaGOxagEcQIDIEg2b567qiL1rtq4ZQIbZh6/pnsIQANI0ZgSATJNixNR332y9mjIJHFbcNcPJ49AqBhxAhQpt5i9KYfyh4FyeoLT2UPgc1amY16XowAWyNGYIgcHdm83pnPuHsWq6dqeR80Qn1eOAJbJ0ZgyATJjdVzj7s9KJfV59xJrXi9xajPH80eBdBAYgQSCJKN1fMnsodAQeoLT4vTwtVz33CzAWBbxAgkESSweb2zX8oeAutZmY169rHsUQANJUYgkSCBTVo45WL2QvVmPp89BKDBxAgkEySwOfXZL7uYvTD13NHVmwwAbJMYgQIIEtiE3qKfwpdkaTrqWTcXAHZGjEAhBAlswsIpD8IswaUwdNE6sENiBAqy930fFiVwA/XcUdePJKtnPu8OZ0BfiBEokCCBjdUzj1gMJ6lnPu9J60DfiBEolKMksLHemc8IkiFbPSr1dPYwgBYRI1A4QQLr6C0KkiGqLzzleh2g78QINICjJLAOQTIU9dzR1VPjAPpMjECDiBJYwytBUi+czB5JK9Uzn3dEBBgYMQINJErgGr3FqM/8ubts9VNvMerph1wjAgzUWPYAgO27MkjmvvC7iSOBMtQzj0QsnIzqwE9kD6XZVmajN/2Q09+AgRMj0BLXHikRJ3RVfeHpqJemY+TgAxGj+7KH0zj1/PHV54h4oCEwBGIEWspREzptaTp6L/5xVAd+IqqpO7NH0wy9xahnvxr13NHskQAd4poR6ADXl9BJl655mH7IT/lvoF44Gb0X/1iIAEMnRgBotXr+ePRe+JSnhq+ltxj12S9HfebPI1Zms0cDdJDTtABov0tHSSYPxciBn3AtSbzyEMNzj4kQIJUjI9ARTtWCiFg4Fb3nP93pC7TrhZOrz2WZeUSIAOkcGQGgc+oLT0c9fzyqPfdEtffeiJGJ7CENXL1wMurZr0YsnMoeCsBlYgSAbuotRj37WNTnj65GyZ67W3n6lggBSlbVdV1nDwIYnibc5rd35jMWTqSodr8lYvfdUU0ezh7KjtUXnlq9O1ZBDy7c/6FHs4cAFMaREQB4RX3h6YgLT0c9fjCq3XdHtfvuZp3CtTS9GiEXnursNTFAszgyAh1U+tERR0YoSTV1Z8SuO6OaelOZYbIyG/XF46sBUtBRkLU4MgJcy5ERANhAPX88Yv541PFIxOShqKbetHoa1/jB3DEtnIz64nF3xAIaTYxAB+1934fjzP/zv8XUxFT2UKBZFk5FvXAq6oiIkYmoJl6JksnDUY3fOpgjJ0vTUa/MrsbH0hlHDYFWESPQUceeeyZ+4Pvemj0MaK7e4uWjJjH72OVAifGDUY3uW70z19i+q+7QdV2wLE1H3Vt49dcLJ1/9/XpBeACtJ0ago7589N/FLfsPxKFbX5c9FGiP3uLq0ZNYOyJcpAlwNU9ghw577KmvZw8BuqcazR4BQDHECHTYqTPPx9MnvpM9DOiQKqJeyR4EQDHECHTc1/7W0REYHidqAVxJjEDHzV6Yi685XQsASCBGgDh67FuxuORpzQDAcIkRIBaXFuMvH/dkZABguMQIEBERx089G6fOPJ89DACgQ8QIcNlfPv6o07UAgKERI8BlsxfmPHsEABgaMQJc5Ylj33K6FgAwFGIEuI7TtQCAYRAjwHVmL8zFXz3xN9nDAABaTowAa3r62e/E0ye+kz0MAKDFxAiwrr86+jcxffal7GEAAC0lRoB1XXoYoutHAIBBECPAhqbPvuTp7ADAQIgR4IaOn3o2vub5IwBAn4kRYFMe+9uvu6AdAOgrMQJs2l9+7VEXtAMAfSNGgC357Jf+QpAAAH0hRoAtWVxaFCQAQF+IEWDL3PIXAOgHMQJsy/TZl+KzX/oLQQIAbJsYAbZNkAAAOyFGgB0RJADAdokRYMemz74Uv/9//7GL2gGALREjQF+4yxYAsFViBOibS0Hy759/NnsoAEADiBGgrxaXFuPhf/f/xhPf/Vb2UACAwokRYCD+6ujfxF8+/mj2MACAgokRYGCefvY78aePfCbmLsxlDwUAKJAYAQZq+uxL8SePfCZOnXk+eygAQGHECDBwly5s/9pTX88eCgBQEDECDM1jf/t1p20Ba6o+fn9UH78/exjAkFV1XdfZgwCu15Sd8q464qMzvTi8vPlNycT4RLzz+38w3v59b1vzz3tnPhOxcKpfQwQK8Jtnx+M3zo5v6u/WH3t4wKMBSiFGoABNCY/1bCdIIiIO3fq6eP873hN7d++96vfFCLTP5y6Oxi+cntz03xck0A1iBBI0PT7Wst0gmRifiHuOvC1+6O4fvPx7YgTa59GFkfjAC1Nb+jeCBNpPjMCQtDFArrXdIImI2Ld7b/z4O94Th259nRiBFtpOjEQIEmg7MQID1IUAudZOgiRi9dStv3PXxRhZfrHPIwMybTdGIgQJtJkYgT7rYoBca6dB8oG7l+J1+3p9HhWQaScxEiFIoK3c2hf6xG0pX3WxivjEgZE4OVZlDwVoCdtXaCcxAjskQtYmSIB+s62F9hEjsE0i5MYECdBvtrvQLmIEtkiEbI0gAfrNNhjaQ4zAJomQ7RMkwFifP57tMbSDGIFNsNPbOUEC3bZnpP8377RthuYTI7ABR0P6S5AA/WYbDc0mRmANImRwBAl0000DXHHYXkNziRG4hp3a4AkSoN9su6GZxAhcwc5seAQJ0G+24dA8YgTCaVlZBAl0x9necOa5bTk0ixih8+y4cgkS6IazveF9Ltt1aA4xQqfZYZVBkAD9ZvsOzSBG6Cw7qrIIEmi3hXr4c9t2HsonRugkO6gyXQqSBT0CrfPCSs7ntb2HsokROseOqWwXq4iTY9mjANrEdh/KJUboFDukZlhxZARa54XkiW37D2USI3SGHRFAnoxrRq5lPwDlESN0gh0QABH2B1AaMULr2fEAcCX7BSiHGKHV7HAAWIv9A5RBjNBadjQAbMR+AvKJEVrJDgaAzbC/gFxiBADoNEECecQIrWOnAsBW2XdADjFCq9iZALBd9iEwfGKE1rATAWCn7EtguMQIrWDnAUC/2KfA8IgRGs9OA4B+s2+B4RAjNJqdBQCDYh8DgydGaCw7CQAGzb4GBkuM0Eh2DgAMi30ODI4YoXHsFAAYNvseGAwxQqPYGQCQxT4I+k+M0Bh2AgBksy+C/hIjNIKNPwClsE+C/hEjFM9GH4DS2DdBf4gRimZjD0Cp7KNg58QIxbKRB6B09lWwM2KEItm4A9AU9lmwfWKE4tioA9A09l2wPWKEotiYA9BU9mGwdWKEYtiIA9B09mWwNWKEIth4A9AW9mmweWKEdDbaXGssewAAO2TfBpsjRkhlY81a9tgyAS1gHwc3ZpdPGhtp1jMVdfYQgD67aaSb89q+DjYmRkhh48xGJqvsEQD91tUYibDPg42IEYbORpkbGRMjQMvY98HaxAhDZWPMZuypuvsTVGirN4yZ1/aBcD0xwtDYCAPQdfaFcDUxwlDY+ALAKvtEeJUYYeBsdNmq7y7bNEHbHF00r69k3wirbBkYKBtbtuO8U8uhdc723JniWvaRIEYYIBtZANiYfSVdJ0YYCBtXdsJPUKF9nl02r9djn0mXiRH6zkaVnXJuObTPv18RIxux76Sr7PHpKxtTANge+1C6SIzQNzai9MsXF2yaoG0enR/NHkIj2JfSNfb49IWNJ/3kmhFolxOuF9kS+1S6RIywYzaa9JtrRqBdXC+ydfatdIU9PjtiY8mgPOpULWgNp2htj30sXWBvz7bZSDJIFi/QHq4D2z77WtrO1oFtsXFk0JqweDnn2pYdq6ux7CHc0MKeu7KH0Hh+uLAz9rm0Wfl7e4pjo8gwPDo/Wvxi/7EGXNsyt1j2a7g8dSh7CDe0NHV79hAa7XMXhUg/2PfSVuXvSSmKjSHD9NnCFzG/PVv+T/W/d67sGOmN7IqV8Zuyh7Ghxb1vzh5Co33uQtnzuEnsg2kjMcKm2QgybKUvYubqiOcKv0vQ10+OZw/hhub33ZM9hA2tjO2PpV2OjmxX6T9UaBr7YtpGjLApNn5k+OzF8k/V+uPzZS+05hYjzi2U/RrOvvYD2UO4oblbfzJ7CI306fNjnhs0APbJtIkY4YZs9Mj0ycJPhfofXp6IXvYgbuAbp8oOpuWJg7E8eVv2MDZ08aYfjN7oruxhNM6nCo/1JrNvpi3ECBuysSPbp86XHSMREf9X4aehPHVmNFbq7FFs7OXDD2YPYUO90d1x4cC7s4fRKCeWK3fRGjD7aNpAjLAuGzlK8OxyFZ8uPEg+NjMeha/1429Pl70onN9/T6yM7c8exobmbnOq1lb8xtnyr1dqA/tqmk6MsCYbN0pS+qLmxPJIfKnw56L89bNj0Su8mM6+/uezh7Ch5YmDceGWH80eRiOcWK4acVSzLeyzabKy956ksFGjNE04OvILpyeLv3bk8ZNlv4YXbr4vViZuyR7Ghl4+/POuHdmEX5uZyB5C59h3064y1vcAACAASURBVFRihKvYmFGqX5sZL/rOWmd7VXxqruzF/tdPjcbiSvYoNvbSG/5R9hA21Bvd7c5aN/Dowojb+SaxD6eJxAiX2YhRsrO9qvjTtf7LlybifOGnQj3y3bJfw4U9d8XCnrdkD2ND5173H8fKxMHsYRTLUZFc9uU0jRghImy8aIZPzo7Fo4Vfm/EPzkxmD2FDJ86OxPfOlv0anr7rV6MeKTuaXrrjH2QPoUi/eXY8ji6W/f7qAvt0msQWAxstGuWXpyeLPl3r4Yuj8W8Lv53pX3x7PJYLv8Cl9MX+wt67Y+7W/yh7GEV5YnGk+KOXXWLfTlOIkY6zsaJpnl2u4penyz4N5O+9OBnTBQdTxGqQlOzizffFhZt/OHsYG3r59T8fS7tuzx5GEc71qvhQ4UcFu8g+niYQIx1mI0VTffbiaPxW4U9m//HnJ2Op4OtHXpgdice+V/Zr+NIb/1HxT2afvvOjsVJZhP/y9EQ8u1x2gHeVfT2lEyMdZeNE0/3azETR14+cWB6J//yliaIfhvj1U6Nx7KVyX8OIiBff/E+Lvn5keeJgfPeWD2UPI9U/mZlw96zC2edTsrL3QgyEjRJt8QunJ+OJgi+W/dPzY/FfvVT2KWWPfHc8zi2U+xPt3ujueOHuf1Z0kFwce0184XjZR5kG5dPnx+KThR+lZJV9P6Uqdy/OQNgY0SZne1X81ItlB8nvzI3F/1T4Rb1/dHSi6CBZnjgYp+/6byOqcr/P3z4z2rkg+fT5seKv3+Jq1gCUqNwtO31nI0QbNSFIPn52XJDs0OKu18eLR/5x0UdIuhQkQqS5rAUoTbl7b/rKxoc2a0qQ/Erh15D80dGJeHm+4CDZ8+biT9m6FCSlP+l+J35rVog0nTUBJSl3z03f2OjQBWd7VfzY81Px6fPl/mT6d+bG4j+dnij6Llt/8sREPHWm3F3D8sTBeOHufxYrE7dkD2Vd3z4zGv/mqYlWBslHpic8Yb0lrA0oRbl7HPrCxoau+eXpifgnBS+W/vT8WLzj1FTRzyF59Ph4PHp8rNijOMsTB+PUW38zFva8JXso65q+UMUffmMyXrpQ7vd5K871qnjP81PxqYJjn62zRqAEYqTFbGToqk/OjsV7np8q9rStE8sj8X3P7YrPXij3dqhPnRmN/+Mbk3FhqdzF9Om7fjVePvz3i72wfXEl4l9/ayIeP1nu93kzPndxNN5+ciqOFjqf2BlrBbLZsrSUjQtdd3RxJH7qxcn4zYIvHP/FM5PxwdOTcbaXPZK1zS1G/P7/NxHffLHcxfTcbT8Zz3///xhLu+7IHsq6vnZyLP7sWxONO0pyrlfFL56ejF84PRlnCz6Sx85ZM5BJjLSQjQqsOtur4jfOjsd7np8q9gGJD18cjTc8tzt+Z24sCm2S+Otnx+IPvzFZ7MXtyxMH44W3/Pfx8uG/H/VImU9Dn75Qxb/+1kT89YlmXNz+W7Nj8faTUx5m2CHWDmQpc+/MttmYwPWOLo7EB16Yig+8OFlslPzKSxNx78nVaCrxWo25xdWL2z/7VLkPSZy77Sfje/f8yzh/y3uKPXXrmy+Mxh9+YzIePzlaZJR8+vxY3HNyV/zazISjIR1kDUGGMrfWbIuNCGzs0fnRoqPkxPJqNN1zcir+7fxoLGcPaA0vzI7EHx0tO0pm7vhP4rl7fzvmbv0Poze6K3s411lcWT11q6QouRQhvzw9Ec8ul/l9ZTisJRg2t8VoCRsP2LxH50fjA/Oj8YaxOj6ybyl+etdK3DFWzvGIE8sj8fdeXD3d6NdvXooP7lmO20fLGV/Eq1GydyLiXbcvxZ0392K0sL57+fUPxsuvfzCmzh2Nm57/sxi/+FxEQcedLkXJ106OxZtvXYk33tyLN948vJP1nlgciU+dH4tPnR91FISrVB+/P+qPPZw9DDqiquu6nC0z2yJEYOfumejFT+9aifdMrcR7Jje3IPzAi5Px6Pxwzqm/aaSO/2b/cvzs7uV4w1i96Z8k/e9fHd41FK/d14t7XrsSt+2pY/f45nYtC3veEqfv+tUBj+xVe6a/GHunH4mxheej6i1t6t+cPvKPY2Hv3ev++UvPfye+8rl/0ZfxTYxGvPHAShzaV8ehfb3YO9G/XfS5XhVfXBiJR+dH47MXRx0B4YYECcPgyEjDCRHoj6OLI6u3Ln3l7lvvmVqJe8freMNYL+6Z6MUbR+vUoydne1X8+svj8esvr47vRyZ78Xd2rcR9kyvx5rE6pqo69o9EZC4vX5gdiRdmXz088n239OLw/pU4uLuKW/aORxUrmw6AQTl/8L1x/uB7IyJibHE6ps4+HrvOfj1Gl2diZHkuRnoLEXXerQQWV1YfmvjtM6u/3jtZx8FddRzc3YtbdtcxORrxun03Ht8TiyPxcr16FPDZ5Sq+sTTi1rxsmSMkDIMjIw0mRIBr7aojPjrTi8PLZW3axyZ2xQ9/4L+Ofbe8PnsofdfPIyPbdWy8ik8cEBsMhiBhkGy5GkqIAGu5WEV84sBInBwr6xSc5cWL8Tef+xcx+9L3socCbJE1B4MkRhrIRgHYiCAB+s3ag0ERIw1jYwBshiAB+s0ahEEQIw1iIwBshSAB+s1ahH4TIw1h8gPbIUiAfrMmoZ/ESAOY9MBOCBKg36xN6BcxUjiTHegHQQL0mzUK/SBGCmaSA/0kSIB+s1Zhp8RIoUxuYBAECdBv1izshBgpkEkNDJIgAfrN2oXtEiOFMZmBYRAkQL9Zw7AdYqQgJjEwTIIE6DdrGbZKjBTC5AUyCBKg36xp2AoxUgCTFsgkSIB+s7Zhs8RIMpMVKIEgAfrNGofNECOJTFKgJIIE6DdrHW5EjCQxOYESCRKg36x52IgYSWBSAiUTJEC/WfuwHjEyZCYj0ASCBOg3ayDWIkaGyCQEmkSQAP1mLcS1xMiQmHxAEwkSoN+sibiSGBkCkw5oMkEC9Ju1EZeIkQEz2YA2ECRAv1kjESFGBsokA9rkUpAsltUjggQazFoJMTIgJhfQRheriO8VdnQkQpBAk1kzdZsYGQCTCmizXvYA1iFIoLmsnbpLjPSZyQSQR5BAc1lDdZMY6SOTCCCfIIHmspbqHjHSJyYPQDkECTSXNVW3iJE+MGkAyiNIoLmsrbpDjOyQyQJQLkECzWWN1Q1iZAdMEoDyCRJoLmut9hMj22RyADSHIIHmsuZqNzGyDSYFQPMIEmgua6/2EiNbZDIANJcggeayBmsnMbIFJgFA8wkSaC5rsfYRI5vkzQ/QHoIEmsuarF3EyCZ40wO0jyCB5rI2aw8xcgPe7ADtJUiguazR2kGMbMCbHKD9BAk0l7Va84mRdXhzA3SHIIHmsmZrNjGyBm9qgO4RJNBc1m7NJUau4c0M0F2CBJrLGq6ZxMgVvIkBECTQXNZyzSNGXuHNC8AlggSay5quWcRIeNMCcD1BAs1lbdccnY8Rb1YA1iNIoLms8Zqh0zHiTQrAjQgSaC5rvfJ1Nka8OQHYLEECzWXNV7ZOxog3JQBbJUiguaz9ytW5GPFmBGC7BAk0lzVgmToVI96EAOyUIIHmshYsT2dixJsPgH4RJNBc1oRl6USMeNMB0G+Xg2T6ueyhAFtkbViO1seINxsAg7K8eDH+9q//JHsYwDZYI5ah1THiTQYAwHqsFfO1Nka8uQAAuBFrxlytjBFvKgAANsvaMU/rYsSbCQCArbKGzNGqGPEmAgBgu6wlh681MeLNAwDATllTDlcrYsSbBgCAfrG2HJ7Gx4g3CwAA/WaNORyNjhFvEgAABsVac/AaGyPeHAAADJo152A1Mka8KQAAGBZrz8FpXIx4MwAAMGzWoIPRqBjxJgAAIIu1aP81JkZ88wEAyGZN2l+NiBHfdAAASmFt2j/Fx4hvNgAApbFG7Y+iY8Q3GQCAUlmr7lyxMeKbCwBA6axZd6bIGPFNBQCgKaxdt6+4GPHNBACgaaxht6eoGPFNBACgqaxlt66YGPHNAwCg6axpt6aIGPFNAwCgLaxtNy89RnyzAABoG2vczUmNEd8kAADaylr3xtJixDcHAIC2s+bdWEqM+KYAANAV1r7rG3qM+GYAANA11sBrG2qM+CYAANBV1sLXG1qMePEBAOg6a+KrDSVGvOgAALDK2vhVA48RLzYAAFzNGnnVQGPEiwwAAGuzVh5gjHhxAQBgY11fMw8kRrr+ogIAwGZ1ee3c9xjp8osJAADb0dU1dF9jpKsvIgAA7FQX19J9i5EuvngAANBPXVtT9yVGuvaiAQDAoHRpbb3jGOnSiwUAAMPQlTX22E7+cVdeJACa5fYjMxERccddL0dExMLFsXjxe3tjYX48Tn9vb+bQADat+vj9UX/s4exhDNS2Y0SIAFCKyV3LcdfbT8fb7jsVtx95ecO/uzA/Fs995+Y49sRt8c2vHBrSCAG2p+1BUtV1XW/5HwkRgM766EwvjixtedcxEJO7luOH3nci3vG+EzE5tbzlf78wPxaPf+GO+KuH3jSA0Q3PsfEqPnFgYM8xBgrQ1iDZcowIEYBuKyVGjrz9dDzwoSe3FSHXOjczFQ/9/lvjuWMH+jCy4RMj0A1tDJItbbmECAAleODBJ+Nn/uHRvoRIRMT+A/PxwY88Hj/0vhN9+XhsTxsXWtBPbVyLbzpG2vjFA9A8P/MPvxFvu+/UQD72j//st+OBB58cyMdmcwQJbKxta/JNxUjbvmgAmumBB5+MI28/M9DP8bb7TsX7/+63B/o52JgggY21aW1+wxhp0xcLQHP96APPDOyIyLXe8d4TceTtp4fyuVibIIGNtWWNvmGMtOWLBKDZbnv9XPzI/c8M9XM+8KEnY3JXf65JYXsECWysDWv1dWOkDV8cAO3w/p99euifc3JqOd7/s07XyiZIYGNNX7OvGSNN/6IAaI/bj8zc8EGGg/K2+07F/lvmUz43rxIksLEmr92vi5EmfzEAtE/27XazPz+rBAlsrKlr+KtipKlfBADtNLlreeB3z7oRF7KXQ5DAxpq4lr8cI00cPADtdlcBIbD/wHzc9vq57GHwCkECG2vamn4konmDBqAbSomAO47MZA+BKwgS2FiT1vYjTRosAN1y2+HZ7CFERLiIvUCCBDbWlDX+pp7ADgAZSnnORylRxNUECWysCUEiRgAo1m2HyzhNi3IJEthY6UEyYhIDAE1mLQMbKzlIRiJMYgDK9Nyxm7OHQENYy8DGSg2Sy6dpmcQAsLbnjh3IHgKbYC0DGysxSK66ZsQkBqAkp0/uyx5CRESce2kqewhskrUMbKy0ILnuAnaTGIBSnPhOGadpnXBkpFGsZWBjJQXJmnfTMokBKEEJp0edm5lyZKSBrGVgY6UEybq39jWJAci2cHEsvvWVQ6ljePwLd6R+frbPWgY2VkKQbPicEZMYgGzf/Mrr0j73wvxYfDM5htgZaxnYWHaQ3PChhyYxAJmeO3Ygjj1xa8rnfvwLd8TCxbGUz03/WMvAxjKDZFNPYDeJAcj0yP/5lliYH24UnJuZiq85Ras1rGVgY1lBsqkYiTCJAchz7qWp+Ms/e/NQP+dn/tW9joq0jLUMbCwjSDYdIxEmMQB5vvmVQ/H4F4dzpOLhP3hrnP7e3qF8LobLWgY2Nuwg2VKMRJjEAOR55M/ePPC7az38B2910XrLWcvAxoYZJFuOkQiTGIA8D/3BW+PhP3hr3z/uwvxY/NEn3yFEOsJaBjY2rCDZVoxEmMQA5PnmVw7F7/3PPxynT/bnVKpjT9wav/fPf7iIhywyPNYysLFhBMm2YyTCJAYgz+nv7Y3f++c/HA//wVvj3Mz2npD+3LGb448++Y74zL+611PWO8paBjY26CCp6rqud/xBCnh6IwDD8dGZXhxZ2vGuo+9ue/1c/MB9p+L2IzNx2+G5df/ec8dujmNP3BbfeeK21gTIsfEqPnFgRz9fLEJmGFjLwMYGNT/7EiMRJjFAV5QaI9faf8t87D9w8fKvT5/c19pb9YqR/rCWgY0NYo72bcuVvQEBgCude2kqnjt24PJ/bQ0R+sdaBtZ3755b4pF/87/0/eP29ccoJjEA0GTWMnC9e/fcEo/c+1Nx375b4/wXf6+vH7vvx3RNYgCgyaxl4FWXQmSiejUb+hkkAznB1CQGAJrMWgbWDpFL+hUkA7vazSQGAJrMWoYu2yhELulHkAz01hsmMQDQZNYydNFmQqRfBv4ZTGIAoMmsZeiSrYbITo+ODOWm5CYxANBk1jJ0wXaPiOwkSIb2hCSTGABoMmsZ2mynp2ZtN0iG+rhWkxgAaDJrGdqoX9eIbCdIhhojESYxANBs1jK0yTAvVl9Lymc1iQGAJrOWoQ0GESJbPTqSk0BhEgMAzWYtQ5MN8ojIVoIkLUYiTGIAoNmsZWii7FOzrpQ+ApMYAGgyaxmaZFghstmjI+kxEmESAwDNZi1DE5R0ROSSYkZiEgMATWYtQ8kyQmQzR0eKiZEIkxgAaDZrGUpU4hGRS4obkUkMADSZtQwlyQ6RGx0dKS5GIkxiAKDZrGUoQXaIbEaxIzOJAYAms5YhU0khstHRkfzRbcAkBgCazFqGDCWFyI0UP0KTGABoMmsZhqnUEFnv6EhZo1yHSQwANJm1DMNQaohspDEjNYkBgCazlmGQmhAiax0dKXe0azCJAYAms5ZhEJoQIutp3IhNYgCgyaxl6Kcmh0hEA2MkwiQGAJrNWoZ+aGKIXHuqVnNGfg2TGABoMmsZdqKJIbKWRo/eJAYAmsxahu1oS4hENDxGIkxiAKDZrGXYijaEyJWnajX3q7iCSQwANJm1DJvRhhC5Vmu+EpMYAGgyaxk20sYQiWhRjESYxABAs1nLsJa2hkhEy2IkwiQGAJrNWoYrtTVELl030q6v6hUmMQDQZNYyRLQ3RK7U2q/MJAYAmsxaptu6ECIRLY6RCJMYAGg2a5lu6kqIRLQ8RiJMYgCg2axluqVLIRLRgRiJMIkBgGazlumGroVIREdiJMIkBgCazVqm3boYIue/+HvdiZEIkxgAaDZrmXbqYohc0rmv2CQGAJrMWqZduhwiER2MkQiTGABoNmuZduh6iER0NEYiTGIAoNmsZZpNiKzq9FdvEgMATWYt00xC5FWdfwVMYgCgyaxlmkWIXM2rECYxANBs1jLNIESu55V4hUkMADSZtUzZhMjavBpXMIkBgCazlimTEFmfV+QaJjEA0GTWMmURIhvzqqzBJAYAmsxapgxC5Ma8MuswiQGAJrOWySVENserswGTGABoMmuZHEJk87xCN2ASAwBNZi0zXEJka7xKm2ASAwBNZi0zHEJk67xSm2QSAwBNZi0zWEJke7xaW2ASAwBNZi0zGEJk+7xiW2QSA5Rvctdy3H5k5rr/AGuZfhMiOzOWPYAmqj/2cFQfvz97GABc4cjbT8ddbz8Tt981E/sPzK/7906f3BvPHTsQ3zl6azx37MAQRwjlsJbpDyGyc1Vd13X2IJrKJAa66KMzvTiyVM6u40cfeCbedt+pDQNkPedmpuKvH3pTfPMrhwYwsuE5Nl7FJw40fzHkJ/bDZy2zfUKkP7x6O2CjCZDn9iMz8Z/9d1+OH7n/mW2FSETE/gPzcf+DT8YHP/K1uO31c30eIZTPWmZ7hEh/7HnvL4mRnTKJAYbvRx94Jj74kce3HSHXuv3Iy/HBj3wtfuC+U335eNAk1jJbI0T6y6vYByYxwPA88OCT8SP3P9P3jzs5tRz3P/ikIKGTrGU2R4j0n1eyT0xi2JzRqsoeAg32wINPxtsGHAuChK6yltmYEBkMr2YfmcRwYyt1HVMjo9nDoIF+4L5TAw+RS+5/8Em3AqaTrGXWJkQGxyvaZyYx3Nh8byUOjE1kD4MG2X/LfPz43/32UD/nAx96MiZ3LQ/1c0IJrGWuJkQGy6s6ACYx3NjM8mK8ZnxX9jBoiAce/FZMTg03DPYfmI8fet+JoX5OKIW1zCohMjh73vtLESFGBsYkhht7celi3D65J3sYFG716ekvp3zuH7n/mdh/S3/u2AVN0/W1jBAZDq/uAHV9EsNmPLdwXpCwoeyjEy5mp8u6upYRIsPjFR6wrk5i2IrnFs7Hm3ftj/2uI+Eak7uW48jbz6SOYVgXzUOpuraWESKDd+kUrQgxMhRdm8SwHd++eC7+6e3/QdwkSLhCCXe02n9g3tPZ6byurGWEyPB5pYekK5MYtuu37/qx+Ojht8b/etePZQ+FgtxxV861Itd6zeHZ7CFAuravZYRIDq/2ELV9EsN2/fZdPxa/9JojERHx07fcIUi47LZCIsBF7LCqrWsZIZLHKz5kbZ3EsF1Xhsglv/iaI4KEiIhinvNRwuliUIq2rWWEyHBdeb1IhBhJ0bZJDNu1Vohc8ouvObLun9Edtx12rQaUqC1rGSGSzyufpC2TGLZroxC58u+896bXDWlEAGxF09cyQmT4rj0qEiFGUjV9EsN2bSZELvnD739/vHFy74BHRKlOn/S9h5I1dS0jRMrhO/D/t3e3sXXd92HHf7IoibJk0aKfJNlS48pOI9lyGqwOmjVW2nqIvSIZ+iZovQQDmhdLkHQvAmc10G0YBixeU8wNOiDF2gztsMiAtyJuGjtxrMWxIzmeU89W9GgtFhtLlC1ZlimTIkWRInn3QmYqOXog773n/s459/MB/MKSeO9P5KH9//J/HpJV9ZsYmjWfEImIWLFwcTzyvt8ocCLKbGK8J3uEiIg4PLAyewQoraqtZYRIufgqlEDVvomhWfMNkVmblq2MP775zgImouzefP2q7BEiojxRBGVVlbWMEMlzoVO0IsRIaVTlmxia1WyIzPrc6g3x8f61bZyIKnjztXKcpjVoZwQuq+xrGSFSTr4aJVL2b2JoVqshMuvPb/01T2jvMgf2XJc9Qoyc6C1NFEHZlXUtI0RyXWxXJEKMlE5Zv4mhWe0KkYiz1494/kh3mRjviYE916bOsO+F1anvD1VTtrWMECk3X5USKts3MTSrnSEy62P9a93ut8u8tC339Ly9YgTmrSxrGSGS71K7IhFipLTK8k0MzSoiRGb9+S1O1+omhwdWxuGBq1Pee8f2tTEy1Jvy3lB12WsZIVINvjollv1NDM0qMkQiItYtWRafX72hsNenfJ58ZGPH33PidE/8nydv7vj7Qp1krWWESDlcblckQoyUniChaooOkVm/v2aDhyF2kZGh3vjB397a0ff81l9ucktfaINOr2WESLX4KlWAIKEqOhUiEWcvZv/Dte/vyHtRDi9tW9uxi8m3PrLBgw6hjTq1lhEi5TGXXZEIMVIZgoSy62SIzPrk9evtjnSZJx/ZUHiQbH1kg4vWoQBFr2WESHnMNUQixEilCBLKKiNEZtkd6T5PPrIhdmwv5g5bQgSKVdRaRohUl69YxQgSyiYzRCLsjnSrZ755a/z1n30gRk60505Xb76+PLb8yQeFCHRAu9cyQqRc5rMrEiFGKkmQUBbZITLL7kh3OjywMrY89MF4fuvNMXG6uQvNR070xtZHNsSWhz7oKevQQe1aywiRcplviERELGg0Go0CZqEDFnz5o9kj0MXKEiKzbnvx0Tg4MZo9Rlf4/ImZWH+mfP/ruO3OI3HT+rdj/aY3Y0nv1EX/3MiJ3jh8YGUc2HNtDOy5roMTFmdg0YL46srqL8b8sK37tLKWESLlI0a6kCAhQ9lCJCLiz468HH/w0xeyx+gKZY2Rc63oPx0rVo7/3K+/+fpVtbxdrxihyppZywiR8mkmRCKcplV5/sNNp5UxRCKilDORZ2So950nt5//Tx1DBKpuvmsZIVI+zYZIhBipBUFCp5Q1RCLOPnekrLMBcGlzXcsIkfJpJUQixEhtCBKKtGLh4lKHyKxPXX9L9ggANOlyaxkhUk++mjUiSCjCioWL47u3f7T0IRIR8eEVN7jNL0CFXWwtI0TKqdVdkQgxUjuChHaaDZE7lvVnjzJnH+sv5mF4AHTGu9cyQqSc2hEiEWKklgQJ7VDFEIlwqhZAHcyuZYRIObUrRCLESG0JElpR1RCJiNi0bKVTtQBqoPHA1vhvt35YiJRMO0MkQozUmiChGVUOkVl39d2QPQIAbXDnPb+fPQLnaHeIRIiR2hMkzEcdQiQi4mP967JHAKBNilgAM39FfR3ESBcQJMxFXUIkImKznRGAWhEkuYr8/IuRLiFIuJQ6hUjE2b9PXf4uAJwlSHIU/XkXI11EkHAhdQuRWXetsDsCUDeCpHOW3fWpjny+xUiXESScq64hEhFxV9+q7BEAKECnFsndrJOfXzHShQQJEfUOkYio7d8LgLMESTE6/XkVI11KkHS3uodIRMS6Jcuir2dx9hgAFEiQtE/WjpMY6WKCpDt1Q4jM6oa/I0C3c9pW6zI/f2KkywmS7tJNIRIRcceVK7NHAKBDBMn8lSHkxAiCpEt0W4hEhNO0ALpMGRbXVVGWz1NP9gCUQ+OBrbHgyx/NHoOCdGOIRERs7lsVDw7uzB4DgIj4yv13d/w97/3VfxI33XBjXLHAz99PT56OA4d/Gs/tev7sL3zzry76Z7/w0FMdmkqMcA5BUk/dGiIA8N3nvxeLFy2OTetvi03rN8biRd23Y37k+NF4cf+OeP340exRLkiMcB5BUi/dHiJ3LHPNCEC3mzwzGS/u3xG7B/bGe1b/QvzK+345ll+5PHuswpU9QmaJEX6OIKmHbg+RiLOfAwCIOBslPzn0Svzk0Cvx3nW3xi+tuyVWX1uvB+ROnpmMV48cihf374iTp0azx5kTMcIFCZJqEyIAcHGzUXLVlctj0/rb4j2r11V6t+TI8aPx/w4diFePHIzJM5PZ48yLGOGiBEk1CZHz3bGsP3aNDWWPAUAJnTw1Gs/t/lE8t/tHcU1ff/zSulsrEyZvDQ/FT94JkKrsglyIGOGSBEm1CJGf5/a+AMzFW8ND54XJmmtXx3tWryvNqVyjp0bj9eNH4/XjRyu5j/UW+AAAGjFJREFUA3IxYoTLEiTVIEQAoD3eGh6Kt4aHYvfA3oiIWHPtqrim75q4pq//Z/8UafLM5M9mOD48FEeOH6n07seliBHmRJCUmxABgOLM7kic65q+/liyaHGsvnb1ef8eEXHVlcsvearXkXNe6+Sp0Z/9M3rqZBwfHqrNrsdciBHmTJCUkxABgM57a/js9Yhlv3Vu2XkcJfPSeGBr9gicQ4gAAFUmRpg3QVIOQgQAqDoxQlMESS4hAgDUgRihaYIkhxCZn+Gp7rkIEACqRozQEkHSWUJk/jzwEADKS4zQMkHSGUIEAKgbMUJbCJJiCREAoI7ECG0jSIohRJr37Mgb2SMAAJcgRmgrQdJeQgQAqDNPYKftPKm9PYRI67YNeypuu71/5S/Er66+OfoWLskehXP0XxERh57MHgNg3sQIhRAkrREi7eG2vu33a9dtiPev/41Y2CNGymR9hBgBKslpWhTGKVvNESLts+vUiewRauf2leuECABtI0YolCCZHyHSXp4x0n439PZljwBAjYgRCidI5kaItNfI9KTTtApw87Lrs0cAoEZcM0JHuIbk0oRI+20bdlvfIixZuCh7BKCivvDQU9kj1MZX7r87e4S2sTNCx9ghuTAhUgynaLXfndfckj0CADUjRugoQXI+IVKc7R542HZrrnScAtBeYoSOEyRnCZFibfeMkba7caljFYD2EiOk6PYgESLFetauSCE+dN17s0cAoGbECGm6NUiESPEee+tQ9gi1dPPyG7JHAKBmxAipui1IhEhnPD40mD1CLa1cvCx7BABqRoyQrluCRIh0xqGJsTg4MZo9Ru24kxYARRAjlELdg0SIdM7jQ07RKsL7+m7MHgGAGhIjlEZdg0SIdNaWYwPZI9TSGnfSAqAAYoRSqVuQCJHO2j12wsMOC/KPrvnF7BEAqCExQunUJUiESOdtOXYge4Tauq1vbfYIANSQGIECCJEcW950ilYRXLwOQFHECLSZEMnx8LGBGJ6azB6jlly8DkBRxAi0kRDJ89UjL2ePUFvvWyFGACiGGIE2ESJ5nh15w4XrBXKaFgBFESPQBkIk15cGd2aPUFtrlvbHjVc6rgEohhiBFgmRXM+OvBHbh49mj1Fbd15rVwSA4ogRaIEQyWdXpFgfdIoWAAUSI9AkIZLPrkjxXC8CQJHECDRBiJSDXZFiuV4EgKKJEZgnIVIODx8bsCtSMNeLAFC0nuwBoEqESDmMTE/GH7z6QvYYtXf3qk1NfVxv7/5YteqP2jxNPbz66n/PHgGgVMQIzJEQKY8vHdrpaesd0OzF6wsXnowrrxSLAFye07RgDoRIeTw78oanrXfAndfcElctWpo9BgA1J0bgMoRIeYxMT8ZnXvlh9hhd4TebPEULAOZDjMAlCJFy+dKhnXFwYjR7jK7Q7PUiADAfYoTaWtDixwuRcnF6Vue4pS8AnSJGqK1GRCxc0FySCJFyGZmejN/Z/3T2GF3j7tV2RQDoDHfTotamG41YtOCKONOYmfPHCJHyuXfPVnfP6qCPLLsxjr/5avT0LI5ly+f/fTDla3VRZ86cLuR1D4y9WcjrAhRNjFB7ZxozsfSKhTE+M33ZPytEyuezB34Yu8aGssfoGiunI0ae+nq82MJr3LT+RKz/3MV//83Xl8cz37y1hXcor098bsclf//7/+NfF/K+r/UsiOh3sgNQPWKErjA+Mx3LFy6K0ekzF/0zQqR8Hj42EFuODWSP0VU2TTQKf4+J8Z44PLCy8PfpJjdOFf91AyiCH6PQVZYvXHTBXxci5fP40GB85oDb+HbanactagHoHDFC1xidPhOrF18ZK94VJEKkfHaPnRAiCdZMNfyEHYCOEiN0lVfGh+OGc4JEiJTP7rETce/eJ12wnuCDdkUA6DAxQteZDZKbliwTIiUjRHLd3oHrRQDgXGKErvTK+HD09yyJ9/Quzx6FdwiRXLdPNKL/8jecA4C2EiN0rV1jQ3Hvnq0xMm3xm02I5HPhOgAZxAhdTZDkEyL5Vk535pa+APBuYoSut2tsKDa8+GjsHjuRPUrXefjYgBApAReuA5BFjEBEDE9Nxr17n4zHhwazR+kaf3bk5fjMgR8KkRK48/RM9ggAdCkxAu8YnpqM393/dDw4uDN7lFobmZ6Mzx74YfzBT1/IHoU4e62IC9cByCJG4F0eHNwZ9+1/2nUkBdg9diLu3bM1thwbyB6Fd7hwHYBMYgQu4LGhwfjQjx+PZ0feyB6lNmavD9k1NpQ9Cu9YM9WIWybFCAB5xAhcxMGJ0bh3z5NO22rRyPRk3Lf/adeHlNBHTgkRAHKJEbiMBwd3xj/e+bi7bTXh8aHB2PDio/GYGwOUzsppp2gBkE+MwBzsGhuKD+18LB746QuuJZmDQxNjcd/+p+N39z9tN6SkPjLuDloA5BMjMA9fPfJybHjx0XjYBdgXNDI9GQ8O7owP7XzMbkiJ9TYi7hy3KwJAPjEC8zQ8NRmfOfDDuO3FR13gfo6Hjw3Eh378eDw4uNNuSMl95FQjlmoRAEqgJ3sAqKrZC9zv6lsV/2bt++PDK27IHinFw8cG4sHBnXFwYjR7FOagtxGx+ZRTtAAoBzECLdo+fDTuHT4ad/Wtik9dtz4+ef367JEKNzI9GY+9NShCKsiuCABlIkagTbYPH43tw0fjwcGd8cnr18fvr9kQKxYuzh6rrQ5NjMVXX98XW94ccCpWBdkVAaBsxAi02cGJ0XhwcGc8OLgzPt6/Nj55/S3xsf612WM1bXYXZMubA7F9+Gj2OLTg3rEZuyIAlIoYgQI9NjQYjw0NRl/P4vh4/9r4WP+6SoTJbIA8PnTIXbFqYuV0xGYPOQSgZMQIdMDw1GRsOTYQW965JfDH+9fGXX2r4q4Vq2LTspXJ05317MgbsW34aGwfecMOSA3dO+b0LADKR4xAgtkdk4iIvp7Fccey/rhrxQ2xuW9VrFuyPNYtWVbo++8eOxEHJ0Zj19iQ+OgC6880PG0dgFISI5BseGryvIvfZ93VtyquXrgoNi3rj4iIzX2rfvZ7fQsXX3RH5dxnn7w9NRm7xoYiImL7yBsxfM6/0z3uGRMiAJSTGIGSmt2tmN1BOTdUYK7uPN2IWybFCADl5AnsADXV24i4x7UiAJSYGAGoqY+cakT/dPYUAHBxYgSghtZMNeyKAFB6YgSghn571HUiAJSfC9gBambzqXJftL5k6VTctP5E9hgAlIAYAaiRpdONWDQ8GU/O5MXIHdPT8YlL/P51a0bjE5/b0bF5yuTJM2cKfPWFBb42QDHECECNjL85Hk9NTKXOMDFV5IK72p48M1ngq/cW+NoAxXDNCEBdjExGnM4NEQCYDzECUAdTMxFvT2RPAQDzIkYA6uD46YjE60QAoBliBKAOnJ4FQAWJEQAAIIW7aQHQVm+f6okfvLIiewwAKkCMANBWPz58Zfz6n2zIHgOACnCaFgAAkEKMAAAAKcQIAACQQowAAAApxAgAAJBCjAAAACnECAAAkEKMAAAAKcQIAACQQowAAAApxAgAAJBCjAAAACnECAAAkEKMAAAAKcQIAACQQowAAAAperIHAKANrl6SPQEAzJsYAagDMQJABTlNCwAASCFGAACAFGIEAABIIUYAAIAUYgQAAEghRgAAgBRiBAAASCFGAACAFGIEAABIIUYAAIAUYgQAAEghRgAAgBRiBAAASCFGAACAFGIEAABIIUYAAIAUYgQAAEghRgAAgBRiBAAASCFGAACAFGIEAABIIUYAAIAUYgQAAEghRgAAgBRiBAAASCFGAACAFGIEAABIIUYAAIAUYgQAAEghRgAAgBRiBAAASCFGAACAFGIEAABIIUYAAIAUYgQAAEghRgAAgBRiBAAASCFGAACAFD3ZA8CFNB7Ymj3CZS348kezRwAAqDQ7IwAAQAoxAgAApBAjAABACjECAACkECMAAEAKMQIAAKQQIwAAQAoxAgAApBAjAABACjECAACkECMAAEAKMQIAAKQQIwAAQAoxAgAApBAjAABACjECAACkECMAAEAKMQIAAKQQIwAAQAoxAgAApBAjAABACjECAACkECMAAEAKMQIAAKQQIwAAQAoxAgAApBAjAABACjECAACkECMAAECKnuwBAGhd44GtTX3cgi9/tM2TAMDc2RkBAABSiBEAACCFGAEAAFKIEQAAIIUYAQAAUogRAAAghRgBAABSiBEAACCFGAEAAFKIEQAAIIUYAQAAUogRAAAghRgBAABSiBEAACCFGAEAAFKIEQAAIIUYAQAAUogRAAAghRgBAABSiBEAACCFGAEAAFKIEQAAIIUYAQAAUogRAAAghRgBAABSiBEAACCFGAEAAFKIEQAAIIUYAQAAUogRAAAghRgBAABSiBEAACCFGAEAAFKIEQAAIIUYAQAAUogRAAAghRgBAABSiBEAACCFGAEAAFKIEQAAIIUYAQAAUogRAAAghRgBAABSiBEAACCFGAEAAFKIEQAAIIUYAQAAUogRAAAgRU/2AMD51i27Nm7ovTp7DAowNnU69g0fzh6jIzb23RTLenqzx6AAb5x+Ow6NHc8eA6gJMQJNajywtZDX3bdvXyGvSzls3Lgxe4TzOI5pRtmOY6C6nKYFAACkECMAAEAKMQIAAKQQIwAAQAoxAgAApBAjAABACjECAACkECMAAEAKMQIAAKQQIwAAQAoxAgAApBAjAABACjECAACkECMAAEAKMQIAAKQQIwAAQIqe7AGA8/3L5/9rTM5MZY9BAdYsXRnf3Pil7DE64g93PByvj5/IHoMC3H71uvjLjRuzxwBqQoxAyQyeOh6Hxo5nj0EBNvbdlD1Cx7xy8kjsGz6cPQYF6F+yPHsEoEacpgUAAKQQIwAAQAoxAgAApBAjAABACjECAACkECMAAEAKMQIAAKQQIwAAQAoxAgAApBAjAABACjECAACkECMAAEAKMQIAAKQQIwAAQAoxAgAApOjJHgA439orr40beq/OHoMCrFm6MnuEjrn1qtWxrKc3ewwKsGZpf/YIQI2IESiZv/jVz2aPAC178AOfzB4BgApwmhYAAJBCjAAAACnECAAAkEKMAAAAKcQIAACQQowAAAApxAgAAJBCjAAAACnECAAAkEKMAAAAKcQIAACQQowAAAAperIHAM73vaO7om/RldljUICFC66IjbExe4yOeGno72O6MZM9BgVYdEVP1xzHQPHECJTMQ/u+FYfGjmePQQE29t0Un/rwx7LH6Ij/tOfR2Dd8OHsMCnDPml+Of/5rv5U9BlATTtMCAABSiBEAACCFGAEAAFKIEQAAIIUYAQAAUogRAAAghRgBAABSiBEAACCFGAEAAFKIEQAAIIUYAQAAUogRAAAghRgBAABSiBEAACCFGAEAAFKIEQAAIEVP9gDA+Z74zX+bPQK07K83fzF7BAAqwM4IAACQQowAAAApxAgAAJBCjAAAACnECAAAkEKMAAAAKcQIAACQQowAAAApxAgAAJBCjAAAACnECAAAkEKMAAAAKcQIAACQoid7AOB8//T7/zEOjR3PHoMCbOy7KfZu/MvsMTriE9v+c+wbPpw9BgW4Z80vx3c3/nH2GEBN2BkBAABSiBEAACCFGAEAAFKIEQAAIIUYAQAAUogRAAAghRgBAABSiBEAACCFGAEAAFKIEQAAIIUYAQAAUogRAAAghRgBAABSiBEAACCFGAEAAFKIEQAAIEVP9gDA+e5edUcsXbg4ewwKcNWi3uwROubjN/1K/PoNt2ePQQGu712RPQJQI2IESuaLG/9Z9gjQsn/xi7+ePQIAFeA0LQAAIIUYAQAAUogRAAAghRgBAABSiBEAACCFGAEAAFKIEQAAIIUYAQAAUogRAAAghRgBAABS9GQPAJzv9Njb0bvs6uwxKMDk6dH4yv13N/WxX3joqTZPU6ypyfHoWbw0ewwKMHJ8ML5y/79q6mOrdhwDxRMjUDJvH/tprLr5A9lj0GYnh16L3du2NP3xl4qYMi7wTp08HiuuWZs9Bm02dPRA7PnB15v++Kodx0DxxAiUzGMn/28Mv/hy9hi00W8tvi4G/+5bhb3+uxd4ZVjUbTn4/Tj16qLsMWiT5T1L4s5T03F83/bC3qOMxzFQPDECJfPcyb+Pvxsazx6DNlg5HXHfyZkYnGx09H3PXdRlLei+9fqPY7DR2b83xVh/phH3jczE8enOvu/scSxKoN7ECEABNp9qxD1jM7E0eT1uQUcrfnt0Jjafyj2IHcNQb2IEoI1md0Nu6fBuyOVY0DEfa6Yacd9II26cKs9x7BiGenJrX4A2ufN0I744NF26EDlXs3fzonvcM9aILw7NlCpEzvWV++92HEON2BkBaFFvI+K+kZnYNFHOxdu7+QkzF1LG3ZBLcRxDPdgZAWjB7RON+HfHpysTIufy02VmlX035FIcx1BtYgSgCb2NiN8bnolPD+dfpN4Kp7x0t5XTEZ97eybuGZvJHqUljmGoLjECME9V3g25GIu57rP5VPmvcZoPYQ3VJEYA5qi3cfZWp1XfDbkYC7nuMLsb8tujjmMgnxgBmIP1Z87+FDn7mQtFs5Crt7rthlyM4xiqQ4wAXMLsbsjnT8xEf4efQJ3FQq5+Zq9xqutuyIU4jqEaxAjARayZ6o7dkAuxkKuPOl7jBNSHGAG4gNlbnXbLbsiFCJJqq8sd31rhGIbyEyMA51gz1Yj7h6p/q1O6m92QfyBIoNzECMA7qvzgt6JYyFVL3e/41izHMZSXGAG6nt2QS7OQq4ZuueNbsxzHUE492QMA57txydVx+5Kl2WN0jf4Tb8U9Y36K3G63LL8u+ianssfoCjPTZ+K9bw+LEKCSFjQaDf/1ghL5/rcfjlU3fyB7jNobHx2KPdu2xNCRV7JHqYwvPPTUnP/s89ufjBXXrC1wGiIiho4eiD0/+HqMjw5lj1IZ8zmOoayK3unr5PeJ07SArnNw7zPx3N/8kRCZJ6e5lMvAjifihW//qRABKs1pWkDXsBtCHZwcei12b9sSJ986nD1KJX3l/rvtjkCJ2BkBusKxg7vshrSB3ZFcAzueiOf+5o+ECFAbdkaAWpuaHI/d27bEsYO7skeBptkNaS+7I1AeYgSorWMHd8XubVtianI8e5RasZDrrIN7n4n9z38jewyAQjhNC6idqcnx2PG9r8WO731NiFBZ46ND8cJ3/osQKYhTDqEc7IwAtTJ09EDs+N9/IUKotIN7n4kDL33HcQzUnp0RoBamJsdj//OPxgvf/lMLuA7wU+VinLsb4jgGuoGdEaDyPPiNOnj9lR/FyyKko1z/BPnECFBZU5PjceClJ+Lg3qezR4GmueMb0M3ECFBJbnVKHbjjG9DtxAhQOQM7nogDL30ne4yu5xSX5tkNAThLjEDJ/GTmjRh860D2GKV04/QV8epzf203pAL2jr0WPTGRPUYp/cLoKbshJSKqIZcYgZL5q6M/iL/b993sMUrnnrFG3DM2kz0Gc/Qfdv3PGGw0sscold5GxL1jM7H5lM8LwCwxApTayumITw/PxI1TFnBU1/ozjbhvZCb6p7MnASgXMQKU1uZTZ3dDluoQKspuCMCliRGgdFZOR9x3ciZumbSAo7rWTDXi08N2QwAuxRPYgVLZfKoRXxyaFiIV4UnsF3bPWCO+OCREAC7HzghQCr2Ns9eGiBCqbM1UI+4babjGCWCOxAiQ7vaJsxf3ujaEKnPHN4D5EyNAmt5GxH0jM7FpQoVQXXZDAJonRoAUdkOoA3d8A2iNGAE6ym4IdeCObwDtIUaAjvHgN+rAbghA+4gRoHAe/FZfX3joqewROsZuCED7iRGgUHZDqAPXOAEUQ4wAhbAbQh24xgmgWGIEaDu3OqUO7IYAFE+MAG3lwW9Und0QgM4RI0Bb2A2hDtafacSn37Yb0k266SYMUEZiBErm91Z9JD73vluyx5iX1175USzd+3z2GHTYpRZx//6O34meZdd2cJrWTJ+ZiEP7tkXfT/dljwLQVcQIlMx7r7ghVl1TjRgZHx2KPdu2xNIjr2SPQsnctuzGWHHN2uwx5mTo6IHY84P/FX2jQ9mjAHQdMQI05eDeZ+LAS9+Jqcnx7FGgKVOT43HgpSfi4N6ns0cB6FpiBJiX2d2QIbshVNjJoddi97YtcfKtw9mjkMj1IpBPjABzZjeEWVVexA3seCIOvPSd7DEACDECzMHU5Hjs3rYljh3clT0KNM1uCED5iBHgko4d3BW7t22xG8LPVHFXxG4I71bF4xjqSIwAF2Q3hDoYHx2KHd/7mt0QgJISI8DPsRtCHbjGiYuxKwLlIUaAn5maHI/9z38jXnvlR9mjUFJVWMS54xtAdYgRICJmH/z29Rj34DcqzG4Il1OFoIZuIkagy3nwG3NV5kXc1OR47Pje1+yGAFSMGIEuZjeEuSpziLjGibkq83EM3UqMQJfa//yjdkOoNHd8Yz6ECJSTGIEu48FvzFcZF3F2QwDqQYxAF/HgN+arbCFiN4RmlO04Bv6BGIEuYDeEZpRtAecaJ5pRtuMYOJ8YgZo7uPeZ2P/8N7LHgKa54xvNEiJQfmIEasqD32hFWRZxdkNoVlmOYeDSxAjUkAe/0YoyLOLshtCKMhzDwNyIEagRuyG0qgyLONc40YoyHMPA3IkRqInXX/lRvPz8N+yG0LQyLOLc8Y1WlOEYBuZHjEDFudUprSrDAs5uCK0qw3EMzJ8YgQrz4DdaVYYFnN0QWlWG4xhojhiBCrIbQjtkL+Bc40Srso9hoHViBCrGbgitKsMCzh3faFUZjmOgdWIEKsKtTmlVGRZvdkNoVRmOY6B9xAhUgAe/0YqyLN7shtCKshzHQHuJESgxuyG0oiyLN9c40YqyHMdAMcQIlJTdEJpRtoWba5xoRtmOY6A4CxqNRiN7COAffP/bD8fY20fd6pQ5K+PC7dmn/jYO7n3GbghzUsZjGOiM/w+6izorHwdAPwAAAABJRU5ErkJggg==)  \n",
                "\n",
                "If you are interested, there is a [site](https://medium.com/ibm-data-science-experience/markdown-for-jupyter-notebooks-cheatsheet-386c05aeebed) with Markdown for Jupyter notebooks. You may decide it's not needed with what's provided here."
            ],
            "metadata": {
                "azdata_cell_guid": "09e4947b-2a6d-4796-8bb2-b53517e77662"
            },
            "attachments": {}
        },
        {
            "cell_type": "markdown",
            "source": [
                "## Testing the behavior of the cells \r\n",
                "### Do the cells work the same way that we are used to working with them in Management Studio?\r\n",
                "\r\n",
                "It's very easy to think that the text cells that can be used enhance the comments that we're used to seeing with SSMS. But is that really the case? Let's play a little bit before we start doing our work. "
            ],
            "metadata": {
                "azdata_cell_guid": "2ef26242-0d98-4783-b161-e0a78492f09d"
            }
        },
        {
            "cell_type": "markdown",
            "source": [
                "In Management Studio, you can highlight part of the code and just execute that. Is that the case here?"
            ],
            "metadata": {
                "azdata_cell_guid": "be147d5f-63fa-410e-8e4d-2906af8d138d"
            }
        },
        {
            "cell_type": "code",
            "source": [
                "SELECT 'This is my first statement';\r\n",
                "\r\n",
                "SELECT 'This is my second statement';"
            ],
            "metadata": {
                "azdata_cell_guid": "375513eb-d905-47fd-a4f1-fcaad03b0ec3",
                "tags": [],
                "language": "sql"
            },
            "outputs": [],
            "execution_count": null
        },
        {
            "cell_type": "markdown",
            "source": [
                "## What's the scope of a cell?\r\n",
                "Declare the variable in its own cell"
            ],
            "metadata": {
                "azdata_cell_guid": "223f3051-7d2c-4c0f-802c-1a8f12166d5c"
            }
        },
        {
            "cell_type": "code",
            "source": [
                "DECLARE @test DATETIME = getdate();"
            ],
            "metadata": {
                "azdata_cell_guid": "37372f2f-7ba0-4001-a1ac-c98f96270c24",
                "tags": [
                    "hide_input"
                ],
                "language": "sql"
            },
            "outputs": [],
            "execution_count": null
        },
        {
            "cell_type": "markdown",
            "source": [
                "See the value of the variable set in the previous cell."
            ],
            "metadata": {
                "azdata_cell_guid": "1ee22bb5-3edb-4daa-a232-e4fe0dffa809"
            }
        },
        {
            "cell_type": "code",
            "source": [
                "SELECT @test;"
            ],
            "metadata": {
                "azdata_cell_guid": "204b4b81-1dbf-4e7b-bfde-2780416d7211",
                "tags": [
                    "hide_input"
                ],
                "language": "sql"
            },
            "outputs": [],
            "execution_count": null
        },
        {
            "cell_type": "markdown",
            "source": [
                "Try both cells together"
            ],
            "metadata": {
                "azdata_cell_guid": "43cecae4-ce43-4623-b3a9-7afaf5fdd0cc"
            }
        },
        {
            "cell_type": "code",
            "source": [
                "DECLARE @test DATETIME = GETDATE();\r\n",
                "\r\n",
                "SELECT @test;"
            ],
            "metadata": {
                "azdata_cell_guid": "21332f6d-0dc7-4b86-ae27-1cefb3ac9530",
                "tags": [],
                "language": "sql"
            },
            "outputs": [],
            "execution_count": null
        },
        {
            "cell_type": "markdown",
            "source": [
                "## Transactions\r\n",
                "Let's see what happens when we use Explicit Transactions. First, let's start our transaction."
            ],
            "metadata": {
                "azdata_cell_guid": "66bc31c0-7d1e-4a0e-b168-69dfffb709b7"
            }
        },
        {
            "cell_type": "code",
            "source": [
                "USE Superheroes;\r\n",
                "BEGIN TRANSACTION celltocell;"
            ],
            "metadata": {
                "azdata_cell_guid": "db622227-24b5-4112-8309-18a0d30592f8",
                "tags": [],
                "language": "sql"
            },
            "outputs": [],
            "execution_count": null
        },
        {
            "cell_type": "markdown",
            "source": [
                "Now to see if the transaction is still open"
            ],
            "metadata": {
                "azdata_cell_guid": "f7c9efec-5ab2-4cbf-8c8b-1397285d7f04"
            }
        },
        {
            "cell_type": "code",
            "source": [
                "DBCC OPENTRAN;\r\n",
                "\r\n",
                "select * from sys.dm_tran_active_transactions;\r\n",
                ""
            ],
            "metadata": {
                "azdata_cell_guid": "7e319609-7342-4844-a93f-f999bc9e1025",
                "tags": [],
                "language": "sql"
            },
            "outputs": [],
            "execution_count": null
        },
        {
            "cell_type": "markdown",
            "source": [
                "Let's do an update somewhere so we can get some locks and see what happens."
            ],
            "metadata": {
                "azdata_cell_guid": "2034fd5e-0f30-4acf-b5ae-8252fae12d9a"
            },
            "attachments": {}
        },
        {
            "cell_type": "code",
            "source": [
                "UPDATE aep\r\n",
                "SET Alter_Ego_ID = ae.Alter_Ego_ID\r\n",
                "FROM Alter_Ego_Person as aep \r\n",
                "\tJOIN Person as p ON aep.Person_ID = p.Person_ID\r\n",
                "\tCROSS JOIN Alter_Ego as ae \r\n",
                "WHERE (First_Name = 'Deborah' AND Last_Name = 'Melkin') \r\n",
                "AND Alter_Ego_Name = 'Wonder Woman'\r\n",
                ";"
            ],
            "metadata": {
                "azdata_cell_guid": "131bef32-c6e1-4fd7-afd7-d62c8fce280a",
                "tags": [],
                "language": "sql"
            },
            "outputs": [],
            "execution_count": null
        },
        {
            "cell_type": "markdown",
            "source": [
                "Time to check the results:"
            ],
            "metadata": {
                "azdata_cell_guid": "aa1731eb-8224-4071-8eee-41df6342a260"
            }
        },
        {
            "cell_type": "code",
            "source": [
                "SELECT p.First_Name, p.Last_Name, ae.Alter_Ego_Name\r\n",
                "FROM Person as p \r\n",
                "    JOIN Alter_Ego_Person as aep ON p.Person_ID = aep.Person_ID\r\n",
                "    JOIN Alter_Ego as ae ON aep.Alter_Ego_ID = ae.Alter_Ego_ID\r\n",
                "WHERE p.Last_Name = 'Melkin'\r\n",
                ";"
            ],
            "metadata": {
                "azdata_cell_guid": "3f93bb3f-d20a-4c37-a95e-fbba8d9e5108",
                "tags": [],
                "language": "sql"
            },
            "outputs": [],
            "execution_count": null
        },
        {
            "cell_type": "markdown",
            "source": [
                "Now let's check our DBCC OPENTRAN and active transactions DMV."
            ],
            "metadata": {
                "azdata_cell_guid": "42c859b8-bd79-4208-b3aa-880815576909"
            },
            "attachments": {}
        },
        {
            "cell_type": "code",
            "source": [
                "DBCC OPENTRAN;\r\n",
                "\r\n",
                "select * from sys.dm_tran_active_transactions;\r\n",
                ""
            ],
            "metadata": {
                "azdata_cell_guid": "a847f617-1105-4d43-846f-d428896d0fac",
                "tags": [],
                "language": "sql"
            },
            "outputs": [],
            "execution_count": null
        },
        {
            "cell_type": "code",
            "source": [
                "EXEC sp_lock;"
            ],
            "metadata": {
                "azdata_cell_guid": "d24b3995-6ea9-4df4-894b-0ce32131189a",
                "tags": [
                    "hide_input"
                ],
                "language": "sql"
            },
            "outputs": [],
            "execution_count": null
        },
        {
            "cell_type": "markdown",
            "source": [
                "Enough fun - let's reset to where things were..."
            ],
            "metadata": {
                "azdata_cell_guid": "e12243a4-d2c9-4b21-8c2d-2f420406eb5d"
            }
        },
        {
            "cell_type": "code",
            "source": [
                "ROLLBACK TRAN celltocell;"
            ],
            "metadata": {
                "azdata_cell_guid": "54a70580-bfe0-454b-aa84-a72ef1b8d010",
                "tags": [
                    "hide_input"
                ],
                "language": "sql"
            },
            "outputs": [],
            "execution_count": null
        },
        {
            "cell_type": "markdown",
            "source": [
                "Let's confirm that everything has been rolled back."
            ],
            "metadata": {
                "azdata_cell_guid": "d8d14948-07ce-40ec-bb1f-f105d8bcbb6f"
            }
        },
        {
            "cell_type": "code",
            "source": [
                "SELECT p.First_Name, p.Last_Name, ae.Alter_Ego_Name\r\n",
                "FROM Person as p \r\n",
                "    JOIN Alter_Ego_Person as aep ON p.Person_ID = aep.Person_ID\r\n",
                "    JOIN Alter_Ego as ae ON aep.Alter_Ego_ID = ae.Alter_Ego_ID\r\n",
                "WHERE p.Last_Name = 'Melkin';"
            ],
            "metadata": {
                "azdata_cell_guid": "e097a99c-6130-4261-88d1-b34140c5ac3b",
                "tags": [],
                "language": "sql"
            },
            "outputs": [],
            "execution_count": null
        },
        {
            "cell_type": "markdown",
            "source": [
                "## SELECT vs PRINT\r\n",
                "Is there a difference between SELECT and PRINT?"
            ],
            "metadata": {
                "azdata_cell_guid": "df7d93c2-7046-4aea-98fa-b762cc53f6ef"
            }
        },
        {
            "cell_type": "code",
            "source": [
                "SELECT 'Let''s find out...'"
            ],
            "metadata": {
                "azdata_cell_guid": "73b773c5-73a7-4cc7-a779-56123c141412",
                "tags": [
                    "hide_input"
                ],
                "language": "sql"
            },
            "outputs": [],
            "execution_count": null
        },
        {
            "cell_type": "code",
            "source": [
                "PRINT 'Where''s the fun in that?'"
            ],
            "metadata": {
                "azdata_cell_guid": "8bd42089-9332-4805-8dd9-fbda6906216a",
                "tags": [
                    "hide_input"
                ],
                "language": "sql"
            },
            "outputs": [],
            "execution_count": null
        }
    ]
}