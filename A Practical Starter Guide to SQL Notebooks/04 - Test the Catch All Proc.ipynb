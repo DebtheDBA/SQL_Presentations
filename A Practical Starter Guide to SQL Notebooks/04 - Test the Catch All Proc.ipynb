{
    "metadata": {
        "kernelspec": {
            "name": "SQL",
            "display_name": "SQL",
            "language": "sql"
        },
        "language_info": {
            "name": "sql",
            "version": ""
        }
    },
    "nbformat_minor": 2,
    "nbformat": 4,
    "cells": [
        {
            "cell_type": "markdown",
            "source": [
                "# Troubleshooting the Stored Proc\r\n",
                "I have had many cases where I've need to create some sort of dynamic stored proc - either because the client had choices in which columns they wanted to display or we needed to handle a \"catch-all\" query\r\n",
                "\r\n",
                "**Scenario**\r\n",
                "We have a catch all search query in our stored procedure, _<mark>Return_The_Catch_All_Search</mark>_, and we know there will be bugs in this. This notebook aims for us to do the following:\r\n",
                "* Make sure we know what the different options and what are returned for each. \r\n",
                "* Use the @debug feature to troubleshoot issues.\r\n",
                "* Set up reuseable code for fixing any bugs or adding new functionality for the stored procedure.\r\n",
                ""
            ],
            "metadata": {
                "azdata_cell_guid": "5e1f36bb-2d89-4f0d-818b-0e1f0b41f40d"
            }
        },
        {
            "cell_type": "markdown",
            "source": [
                "Run the query, displaying all the options and the defaults that are built into the parameters:"
            ],
            "metadata": {
                "azdata_cell_guid": "cbb99114-3d45-41a3-873f-3d0b098c8483"
            }
        },
        {
            "cell_type": "code",
            "source": [
                "EXEC Return_The_Catch_All_Search \r\n",
                "\t@LastName\t= NULL,\r\n",
                "\t@FirstName\t= NULL,\r\n",
                "\t@AlterEgo\t= NULL,\r\n",
                "\t@IncludePastEgos = 0, \r\n",
                "\t@IncludeAvgCitizen = 1,\r\n",
                "\t@IncludeOrders\t= 0,\r\n",
                "\t@ComicUniverse  = NULL"
            ],
            "metadata": {
                "azdata_cell_guid": "a7e1e492-af3c-4709-b3e1-a47709a98437"
            },
            "outputs": [],
            "execution_count": null
        },
        {
            "cell_type": "markdown",
            "source": [
                "That's how the application will run it. There's a @debug parameter that's set to 0 by default. Here's what happens when you turn it on:"
            ],
            "metadata": {
                "azdata_cell_guid": "1fac472e-eb8c-48fc-b5d5-5ad471edb4c1"
            }
        },
        {
            "cell_type": "code",
            "source": [
                "EXEC Return_The_Catch_All_Search @Debug = 1"
            ],
            "metadata": {
                "azdata_cell_guid": "6d0faf40-f161-46e0-b77e-0c03430ca8d7"
            },
            "outputs": [],
            "execution_count": null
        },
        {
            "cell_type": "markdown",
            "source": [
                "These scenarios should always be run to confirm if the procedure is returning data properly:\r\n",
                "\r\n",
                "* @LastName returns just the last name.\r\n",
                "* @IncludeAvgCitizen will include anyone listed as an Average Citizen.\r\n",
                "* @IncludeOrders will add an additional field with the total of all of that person's order.\r\n",
                "* @AlterEgo will return just the person who is that alter ego.\r\n",
                "    * @IncludePastEgos will return everyone who had been that alter ego. The Alter_Ego_Name should display their current Alter_Ego_Name value.\r\n",
                "\r\n",
                "Create a separate cell for each of these conditions to confirm.\r\n",
                "*****************"
            ],
            "metadata": {
                "azdata_cell_guid": "e4824b78-09e0-4058-8ee9-3dc63af520da"
            }
        },
        {
            "cell_type": "markdown",
            "source": [
                "* @LastName returns just the last name."
            ],
            "metadata": {
                "azdata_cell_guid": "5038dedd-d3da-48cd-a9a4-76366e439938"
            }
        },
        {
            "cell_type": "code",
            "source": [
                "EXEC Return_The_Catch_All_Search @LastName = 'Munroe'"
            ],
            "metadata": {
                "azdata_cell_guid": "13c786b0-c132-497f-9070-ccecab7cc8a2"
            },
            "outputs": [],
            "execution_count": null
        },
        {
            "cell_type": "markdown",
            "source": [
                "* @IncludeAvgCitizen will include anyone listed as an Average Citizen."
            ],
            "metadata": {
                "azdata_cell_guid": "77a9a2e6-d000-412e-9919-bfc9de4108a5"
            }
        },
        {
            "cell_type": "code",
            "source": [
                "EXEC Return_The_Catch_All_Search @IncludeAvgCitizen = 1\r\n",
                "EXEC Return_The_Catch_All_Search @includeAvgCitizen = 0"
            ],
            "metadata": {
                "azdata_cell_guid": "a057a3bd-3d87-47a0-8ec0-82d95ff1040e"
            },
            "outputs": [],
            "execution_count": null
        },
        {
            "cell_type": "markdown",
            "source": [
                "* @IncludeOrders will add an additional field with the total of all of that person's order."
            ],
            "metadata": {
                "azdata_cell_guid": "299b11e0-0450-4dff-b03f-72d37ba29ce2"
            }
        },
        {
            "cell_type": "code",
            "source": [
                "EXEC Return_The_Catch_All_Search @IncludeOrders = 1"
            ],
            "metadata": {
                "azdata_cell_guid": "b8640002-3e04-4c92-a3cd-a5645870a70c"
            },
            "outputs": [],
            "execution_count": null
        },
        {
            "cell_type": "markdown",
            "source": [
                "* @AlterEgo will return just the person who is that alter ego.\r\n",
                "    * @IncludePastEgos will return everyone who had been that alter ego. The Alter_Ego_Name should display their current Alter_Ego_Name value."
            ],
            "metadata": {
                "azdata_cell_guid": "6d86d368-2f35-4ea4-9dfc-880f83faf169"
            }
        },
        {
            "cell_type": "code",
            "source": [
                "EXEC Return_The_Catch_All_Search @AlterEgo = 'Wonder Woman'\r\n",
                "EXEC Return_The_Catch_All_Search @AlterEgo = 'Wonder Woman', @IncludePastEgos = 1"
            ],
            "metadata": {
                "azdata_cell_guid": "61f1d360-490f-4f38-b848-29d9800dc890",
                "tags": []
            },
            "outputs": [],
            "execution_count": null
        },
        {
            "cell_type": "markdown",
            "source": [
                "That last result set failed. Debug to find out why:"
            ],
            "metadata": {
                "azdata_cell_guid": "535130c3-3000-4c86-a4ca-a31772b19c43"
            }
        },
        {
            "cell_type": "code",
            "source": [
                "EXEC Return_The_Catch_All_Search @AlterEgo = 'Wonder Woman', @IncludePastEgos = 1, @debug = 1"
            ],
            "metadata": {
                "azdata_cell_guid": "52fccab2-50d7-436c-8916-de7a0369cec9"
            },
            "outputs": [],
            "execution_count": null
        },
        {
            "cell_type": "markdown",
            "source": [
                "Take the text that was returned from the output of the stored procedure and paste it below to test.\r\n",
                "\r\n",
                "Use this one cell to test just this code to see what you were getting and what you should be without having to go back and forth between screens or constantly rerunning the original query. \r\n",
                "\r\n",
                "Now, which way do we want to do this?"
            ],
            "metadata": {
                "azdata_cell_guid": "c3e71894-4461-4d8a-8f00-faf70aece2ac"
            }
        },
        {
            "cell_type": "code",
            "source": [
                "-- insert the code here. "
            ],
            "metadata": {
                "azdata_cell_guid": "0aaa9c8e-4308-4e32-ade7-e86fb479b182"
            },
            "outputs": [],
            "execution_count": null
        },
        {
            "cell_type": "markdown",
            "source": [
                "Now that we have the fix, we can work with the guts of the stored proc here:"
            ],
            "metadata": {
                "azdata_cell_guid": "bd4e78e8-123c-4178-9029-341423e4e244"
            }
        },
        {
            "cell_type": "code",
            "source": [
                "-- these are the stored proc parameters:\r\n",
                "DECLARE \r\n",
                "\t@LastName\tvarchar(50) = NULL,\r\n",
                "\t@FirstName\tvarchar(50) = NULL,\r\n",
                "\t@AlterEgo\tvarchar(50) = NULL,\r\n",
                "\t@IncludePastEgos bit = 0, \r\n",
                "\t@IncludeAvgCitizen bit\t= 1,\r\n",
                "\t@IncludeOrders\tbit = 0,\r\n",
                "\t@ComicUniverse varchar(50) = NULL,\r\n",
                "\t@Debug bit = 1\r\n",
                "\r\n",
                "-- inside of the stored proc is here:\t\r\n",
                "DECLARE @sql nvarchar(max)\r\n",
                "\r\n",
                "SELECT @sql = '\r\n",
                "SELECT p.First_Name, p.Last_Name, ae.Alter_Ego_Name' \r\n",
                "+ CASE WHEN @IncludeOrders = 1 \r\n",
                "\t\tTHEN char(13) + char(10) + char(9) + ', SUM(Total_Due) as All_Orders_Total_Due'\r\n",
                "\t\tELSE ''\r\n",
                "\tEND\r\n",
                "+ '\r\n",
                "FROM Person as p\r\n",
                "\tJOIN ' \r\n",
                "+ CASE WHEN @IncludePastEgos = 1 AND @AlterEgo IS NOT NULL \r\n",
                "\tTHEN '(\r\n",
                "\t\tSELECT distinct Person_ID, Alter_Ego_ID \r\n",
                "\t\tFROM Alter_Ego_Person FOR System_Time ALL\r\n",
                "\t\t) '\r\n",
                "\tELSE 'Alter_Ego_Person '\r\n",
                "\tEND\r\n",
                "+ 'as aep ON p.Person_ID = aep.Person_ID\r\n",
                "\tJOIN Alter_Ego as ae ON ae.Alter_Ego_ID = aep.Alter_Ego_ID'\r\n",
                "+ CASE WHEN @ComicUniverse IS NOT NULL \r\n",
                "\tTHEN char(13) + char(10) + char(9) + 'JOIN Comic_Universe as cu ON ae.Comic_Universe_ID = cu.Comic_Universe_ID'\r\n",
                "\tELSE ''\r\n",
                "END\r\n",
                "+ CASE WHEN @IncludeOrders = 1\r\n",
                "\tTHEN char(13) + char(10) + char(9) + 'LEFT JOIN Gadget_Order_Form as gof ON gof.Person_ID = p.Person_ID '\r\n",
                "\tELSE ''\r\n",
                "END\r\n",
                "+ '\r\n",
                "WHERE 1 = 1 ' -- adding this to make it easier to dynamically add WHERE conditions\r\n",
                "+ CASE WHEN @LastName IS NOT NULL\r\n",
                "\tTHEN char(13) + char(10) + 'AND p.Last_Name = ''' + TRIM(@LastName) + ''''\r\n",
                "\tELSE ''\r\n",
                "END\r\n",
                "+ CASE WHEN @FirstName IS NOT NULL\r\n",
                "\tTHEN char(13) + char(10) + 'AND p.First_Name = ''' + TRIM(@FirstName) + ''''\r\n",
                "\tELSE ''\r\n",
                "END\r\n",
                "+ CASE WHEN @AlterEgo IS NOT NULL\r\n",
                "\tTHEN char(13) + char(10) + 'AND ae.Alter_Ego_Name = ''' + TRIM(@AlterEgo) + ''''\r\n",
                "\tELSE ''\r\n",
                "END\r\n",
                "+ CASE WHEN @ComicUniverse IS NOT NULL \r\n",
                "\tTHEN char(13) + char(10) + 'AND cu.Comic_Universe_Name = ''' + TRIM(@ComicUniverse) + ''''\r\n",
                "\tELSE ''\r\n",
                "END\r\n",
                "+ CASE WHEN @IncludeAvgCitizen = 0\r\n",
                "\tTHEN char(13) + char(10) + 'AND ae.Alter_Ego_Name <> ''Average Citizen'''\r\n",
                "\tELSE ''\r\n",
                "END \r\n",
                "+ '\r\n",
                "GROUP BY p.First_Name, p.Last_Name, ae.Alter_Ego_Name\r\n",
                "ORDER BY p.Last_Name'\r\n",
                "\r\n",
                "IF @Debug = 1\r\n",
                "\tPRINT @sql\r\n",
                "\r\n",
                "EXEC sp_executesql @sql"
            ],
            "metadata": {
                "azdata_cell_guid": "3e8a6f50-4b53-46d1-9723-2a85c0a34aae",
                "tags": []
            },
            "outputs": [],
            "execution_count": null
        },
        {
            "cell_type": "markdown",
            "source": [
                "Now that the code is fixed and can be proved that it's fixed, transfer into the stored procedure script and run it. The file can be found at \"..\\Superhero Demo DB Setup\\13 - PR - Return_The_Catch_All_Search.sql\" (Adjust path for your setup.)\r\n",
                "\r\n",
                "After the stored procedure has been fixed, rerun the test to confirm:"
            ],
            "metadata": {
                "azdata_cell_guid": "41f1a247-b742-4782-95b7-7cbdafc4bf6a"
            }
        },
        {
            "cell_type": "code",
            "source": [
                "EXEC Return_The_Catch_All_Search @AlterEgo = 'Wonder Woman'\r\n",
                "EXEC Return_The_Catch_All_Search @AlterEgo = 'Wonder Woman', @IncludePastEgos = 1"
            ],
            "metadata": {
                "azdata_cell_guid": "01e74986-d51e-40d2-a099-c98dd797df06"
            },
            "outputs": [],
            "execution_count": null
        }
    ]
}