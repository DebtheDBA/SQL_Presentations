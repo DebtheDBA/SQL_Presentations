{
 "cells": [
  {
   "cell_type": "markdown",
   "metadata": {},
   "source": [
    "# <u> Reset Test Environment </u>\n",
    "\n",
    "This notebook will use C#, SQL and PowerShell\n",
    "\n",
    "\n",
    "Use this notebook to reset my test environment for the \"Practical Starter Guide to SQL Notebooks\" session.\n",
    "\n",
    "<b>NOTE:</b> This works best if no tools are open and this tool has everything closed as well."
   ]
  },
  {
   "cell_type": "markdown",
   "metadata": {
    "dotnet_interactive": {
     "language": "csharp"
    }
   },
   "source": [
    "Pull down the .NET interactive packages for connecting to SQL Server before starting:"
   ]
  },
  {
   "cell_type": "code",
   "execution_count": null,
   "metadata": {
    "dotnet_interactive": {
     "language": "csharp"
    },
    "vscode": {
     "languageId": "dotnet-interactive.csharp"
    }
   },
   "outputs": [],
   "source": [
    "#r \"nuget:Microsoft.DotNet.Interactive.SqlServer,*-*\""
   ]
  },
  {
   "cell_type": "markdown",
   "metadata": {},
   "source": [
    "## <u> SQL Server clean up:</u>\n",
    "* Drop the SuperheroesPublish database if it exists\n",
    "* Restore the Superheroes back to the original\n",
    "* Drop the notebook job if it exists"
   ]
  },
  {
   "cell_type": "code",
   "execution_count": null,
   "metadata": {
    "dotnet_interactive": {
     "language": "sql"
    },
    "vscode": {
     "languageId": "dotnet-interactive.sql"
    }
   },
   "outputs": [],
   "source": [
    "#!connect mssql --kernel-name mydatabase \"Persist Security Info=False; Integrated Security=true; Initial Catalog=master; Server=debthedba\\sql2019\""
   ]
  },
  {
   "cell_type": "code",
   "execution_count": null,
   "metadata": {
    "dotnet_interactive": {
     "language": "sql"
    },
    "vscode": {
     "languageId": "dotnet-interactive.sql"
    }
   },
   "outputs": [],
   "source": [
    "#!sql-mydatabase\n",
    "IF EXISTS (SELECT * FROM sys.databases WHERE Name = 'SuperheroesPublish')\n",
    "DROP DATABASE SuperheroesPublish"
   ]
  },
  {
   "cell_type": "code",
   "execution_count": null,
   "metadata": {
    "dotnet_interactive": {
     "language": "sql"
    },
    "vscode": {
     "languageId": "dotnet-interactive.sql"
    }
   },
   "outputs": [],
   "source": [
    "#!sql-mydatabase\n",
    "\n",
    "DECLARE @session varchar(30), @backupfile nvarchar(300), @today DATE = getdate()\n",
    "\n",
    "SELECT @Session = 'PracticalStarterGuide'\n",
    "SELECT @backupfile = 'C:\\GitRepo\\SQL_Presentations\\Superhero Demo DB Setup\\Superheroes_SQL2019_' + @Session + '_Initial.BAK'\n",
    "SELECT @backupfile\n",
    "\n",
    "DECLARE @backuplogname nvarchar(50) = 'Superheroes_LogBackup' + convert(varchar(10), @today) + '.BAK'\n",
    "\n",
    "RESTORE DATABASE [Superheroes] \n",
    "FROM  DISK = @backupfile WITH  FILE = 1,  NOUNLOAD,  REPLACE,  STATS = 5\n"
   ]
  },
  {
   "cell_type": "code",
   "execution_count": null,
   "metadata": {
    "dotnet_interactive": {
     "language": "sql"
    },
    "vscode": {
     "languageId": "dotnet-interactive.sql"
    }
   },
   "outputs": [],
   "source": [
    "#!sql-mydatabase\n",
    "\n",
    "IF EXISTS (SELECT * FROM sys.server_event_sessions WHERE name = 'Summit2021')\n",
    "DROP EVENT SESSION [Summit2021] ON SERVER \n",
    "GO"
   ]
  },
  {
   "cell_type": "markdown",
   "metadata": {},
   "source": [
    "## <u> Directory Clean Up: </u>\n",
    "\n",
    "Clean up directories\n",
    "* Delete the database project directory \n",
    "* Remove the docker container\n"
   ]
  },
  {
   "cell_type": "code",
   "execution_count": null,
   "metadata": {
    "dotnet_interactive": {
     "language": "pwsh"
    },
    "vscode": {
     "languageId": "dotnet-interactive.pwsh"
    }
   },
   "outputs": [],
   "source": [
    "$dbprojlocation = \"C:\\GitRepo\\SQL_Presentations\\A Practical Starter Guide to SQL Notebooks\"\n",
    "\n",
    "Get-ChildItem -Path $dbprojlocation | WHERE {$_.Name -like 'Superheroes*'} | ForEach-Object {\n",
    "    $name = $_.FullName\n",
    "\n",
    "    write-host \"Removing item $name ...\"\n",
    "    Remove-Item $name -Recurse -Force\n",
    "}"
   ]
  },
  {
   "cell_type": "code",
   "execution_count": null,
   "metadata": {
    "dotnet_interactive": {
     "language": "pwsh"
    },
    "vscode": {
     "languageId": "dotnet-interactive.pwsh"
    }
   },
   "outputs": [
    {
     "name": "stdout",
     "output_type": "stream",
     "text": [
      "ChoosingTheRightTool\r\n",
      "ChoosingTheRightTool\r\n"
     ]
    }
   ],
   "source": [
    "docker container stop PracticalStarterGuide\n",
    "docker rm PracticalStarterGuide"
   ]
  },
  {
   "cell_type": "markdown",
   "metadata": {},
   "source": [
    "Open the following websites in a browser:\n",
    "\n",
    "<a link = \"https://dbatools.io/commands/\"> https://dbatools.io/commands/ </a><br>\n",
    "<a link = \"https://www.ssmstoolspack.com/\"> https://www.ssmstoolspack.com/ </a><br>\n",
    "<a link = \"https://am2.co/2018/02/updated-cheat-sheet/\"> https://am2.co/2018/02/updated-cheat-sheet/ </a>\n"
   ]
  }
 ],
 "metadata": {
  "kernelspec": {
   "display_name": ".NET (C#)",
   "language": "C#",
   "name": ".net-csharp"
  },
  "language_info": {
   "name": "C#"
  }
 },
 "nbformat": 4,
 "nbformat_minor": 2
}
