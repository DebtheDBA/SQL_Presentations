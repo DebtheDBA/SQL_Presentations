{
    "metadata": {
        "kernelspec": {
            "name": "powershell",
            "display_name": "PowerShell",
            "language": "powershell"
        },
        "language_info": {
            "name": "powershell",
            "codemirror_mode": "shell",
            "mimetype": "text/x-sh",
            "file_extension": ".ps1"
        }
    },
    "nbformat_minor": 2,
    "nbformat": 4,
    "cells": [
        {
            "cell_type": "markdown",
            "source": [
                "# Create Docker Container and Deploy dacpac Test\n",
                "\n",
                "We need to create a repeatable test scenario to test the deployment of our database project.\n",
                "\n",
                "This involves setting up a docker container that we can have as the target.\n",
                "\n",
                "Steps:\n",
                "\n",
                "1. Confirm if the docker container exists\n",
                "2. If not, create \n",
                "3. Start the docker container\n",
                "4. Use dbatools to create and deploy the dacpac to the container"
            ],
            "metadata": {
                "azdata_cell_guid": "8765ad10-5e38-4051-9349-ffaa6455eb78"
            },
            "attachments": {}
        },
        {
            "cell_type": "markdown",
            "source": [
                "Set the parameters for the container:"
            ],
            "metadata": {
                "azdata_cell_guid": "c641cda6-6168-4ded-8359-e3fc3b2bd33c"
            },
            "attachments": {}
        },
        {
            "cell_type": "code",
            "source": [
                "$containername = 'PracticalStarterGuide'\n",
                "$port = \"2022:1433\" # the first value is the port we connect to. 1433 is the port internally to docker\n",
                "$password = 'Ch@ngeM3S00n!'\n",
                "$dacpaclocation = 'C:\\GitRepo\\SQL_Presentations\\A Practical Starter Guide to SQL Notebooks\\SuperheroesDacPac\\Superheroes.dacpac'\n",
                ""
            ],
            "metadata": {
                "azdata_cell_guid": "ca57a082-23b5-4b62-9c0f-c8e298a96665",
                "language": "powershell",
                "tags": []
            },
            "outputs": [],
            "execution_count": null
        },
        {
            "cell_type": "markdown",
            "source": [
                "Create the secure credential to be used below:\n",
                "\n",
                "Borrowing heavily from [https://adamtheautomator.com/powershell-get-credential/](https://adamtheautomator.com/powershell-get-credential/)"
            ],
            "metadata": {
                "azdata_cell_guid": "a554192e-3c70-4e9c-8f6b-254dad44689a"
            },
            "attachments": {}
        },
        {
            "cell_type": "code",
            "source": [
                "$newpassword = ConvertTo-SecureString $password -AsPlainText -Force\n",
                "$credential = New-Object System.Management.Automation.PSCredential ('sa', $newpassword)"
            ],
            "metadata": {
                "azdata_cell_guid": "f333f194-3c89-466a-b983-7db4244dc580",
                "tags": [],
                "language": "powershell"
            },
            "outputs": [],
            "execution_count": null
        },
        {
            "cell_type": "markdown",
            "source": [
                "Start by checking to see if the container exists"
            ],
            "metadata": {
                "azdata_cell_guid": "305d2e58-a9f8-4a21-b83a-ada437dab2a2"
            },
            "attachments": {}
        },
        {
            "cell_type": "code",
            "source": [
                "[System.Collections.ArrayList]$allcontainers = @()\n",
                "\n",
                "# for all the containers....\n",
                "docker container ls --format '{{.Names}}' -a | ForEach-Object {\n",
                "    $cname = $_\n",
                "\n",
                "    # get the status\n",
                "    $cstatus = docker ps -f \"name=$cname\" --format '{{.Names}}'\n",
                "    if ($cstatus) {$cstatus = $true} else {$cstatus = $false}\n",
                "\n",
                "    # get the port\n",
                "    $cport = docker container inspect \"$cname\" --format '{{.HostConfig.PortBindings}}'\n",
                "    $cport = $cport.substring($cport.length - 7, 4)\n",
                "\n",
                "    # add them to the array\n",
                "    $allcontainersval = [PSCustomObject]@{'ContainerName'=$cname;'Port'=$cport;'ContainerRunning'=$cstatus}\n",
                "    $allcontainers.add($allcontainersval) | Out-Null\n",
                "    \n",
                "}\n",
                "\n",
                "$allcontainers"
            ],
            "metadata": {
                "azdata_cell_guid": "62b38781-fca7-4664-9b1d-cb1e515681cd",
                "language": "powershell"
            },
            "outputs": [],
            "execution_count": null
        },
        {
            "cell_type": "markdown",
            "source": [
                "Check to see if we need to create the specific container"
            ],
            "metadata": {
                "azdata_cell_guid": "c47c5f55-589f-4bf8-bf93-6dadfd2cf021"
            },
            "attachments": {}
        },
        {
            "cell_type": "code",
            "source": [
                "if ($allcontainers | where {$_.ContainerName -eq $ContainerName}) {\n",
                "    $CreateContainer = $false\n",
                "\n",
                "    #see if it's running\n",
                "    $isrunning = $allcontainers | Where {$_.ContainerName -eq $ContainerName} | SELECT ContainerRunning\n",
                "\n",
                "    #if the container is started, set the flag to not start it and end other work\n",
                "    if ($isrunning -eq $true) {\n",
                "        $stopProcess = $true\n",
                "        Write-Host \"$ContainerName container exists and is already running.\"\n",
                "    }\n",
                "    else {\n",
                "        $StartContainer = $true\n",
                "        $stopProcess = $false\n",
                "        Write-Host \"$ContainerName container exists but is not running\"\n",
                "    }\n",
                "} else {\n",
                "    $CreateContainer = $true\n",
                "    $StartContainer = $true\n",
                "    $stopProcess = $false\n",
                "    Write-Host \"$ContainerName container does not exist and needs to be created.\"\n",
                "}"
            ],
            "metadata": {
                "azdata_cell_guid": "e1a5622f-6366-4d9f-9613-86e1680e4e59",
                "tags": [],
                "language": "powershell"
            },
            "outputs": [],
            "execution_count": null
        },
        {
            "cell_type": "markdown",
            "source": [
                "Create the container if needed"
            ],
            "metadata": {
                "azdata_cell_guid": "c62922c4-55d4-41dd-84ee-168491af0fcf"
            },
            "attachments": {}
        },
        {
            "cell_type": "code",
            "source": [
                "if ($CreateContainer -eq $true) {\n",
                "    docker run -e \"ACCEPT_EULA=Y\" -e \"SA_PASSWORD=$password\" `\n",
                "        -p $port --name $containername -h $containername `\n",
                "        -d mcr.microsoft.com/mssql/server:2022-latest\n",
                "    \n",
                "    Write-Host \"Container $ContainerName created and started\"\n",
                "    \n",
                "}"
            ],
            "metadata": {
                "azdata_cell_guid": "7b738bc0-3cf5-40c1-87a3-fedc353f7806",
                "language": "powershell"
            },
            "outputs": [],
            "execution_count": null
        },
        {
            "cell_type": "markdown",
            "source": [
                "Start the container if needed"
            ],
            "metadata": {
                "azdata_cell_guid": "e33f2c96-e68e-4d39-a991-c300bc105252"
            },
            "attachments": {}
        },
        {
            "cell_type": "code",
            "source": [
                "if ($StartContainer -eq $true) {\n",
                "    docker container start $containername\n",
                "\n",
                "    Write-Host \"Starting container $ContainerName\"\n",
                "}"
            ],
            "metadata": {
                "azdata_cell_guid": "dd032602-9d2d-4ba2-be42-e2afbd56bce9",
                "tags": [],
                "language": "powershell"
            },
            "outputs": [],
            "execution_count": null
        },
        {
            "cell_type": "markdown",
            "source": [
                "Make sure the dacpac is there by creating it from the database"
            ],
            "metadata": {
                "azdata_cell_guid": "a2c88e0a-3ff8-4604-8fd1-7c55d84cf5a3"
            },
            "attachments": {}
        },
        {
            "cell_type": "code",
            "source": [
                "Export-DbaDacPackage -SqlInstance debthedba\\sql2019 -Database Superheroes -FilePath $dacpaclocation"
            ],
            "metadata": {
                "azdata_cell_guid": "893f91cf-b130-4169-9d50-af78503876e5",
                "language": "powershell"
            },
            "outputs": [],
            "execution_count": null
        },
        {
            "cell_type": "markdown",
            "source": [
                "Deploy dacpac to the docker container using dbatools:\n",
                "\n",
                "Taking this from the first example from the dbatools [Publish-DbaDacPackage](https://docs.dbatools.io/Publish-DbaDacPackage) information page directly."
            ],
            "metadata": {
                "azdata_cell_guid": "a0061e6b-3de3-446a-a9f3-70c6e18eef41"
            },
            "attachments": {}
        },
        {
            "cell_type": "code",
            "source": [
                "Start-Sleep -Seconds 10\n",
                "\n",
                "$options = New-DbaDacOption -Type Dacpac -Action Publish\n",
                "$options.DeployOptions.DropObjectsNotInSource = $true\n",
                "Publish-DbaDacPackage -SqlInstance 'host.docker.internal,2022' -Database Superheroes -DacOption $options -Path $dacpaclocation -SqlCredential $credential"
            ],
            "metadata": {
                "azdata_cell_guid": "2b80308c-fb45-435d-9d66-b54c24bdde5d",
                "tags": [],
                "language": "powershell"
            },
            "outputs": [],
            "execution_count": null
        }
    ]
}