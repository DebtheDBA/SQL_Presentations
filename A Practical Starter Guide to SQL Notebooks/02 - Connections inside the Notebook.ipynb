{
    "metadata": {
        "kernelspec": {
            "name": "SQL",
            "display_name": "SQL",
            "language": "sql"
        },
        "language_info": {
            "name": "sql",
            "version": ""
        }
    },
    "nbformat_minor": 2,
    "nbformat": 4,
    "cells": [
        {
            "cell_type": "markdown",
            "source": [
                "# How do the connections work within the cells\r\n",
                "* How do we know which database we're using\r\n",
                "* How do we know which server we're using and how will that transfer?\r\n",
                "* Can we handle multiple connections in the same file?\r\n",
                ""
            ],
            "metadata": {
                "azdata_cell_guid": "5d0776aa-6fe6-4487-b9d3-ace2027f6b9b"
            }
        },
        {
            "cell_type": "markdown",
            "source": [
                "## Where are we starting from?\r\n",
                "In Management Studio, we have a pretty easy way to identify where we are. But look at the top of the screen - we don't see that here.\r\n",
                "\r\n",
                "So how does that work?"
            ],
            "metadata": {
                "azdata_cell_guid": "3094ede1-ca32-4c82-b6c1-9310803166e2"
            }
        },
        {
            "cell_type": "code",
            "source": [
                "SELECT db_name();"
            ],
            "metadata": {
                "azdata_cell_guid": "355702d0-4f36-45ad-aba8-e4f5eceff189",
                "language": "sql"
            },
            "outputs": [],
            "execution_count": null
        },
        {
            "cell_type": "markdown",
            "source": [
                "What happens when we change databases?"
            ],
            "metadata": {
                "azdata_cell_guid": "327fc7fd-f0cf-401f-856b-3efd247c6381"
            }
        },
        {
            "cell_type": "code",
            "source": [
                "USE Superheroes;"
            ],
            "metadata": {
                "azdata_cell_guid": "e0272f8b-b58e-4431-98a1-d9468bb7a45e",
                "language": "sql"
            },
            "outputs": [],
            "execution_count": null
        },
        {
            "cell_type": "markdown",
            "source": [
                "Are we still where we think we are?"
            ],
            "metadata": {
                "azdata_cell_guid": "c8678a26-aa59-4924-a094-f8e2b2a4ab33"
            }
        },
        {
            "cell_type": "code",
            "source": [
                "SELECT db_name();"
            ],
            "metadata": {
                "azdata_cell_guid": "8e1dcfff-7718-4a75-8aad-ca27e14c6335",
                "language": "sql"
            },
            "outputs": [],
            "execution_count": null
        },
        {
            "cell_type": "markdown",
            "source": [
                "Since each notebook is a batch, it makes sense that the behavior is similar.\r\n",
                "\r\n",
                "But what happens if everything is re-run without changing anything?"
            ],
            "metadata": {
                "azdata_cell_guid": "15bcfe1d-b3ff-48c2-932d-4779b04c678c"
            }
        }
    ]
}